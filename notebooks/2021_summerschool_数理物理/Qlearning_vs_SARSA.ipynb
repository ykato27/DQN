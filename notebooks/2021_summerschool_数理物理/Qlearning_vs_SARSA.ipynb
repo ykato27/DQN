{
 "nbformat": 4,
 "nbformat_minor": 0,
 "metadata": {
  "accelerator": "GPU",
  "colab": {
   "name": "Qlearning_vs_SARSA.ipynb",
   "provenance": [],
   "collapsed_sections": [
    "blIKw7SmGx6J"
   ],
   "toc_visible": true
  },
  "kernelspec": {
   "display_name": "Python 3",
   "language": "python",
   "name": "python3"
  },
  "language_info": {
   "codemirror_mode": {
    "name": "ipython",
    "version": 3
   },
   "file_extension": ".py",
   "mimetype": "text/x-python",
   "name": "python",
   "nbconvert_exporter": "python",
   "pygments_lexer": "ipython3",
   "version": "3.8.2"
  }
 },
 "cells": [
  {
   "cell_type": "markdown",
   "metadata": {
    "id": "HT_F7tYOhUiu"
   },
   "source": [
    "# 強化学習 3日目 @ Summer School 数理物理 2021\n",
    "## Q learningとSARSAの比較\n",
    "- オフポリシー型のQ学習とオンポリシー型のSARSAを学習の様子を比較して、両者の違いを確認する\n",
    "***\n",
    "Tetsuro Morimura, 2021"
   ]
  },
  {
   "cell_type": "markdown",
   "metadata": {
    "id": "q81N-uQwPzJZ"
   },
   "source": [
    "# 準備\n",
    "\n",
    "### パッケージのインポート"
   ]
  },
  {
   "cell_type": "code",
   "metadata": {
    "id": "A951auQcATUM",
    "executionInfo": {
     "status": "ok",
     "timestamp": 1630160426362,
     "user_tz": -540,
     "elapsed": 31,
     "user": {
      "displayName": "tetsuro morimura",
      "photoUrl": "",
      "userId": "05430312071579960704"
     }
    }
   },
   "source": [
    "import numpy as np\n",
    "from matplotlib import pyplot as plt"
   ],
   "execution_count": 1,
   "outputs": []
  },
  {
   "cell_type": "markdown",
   "metadata": {
    "id": "hq4a5CEQgi7b"
   },
   "source": [
    "# 環境の設定\n",
    "\n",
    "### MDPクラスの定義\n",
    "- Environment classのスーパークラス"
   ]
  },
  {
   "cell_type": "code",
   "metadata": {
    "id": "F_e50pknhiBF",
    "executionInfo": {
     "status": "ok",
     "timestamp": 1630160426363,
     "user_tz": -540,
     "elapsed": 30,
     "user": {
      "displayName": "tetsuro morimura",
      "photoUrl": "",
      "userId": "05430312071579960704"
     }
    }
   },
   "source": [
    "## Define MDP (Markov Decision Process) class\n",
    "class MDP:\n",
    "    def __init__(self, state_set, action_set, init_prob, trans_prob, reward_fun):\n",
    "        self.state_set   = state_set\n",
    "        self.action_set  = action_set\n",
    "        self.nstate      = len(state_set)\n",
    "        self.naction     = len(action_set)\n",
    "        self._init_prob  = init_prob\n",
    "        self._trans_prob = trans_prob   #d1:state, d2:action, d3:next_state\n",
    "        self._reward_fun = reward_fun   #d1:state, d2:action\n",
    "        self._state      = None\n",
    "        self._action     = None\n",
    "        self._reward     = None\n",
    "    def set_state(self, state):\n",
    "        self._state  = state\n",
    "    def set_action(self, action):\n",
    "        self._action = action\n",
    "    def get_trans_matrix(self, state):\n",
    "        return np.array(self._trans_prob[state])\n",
    "    def get_reward_vec(self, state):\n",
    "        return np.array(self._reward_fun[state])\n",
    "    def get_state(self):\n",
    "        return self._state\n",
    "    def get_action(self):\n",
    "        return self._action\n",
    "    def get_reward(self):\n",
    "        return self._reward_fun[self._state][self._action]\n",
    "    def get_value_fun(self, gamma, policy): \n",
    "        r_s  = np.zeros(self.nstate)\n",
    "        P_ss = np.zeros((self.nstate,self.nstate))\n",
    "        if np.shape(policy) == (self.nstate,): # deterministic policy\n",
    "            for s in range(self.nstate):\n",
    "                r_s[s]  = self.get_reward_vec(s) [policy[s]]\n",
    "                P_ss[s] = self.get_trans_matrix(s)[policy[s]]\n",
    "        else: # stochastic policy\n",
    "            policy = np.array(policy)\n",
    "            for s in range(self.nstate):\n",
    "                r_s[s]  = np.inner(policy[s], self.get_reward_vec(s))\n",
    "                P_ss[s] = np.inner(policy[s], self.get_trans_matrix(s).T)\n",
    "        value_fun = np.linalg.solve(np.eye(self.nstate)-gamma*P_ss, r_s)  # solve Ax = b \n",
    "        return value_fun\n",
    "    def get_q_value_fun(self, gamma, policy):\n",
    "        value_fun   = self.get_value_fun(gamma, policy)\n",
    "        q_value_fun = np.zeros((self.nstate,self.naction))\n",
    "        for s in range(self.nstate):\n",
    "            r_vector       = self.get_reward_vec(s) \n",
    "            P_matrix       = self.get_trans_matrix(s) # d1:action, d2:next_state\n",
    "            q_value_fun[s] = r_vector + gamma * np.inner(value_fun, P_matrix)\n",
    "        return q_value_fun\n",
    "    def reset(self):\n",
    "        init_state  = np.random.choice(self.state_set, p=self._init_prob)\n",
    "        self._state  = init_state\n",
    "        self._action = None\n",
    "        return init_state\n",
    "    def step(self, action=None):\n",
    "        state = self.get_state()\n",
    "        if action is None:\n",
    "            action = self.get_action()\n",
    "        else:\n",
    "            self.set_action(action)\n",
    "        if state is None or action is None:\n",
    "            raise Exception(\"'state' or/and 'action' is not set!\")\n",
    "        next_state   = np.random.choice(self.state_set, p=self._trans_prob[state][action])\n",
    "        reward       = self.get_reward()\n",
    "        self._state  = next_state\n",
    "        self._reward = reward\n",
    "        self._action = None\n",
    "        return next_state, reward"
   ],
   "execution_count": 2,
   "outputs": []
  },
  {
   "cell_type": "markdown",
   "metadata": {
    "id": "FRLk8bj9___d"
   },
   "source": [
    "### 環境クラスの定義\n",
    "- MDPクラスを継承\n",
    "- 環境が未知であることを保証するため、一部のメソッドを遮蔽"
   ]
  },
  {
   "cell_type": "code",
   "metadata": {
    "id": "_SZ0kBthATcY",
    "executionInfo": {
     "status": "ok",
     "timestamp": 1630160426364,
     "user_tz": -540,
     "elapsed": 30,
     "user": {
      "displayName": "tetsuro morimura",
      "photoUrl": "",
      "userId": "05430312071579960704"
     }
    }
   },
   "source": [
    "## Environment\n",
    "class Environment(MDP):\n",
    "    def set_state(self):\n",
    "        raise Exception(\"This method is not available!\") #自由に状態をリセットできないので\n",
    "    def get_trans_matrix(self):\n",
    "        raise Exception(\"This method is not available!\") #自由に状態をリセットできないので\n",
    "    def get_reward_vec(self):\n",
    "        raise Exception(\"This method is not available!\") #自由に状態をリセットできないので\n",
    "    def get_value_fun(self): \n",
    "        raise Exception(\"This method is not available!\") #自由に状態をリセットできないので\n",
    "    def get_q_value_fun(self): \n",
    "        raise Exception(\"This method is not available!\") #自由に状態をリセットできないので"
   ],
   "execution_count": 3,
   "outputs": []
  },
  {
   "cell_type": "markdown",
   "metadata": {
    "id": "k2o9NodzAqgs"
   },
   "source": [
    "### 環境インスタンスの生成\n",
    " - 3状態2行動MDPの「損して得とれ課題」"
   ]
  },
  {
   "cell_type": "code",
   "metadata": {
    "id": "P2g1zL3jAvYv",
    "executionInfo": {
     "status": "ok",
     "timestamp": 1630160426364,
     "user_tz": -540,
     "elapsed": 30,
     "user": {
      "displayName": "tetsuro morimura",
      "photoUrl": "",
      "userId": "05430312071579960704"
     }
    }
   },
   "source": [
    "## Generate Environment (env) instance\n",
    "state_set  = [0,1,2]\n",
    "action_set = [0,1]\n",
    "init_prob  = [0.6, 0.3, 0.1]\n",
    "trans_prob = np.zeros(len(state_set)*len(action_set)*len(state_set)).reshape(len(state_set), len(action_set), len(state_set)) #d1:state, d2:action, d3:next state\n",
    "trans_prob[0][0] = [1,   0,   0]\n",
    "trans_prob[0][1] = [0.5, 0.5, 0]\n",
    "trans_prob[1][0] = [1,   0,   0] \n",
    "trans_prob[1][1] = [0,   0.5, 0.5]\n",
    "trans_prob[2][0] = [0,   1,   0]\n",
    "trans_prob[2][1] = [1,   0,   0]\n",
    "reward_fun       = [[1.0,   0.0],\n",
    "                    [0.0, -10.0],\n",
    "                    [1.0, 30.0],]   #d1:state, d2:action\n",
    "\n",
    "mdp = MDP(state_set, action_set, init_prob, trans_prob, reward_fun) # 環境未知の時、agentからのアクセスNG\n",
    "env = Environment(state_set, action_set, init_prob, trans_prob, reward_fun)\n",
    "del state_set, action_set, init_prob, trans_prob, reward_fun"
   ],
   "execution_count": 4,
   "outputs": []
  },
  {
   "cell_type": "markdown",
   "metadata": {
    "id": "7LeIx9oEmQpF"
   },
   "source": [
    "### 動作確認\n",
    "- 状態集合，行動集合の確認"
   ]
  },
  {
   "cell_type": "code",
   "metadata": {
    "colab": {
     "base_uri": "https://localhost:8080/"
    },
    "id": "9pCwfa5NRAc5",
    "executionInfo": {
     "status": "ok",
     "timestamp": 1630160426365,
     "user_tz": -540,
     "elapsed": 30,
     "user": {
      "displayName": "tetsuro morimura",
      "photoUrl": "",
      "userId": "05430312071579960704"
     }
    },
    "outputId": "0a62733a-bbad-45ce-c988-ced38797101c"
   },
   "source": [
    "print('state set: ',  env.state_set)\n",
    "print('action set:', env.action_set)"
   ],
   "execution_count": 5,
   "outputs": [
    {
     "output_type": "stream",
     "text": [
      "state set:  [0, 1, 2]\n",
      "action set: [0, 1]\n"
     ],
     "name": "stdout"
    }
   ]
  },
  {
   "cell_type": "markdown",
   "metadata": {
    "id": "785Fzb8_RM0F"
   },
   "source": [
    "- 環境を初期化して、初期観測を確認"
   ]
  },
  {
   "cell_type": "code",
   "metadata": {
    "colab": {
     "base_uri": "https://localhost:8080/"
    },
    "id": "UzgIJ7gNmVzU",
    "executionInfo": {
     "status": "ok",
     "timestamp": 1630160426366,
     "user_tz": -540,
     "elapsed": 29,
     "user": {
      "displayName": "tetsuro morimura",
      "photoUrl": "",
      "userId": "05430312071579960704"
     }
    },
    "outputId": "4c19f5a8-20c0-4d4f-a6f8-5965438ce670"
   },
   "source": [
    "init_state = env.reset() ## 環境の初期化\n",
    "print('initial state:', init_state)"
   ],
   "execution_count": 6,
   "outputs": [
    {
     "output_type": "stream",
     "text": [
      "initial state: 1\n"
     ],
     "name": "stdout"
    }
   ]
  },
  {
   "cell_type": "markdown",
   "metadata": {
    "id": "liakwHy3OZac"
   },
   "source": [
    "- エピソード生成（行動は乱択）"
   ]
  },
  {
   "cell_type": "code",
   "metadata": {
    "colab": {
     "base_uri": "https://localhost:8080/"
    },
    "id": "-5yozCYoma71",
    "executionInfo": {
     "status": "ok",
     "timestamp": 1630160426366,
     "user_tz": -540,
     "elapsed": 20,
     "user": {
      "displayName": "tetsuro morimura",
      "photoUrl": "",
      "userId": "05430312071579960704"
     }
    },
    "outputId": "a5fe11b2-096d-4339-ad3f-b4083d3c7ee2"
   },
   "source": [
    "init_state  = env.reset() \n",
    "\n",
    "max_timestep = 10\n",
    "timestep     = 0\n",
    "\n",
    "print('initial state:', init_state)\n",
    "\n",
    "while timestep < max_timestep:\n",
    "    action             = np.random.choice(env.action_set) ## ランダムな行動選択\n",
    "    next_state, reward = env.step(action) ## 行動を環境に入力して、次状態と報酬を受け取る\n",
    "    # print\n",
    "    print('----------- time step {} --------'.format(timestep))\n",
    "    print('action:', action,\n",
    "          'next state:', next_state,\n",
    "          'reward:', reward)\n",
    "    # update timespte\n",
    "    timestep          +=1\n",
    "    "
   ],
   "execution_count": 7,
   "outputs": [
    {
     "output_type": "stream",
     "text": [
      "initial state: 2\n",
      "----------- time step 0 --------\n",
      "action: 0 next state: 1 reward: 1.0\n",
      "----------- time step 1 --------\n",
      "action: 0 next state: 0 reward: 0.0\n",
      "----------- time step 2 --------\n",
      "action: 1 next state: 1 reward: 0.0\n",
      "----------- time step 3 --------\n",
      "action: 0 next state: 0 reward: 0.0\n",
      "----------- time step 4 --------\n",
      "action: 0 next state: 0 reward: 1.0\n",
      "----------- time step 5 --------\n",
      "action: 0 next state: 0 reward: 1.0\n",
      "----------- time step 6 --------\n",
      "action: 0 next state: 0 reward: 1.0\n",
      "----------- time step 7 --------\n",
      "action: 0 next state: 0 reward: 1.0\n",
      "----------- time step 8 --------\n",
      "action: 1 next state: 1 reward: 0.0\n",
      "----------- time step 9 --------\n",
      "action: 0 next state: 0 reward: 0.0\n"
     ],
     "name": "stdout"
    }
   ]
  },
  {
   "cell_type": "markdown",
   "metadata": {
    "id": "BR4Q2iQbPjkC"
   },
   "source": [
    "# エージェントの設定\n",
    "### RLエージェントクラスの定義\n",
    "- アブストラクトクラス"
   ]
  },
  {
   "cell_type": "code",
   "metadata": {
    "id": "6TwDdxulRplW",
    "executionInfo": {
     "status": "ok",
     "timestamp": 1630160426367,
     "user_tz": -540,
     "elapsed": 12,
     "user": {
      "displayName": "tetsuro morimura",
      "photoUrl": "",
      "userId": "05430312071579960704"
     }
    }
   },
   "source": [
    "## Abstract RL agent class \n",
    "class Agent():\n",
    "    def __init__(self, state_space, action_space, gamma=0.9):\n",
    "        self.state_space  = state_space\n",
    "        self.action_space = action_space\n",
    "        self.gamma        = gamma\n",
    "        self.experiences  = []\n",
    "        self.timestep     = 0\n",
    "\n",
    "    def reset(self):\n",
    "        # エージェントの初期化\n",
    "        raise NotImplementedError(\"class is abstract.\") \n",
    "\n",
    "    def add_experience(self, state, action, reward, next_state):\n",
    "        # 経験データの追加\n",
    "        raise NotImplementedError(\"class is abstract.\") \n",
    "\n",
    "    def policy(self, state):\n",
    "        # 行動選択\n",
    "        raise NotImplementedError(\"class is abstract.\")\n",
    "\n",
    "    def learning(self):\n",
    "        # 学習\n",
    "        raise NotImplementedError(\"class is abstract.\")"
   ],
   "execution_count": 8,
   "outputs": []
  },
  {
   "cell_type": "markdown",
   "metadata": {
    "id": "yV5l4FCEHF7y"
   },
   "source": [
    "### Q学習エージェントクラスの実装\n",
    "- Agentクラスを継承\n",
    "- Q関数: Table形式\n",
    "- 方策: Epsilon-greedy"
   ]
  },
  {
   "cell_type": "code",
   "metadata": {
    "id": "Y76mE2-IL_m7",
    "executionInfo": {
     "status": "ok",
     "timestamp": 1630160426367,
     "user_tz": -540,
     "elapsed": 12,
     "user": {
      "displayName": "tetsuro morimura",
      "photoUrl": "",
      "userId": "05430312071579960704"
     }
    }
   },
   "source": [
    "## Q-learning agent (tabular version with epsilon-greedy policy)\n",
    "class TabularQlearning(Agent):\n",
    "    def __init__(self, state_space, action_space, gamma=0.9, epsilon=[100., 100.],alpha=[200., 200.]):\n",
    "        super().__init__(state_space, action_space, gamma)\n",
    "        self.nstate  = len(state_space) \n",
    "        self.naction = len(action_space)\n",
    "        self.q_fun   = np.random.randn(self.nstate, self.naction) / 1000\n",
    "        self.epsilon = epsilon # hyper-param for e-greedy\n",
    "        self.alpha   = alpha   # hyper-hparam for learning rate\n",
    "\n",
    "    def reset(self, q_bias=0.):\n",
    "        self.timestep    = 0\n",
    "        self.experiences = []\n",
    "        self.q_fun       = np.random.randn(self.nstate, self.naction) / 1000 + q_bias\n",
    "\n",
    "\n",
    "    def add_experience(self, state, action, reward, next_state):\n",
    "        self.experiences = [state, action, reward, next_state]\n",
    "\n",
    "\n",
    "    def policy(self, state): #Epsilon-Greedy Agent Policy\n",
    "        # epsilonの設定\n",
    "        if isinstance(self.epsilon, list) != True:\n",
    "            epsilon = self.epsilon\n",
    "        else:\n",
    "            epsilon = self.epsilon[0] / (self.timestep + self.epsilon[1])\n",
    "        # 行動選択\n",
    "        if epsilon <= np.random.uniform():\n",
    "            action = np.argmax(self.q_fun[state])\n",
    "        else:\n",
    "            action = np.random.choice(self.naction)\n",
    "        return action\n",
    "\n",
    "\n",
    "    def learning_rate(self):\n",
    "        if isinstance(self.alpha, list) != True:\n",
    "            learning_rate = self.alpha\n",
    "        else:\n",
    "            learning_rate = self.alpha[0] / (self.timestep + self.alpha[1])\n",
    "        return learning_rate\n",
    "\n",
    "\n",
    "    def learning(self):\n",
    "        state, action, reward, next_state = self.experiences\n",
    "        \n",
    "        td_error = reward + self.gamma * np.max(self.q_fun[next_state]) - self.q_fun[state][action]\n",
    "        self.q_fun[state][action] += self.learning_rate() * td_error "
   ],
   "execution_count": 9,
   "outputs": []
  },
  {
   "cell_type": "markdown",
   "metadata": {
    "id": "0BJN11PkI6R6"
   },
   "source": [
    "### SARSAエージェントクラスの実装\n",
    "- Agentクラスを継承\n",
    "- Q関数: Table形式\n",
    "- 方策: Epsilon-greedy"
   ]
  },
  {
   "cell_type": "code",
   "metadata": {
    "id": "NvGAkhThy8Sj",
    "executionInfo": {
     "status": "ok",
     "timestamp": 1630160426755,
     "user_tz": -540,
     "elapsed": 8,
     "user": {
      "displayName": "tetsuro morimura",
      "photoUrl": "",
      "userId": "05430312071579960704"
     }
    }
   },
   "source": [
    "## SARSA-learning agent (tabular version with epsilon-greedy policy)\n",
    "class TabularSARSA(Agent):\n",
    "    def __init__(self, state_space, action_space, gamma=0.9, epsilon=[100., 100.],alpha=[200., 200.]):\n",
    "        super().__init__(state_space, action_space, gamma)\n",
    "        self.nstate  = len(state_space) \n",
    "        self.naction = len(action_space)\n",
    "        self.q_fun   = np.random.randn(self.nstate, self.naction) / 1000\n",
    "        self.epsilon = epsilon # hyper-param for e-greedy\n",
    "        self.alpha   = alpha   # hyper-hparam for learning rate\n",
    "\n",
    "    def reset(self, q_bias=0.):\n",
    "        self.timestep    = 0\n",
    "        self.experiences = []\n",
    "        self.q_fun       = np.random.randn(self.nstate, self.naction) / 1000 + q_bias\n",
    "\n",
    "\n",
    "    def add_experience(self, state, action, reward, next_state):\n",
    "        self.experiences.append([state, action, reward, next_state])\n",
    "        if len(self.experiences) > 2: \n",
    "            del self.experiences[0]  #delete old experiences\n",
    "\n",
    "    def policy(self, state): #Epsilon-Greedy Agent Policy\n",
    "        # epsilonの設定\n",
    "        if isinstance(self.epsilon, list) != True:\n",
    "            epsilon = self.epsilon\n",
    "        else:\n",
    "            epsilon = self.epsilon[0] / (self.timestep + self.epsilon[1])\n",
    "        # 行動選択\n",
    "        if epsilon <= np.random.uniform():\n",
    "            action = np.argmax(self.q_fun[state])\n",
    "        else:\n",
    "            action = np.random.choice(self.naction)\n",
    "        return action\n",
    "\n",
    "\n",
    "    def learning_rate(self):\n",
    "        if isinstance(self.alpha, list) != True:\n",
    "            learning_rate = self.alpha\n",
    "        else:\n",
    "            learning_rate = self.alpha[0] / (self.timestep + self.alpha[1])\n",
    "        return learning_rate\n",
    "\n",
    "\n",
    "    def learning(self):\n",
    "        if len(self.experiences) == 2:\n",
    "            state, action, reward, _      = self.experiences[0]\n",
    "            next_state, next_action, _, _ = self.experiences[1]\n",
    "        \n",
    "            td_error = reward + self.gamma * self.q_fun[next_state][next_action] - self.q_fun[state][action]\n",
    "            self.q_fun[state][action] += self.learning_rate() * td_error "
   ],
   "execution_count": 10,
   "outputs": []
  },
  {
   "cell_type": "markdown",
   "metadata": {
    "id": "AutU0gvYYR4W"
   },
   "source": [
    "# 実験\n",
    "\n",
    "### 実験パラメータの設定"
   ]
  },
  {
   "cell_type": "code",
   "metadata": {
    "id": "6tL-7G6gJSzA",
    "executionInfo": {
     "status": "ok",
     "timestamp": 1630160426756,
     "user_tz": -540,
     "elapsed": 8,
     "user": {
      "displayName": "tetsuro morimura",
      "photoUrl": "",
      "userId": "05430312071579960704"
     }
    }
   },
   "source": [
    "## Set parameters\n",
    "\n",
    "# param for experiment\n",
    "n_experiment = 500    # num of experiments\n",
    "n_timestep   = 3200  # length of episode\n",
    "\n",
    "# param for agent\n",
    "gamma       = 0.9   # discounting rate\n",
    "alpha       = 0.2   # learning rate\n",
    "epsilon     = 0.5   # epsilon of e-greedy\n",
    "q_val_bias  = 50.   # bias for optimisitic initilization of Q-value"
   ],
   "execution_count": 11,
   "outputs": []
  },
  {
   "cell_type": "markdown",
   "metadata": {
    "id": "KIetG9tXgKbP"
   },
   "source": [
    "### 学習\n",
    "\n",
    "- Q学習"
   ]
  },
  {
   "cell_type": "code",
   "metadata": {
    "colab": {
     "base_uri": "https://localhost:8080/"
    },
    "id": "39dG5yseYqJa",
    "executionInfo": {
     "status": "ok",
     "timestamp": 1630160544797,
     "user_tz": -540,
     "elapsed": 118048,
     "user": {
      "displayName": "tetsuro morimura",
      "photoUrl": "",
      "userId": "05430312071579960704"
     }
    },
    "outputId": "17319d12-d566-4b2f-e205-cb59eebdde33"
   },
   "source": [
    "## Q Learning\n",
    "\n",
    "# generate agent\n",
    "agent = TabularQlearning(env.state_set, env.action_set, gamma=gamma, alpha=alpha, epsilon=epsilon)\n",
    "\n",
    "# prep for storing results\n",
    "rewards_list_qlearn = np.zeros((n_timestep, n_experiment))\n",
    "\n",
    "# main\n",
    "print(\"Q-learning ...\", end=\"\")\n",
    "for n in range(n_experiment):\n",
    "    if n%10==0: print(\".\", end=\"\")\n",
    "\n",
    "    # reset env, agent, and reward series\n",
    "    state = env.reset()\n",
    "    agent.reset(q_bias=q_val_bias) \n",
    "    rewards = []\n",
    "\n",
    "    for t in range(n_timestep):\n",
    "        # interaction with env\n",
    "        action             = agent.policy(state)\n",
    "        next_state, reward = env.step(action)\n",
    "        # update agent\n",
    "        agent.add_experience(state, action, reward, next_state)\n",
    "        agent.learning()\n",
    "        agent.timestep += 1\n",
    "        # update state\n",
    "        state = next_state\n",
    "        # store\n",
    "        rewards.append(reward)\n",
    "\n",
    "    # store results\n",
    "    rewards_list_qlearn[:,n] = rewards\n",
    "\n",
    "print(\" finish !\")"
   ],
   "execution_count": 12,
   "outputs": [
    {
     "output_type": "stream",
     "text": [
      "Q-learning ..................................................... finish !\n"
     ],
     "name": "stdout"
    }
   ]
  },
  {
   "cell_type": "markdown",
   "metadata": {
    "id": "ahynvENuO5xN"
   },
   "source": [
    "- SARSA学習"
   ]
  },
  {
   "cell_type": "code",
   "metadata": {
    "colab": {
     "base_uri": "https://localhost:8080/"
    },
    "id": "FtpwXwuDa7R5",
    "executionInfo": {
     "status": "ok",
     "timestamp": 1630160660820,
     "user_tz": -540,
     "elapsed": 116030,
     "user": {
      "displayName": "tetsuro morimura",
      "photoUrl": "",
      "userId": "05430312071579960704"
     }
    },
    "outputId": "e263f089-2ccd-4403-8931-160e54203123"
   },
   "source": [
    "## SARSA Learning\n",
    "\n",
    "# generate agent\n",
    "agent = TabularSARSA(env.state_set, env.action_set, gamma=gamma, alpha=alpha, epsilon=epsilon)\n",
    "\n",
    "# prep for storing results\n",
    "rewards_list_sarsa = np.zeros((n_timestep, n_experiment))\n",
    "\n",
    "# main\n",
    "print(\"SARSA ...\", end=\"\")\n",
    "for n in range(n_experiment):\n",
    "    if n%10==0: print(\".\", end=\"\")\n",
    "\n",
    "    # reset env, agent, and reward series\n",
    "    state = env.reset()\n",
    "    agent.reset(q_bias=q_val_bias) \n",
    "    rewards = []\n",
    "\n",
    "    for t in range(n_timestep):\n",
    "        # interaction with env\n",
    "        action             = agent.policy(state)\n",
    "        next_state, reward = env.step(action)\n",
    "        # update agent\n",
    "        agent.add_experience(state, action, reward, next_state)\n",
    "        agent.learning()\n",
    "        agent.timestep += 1\n",
    "        # update state\n",
    "        state = next_state\n",
    "        # store\n",
    "        rewards.append(reward)\n",
    "\n",
    "    # store results\n",
    "    rewards_list_sarsa[:,n] = rewards\n",
    "\n",
    "print(\" finish !\")"
   ],
   "execution_count": 13,
   "outputs": [
    {
     "output_type": "stream",
     "text": [
      "SARSA ..................................................... finish !\n"
     ],
     "name": "stdout"
    }
   ]
  },
  {
   "cell_type": "markdown",
   "metadata": {
    "id": "Qy_OSvW8KAa2"
   },
   "source": [
    "### 学習結果の可視化"
   ]
  },
  {
   "cell_type": "code",
   "metadata": {
    "colab": {
     "base_uri": "https://localhost:8080/",
     "height": 276
    },
    "id": "ArOispnoKFoM",
    "executionInfo": {
     "status": "ok",
     "timestamp": 1630160661441,
     "user_tz": -540,
     "elapsed": 639,
     "user": {
      "displayName": "tetsuro morimura",
      "photoUrl": "",
      "userId": "05430312071579960704"
     }
    },
    "outputId": "df80e2bc-b5a0-4852-9d3d-362919cbb1ea"
   },
   "source": [
    "## Visualization\n",
    "t_lim       = 3100\n",
    "window_size = 200\n",
    "\n",
    "# transform rewards to returns\n",
    "return_t_list_qlearn = np.zeros((t_lim,n_experiment))\n",
    "return_t_list_sarsa  = np.zeros((t_lim,n_experiment))\n",
    "for t in reversed(range(t_lim)):\n",
    "    if t==t_lim-1:\n",
    "        geom = gamma ** np.array(range(n_timestep-t))\n",
    "        return_t_list_qlearn[t] = np.dot(geom, rewards_list_qlearn[t:,])\n",
    "        return_t_list_sarsa[t]  = np.dot(geom, rewards_list_sarsa[t:,])\n",
    "    else:\n",
    "        return_t_list_qlearn[t] = rewards_list_qlearn[t] + gamma * return_t_list_qlearn[t+1]\n",
    "        return_t_list_sarsa[t]  = rewards_list_sarsa[t]  + gamma * return_t_list_sarsa[t+1]\n",
    "\n",
    "# compute smoothed averated return\n",
    "v = np.ones(window_size)/window_size # 移動平均をとるための配列vを設定\n",
    "return_t_list_qlearn = np.convolve( np.mean(return_t_list_qlearn, axis=1), v, mode='valid') \n",
    "return_t_list_sarsa  = np.convolve( np.mean(return_t_list_sarsa,  axis=1), v, mode='valid') \n",
    "\n",
    "# plot averaged return over timestep\n",
    "xlim = np.array(range(window_size-1,t_lim)) - window_size/2\n",
    "plt.plot(xlim, return_t_list_qlearn, label='Q learning (off-policy type)')\n",
    "plt.plot(xlim, return_t_list_sarsa, label='SARSA (on-policy type)')\n",
    "plt.legend(bbox_to_anchor=(1.05, 1), loc='upper left', borderaxespad=0, fontsize=12)\n",
    "plt.xlabel('Timestep')\n",
    "plt.ylabel('Smoothed Averaged Return')\n",
    "plt.tick_params(top = True, right = True, direction = 'in')\n",
    "plt.grid(which='both')\n",
    "#plt.ylim(4,8)\n",
    "plt.xlim(0,t_lim)\n",
    "plt.show()"
   ],
   "execution_count": 14,
   "outputs": [
    {
     "output_type": "display_data",
     "data": {
      "image/png": "[encoded data removed]",
      "text/plain": [
       "<Figure size 432x288 with 1 Axes>"
      ]
     },
     "metadata": {
      "needs_background": "light"
     }
    }
   ]
  },
  {
   "cell_type": "markdown",
   "metadata": {
    "id": "bKvOqCHal3Za"
   },
   "source": [
    "### 価値関数の計算\n",
    "- mdpクラス (<- agentは使用禁止)を使用"
   ]
  },
  {
   "cell_type": "code",
   "metadata": {
    "colab": {
     "base_uri": "https://localhost:8080/"
    },
    "id": "Gcg0AWgXmEcX",
    "executionInfo": {
     "status": "ok",
     "timestamp": 1630160661442,
     "user_tz": -540,
     "elapsed": 19,
     "user": {
      "displayName": "tetsuro morimura",
      "photoUrl": "",
      "userId": "05430312071579960704"
     }
    },
    "outputId": "aadcf161-442a-49e7-b3a1-194996292089"
   },
   "source": [
    "## e-greedy policy\n",
    "# param\n",
    "eps = epsilon\n",
    "\n",
    "# set policy\n",
    "p_greedy     = 1 - eps/2\n",
    "p_nongreedy  = eps/2\n",
    "e_policy_001 = [[p_greedy,p_nongreedy], [p_greedy,p_nongreedy], [p_nongreedy,p_greedy]]\n",
    "e_policy_011 = [[p_greedy,p_nongreedy], [p_nongreedy,p_greedy], [p_nongreedy,p_greedy]]\n",
    "e_policy_111 = [[p_nongreedy,p_greedy], [p_nongreedy,p_greedy], [p_nongreedy,p_greedy]]\n",
    "d_policy_opt = [[0., 1.], [0., 1.], [0., 1.]]\n",
    "\n",
    "# print\n",
    "print('V of e_policy_001: ', mdp.get_value_fun(gamma, e_policy_001))\n",
    "#print('V of e_policy_011: ', mdp.get_value_fun(gamma, e_policy_011))\n",
    "print('V of e_policy_111: ', mdp.get_value_fun(gamma, e_policy_111))\n",
    "print('Optimal V:         ', mdp.get_value_fun(gamma, d_policy_opt))\n",
    "print('')\n",
    "print('Q of e_policy_001: \\n', mdp.get_q_value_fun(gamma, e_policy_001))\n",
    "#print('Q of e_policy_011: \\n', mdp.get_q_value_fun(gamma, e_policy_011))\n",
    "print('Q of e_policy_111: \\n', mdp.get_q_value_fun(gamma, e_policy_111))\n",
    "print('Optimal Q:         \\n',   mdp.get_q_value_fun(gamma, d_policy_opt))"
   ],
   "execution_count": 15,
   "outputs": [
    {
     "output_type": "stream",
     "text": [
      "V of e_policy_001:  [ 6.61694888  5.83201456 28.52864377]\n",
      "V of e_policy_111:  [ 1.99194641  1.84141201 24.50888153]\n",
      "Optimal V:          [13.0977131  16.00831601 41.78794179]\n",
      "\n",
      "Q of e_policy_001: \n",
      " [[ 6.955254    5.60203355]\n",
      " [ 5.955254    5.46229625]\n",
      " [ 6.2488131  35.955254  ]]\n",
      "Q of e_policy_111: \n",
      " [[ 2.79275177  1.72501129]\n",
      " [ 1.79275177  1.85763209]\n",
      " [ 2.65727081 31.79275177]]\n",
      "Optimal Q:         \n",
      " [[12.78794179 13.0977131 ]\n",
      " [11.78794179 16.00831601]\n",
      " [15.40748441 41.78794179]]\n"
     ],
     "name": "stdout"
    }
   ]
  },
  {
   "cell_type": "markdown",
   "metadata": {
    "id": "M7rnz37EpVEn"
   },
   "source": [
    "### 考察\n",
    "e-greedy方策(e=0.5)におけるoptimal greedy action=[0,0,1]と、決定的方策での optimal action =[1,1,1]は異なる。\n",
    "- Q学習(オフポリシー型)は真のoptimal actionを学習\n",
    " - 実際はbehavior policyに従い行動選択するが、behavior policyがQ学習のtarget policyと大きく異なる場合、今回の例のようにパフォーマンスが出ないこともある\n",
    "- SARSA(オンポリシー型)はbehaivior policyにおけるoptimal greedy actionを学習\n",
    " - 求まる方策がbehavior policyに依存\n",
    " - behavior policyが決定的方策と大きく異なると、一般に最適方策が求まらない\n",
    "\n",
    " 以上より、以下のように使い分けるのが良いだろう\n",
    " - 学習期間終了後のパフォーマンスを重視　⇒　Q学習 (off-policy)\n",
    " - 学習期間中のパフォーマンスも大切　⇒　SARSA (on-policy)"
   ]
  }
 ]
}