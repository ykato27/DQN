{
 "nbformat": 4,
 "nbformat_minor": 0,
 "metadata": {
  "colab": {
   "name": "DQN_OpenAIGym.ipynb",
   "provenance": [],
   "collapsed_sections": [],
   "machine_shape": "hm"
  },
  "kernelspec": {
   "display_name": "Python 3",
   "language": "python",
   "name": "python3"
  },
  "language_info": {
   "codemirror_mode": {
    "name": "ipython",
    "version": 3
   },
   "file_extension": ".py",
   "mimetype": "text/x-python",
   "name": "python",
   "nbconvert_exporter": "python",
   "pygments_lexer": "ipython3",
   "version": "3.8.2"
  },
  "accelerator": "GPU"
 },
 "cells": [
  {
   "cell_type": "markdown",
   "metadata": {
    "id": "3RAnl3vamhKC"
   },
   "source": [
    "# 強化学習 3日目 @ Summer School 数理物理 2021\n",
    "## Deep Q-network (DQN) の実装\n",
    "- タスクはOpenAIGymのCartPole\n",
    "- 連続状態、２行動の制御問題\n",
    "- Kerasを用いる\n",
    "- RLライブラリを使用しない -> chainerRLを利用したノートブックDQN_OpenAIGym_chainerRL.ipynbもある\n",
    "***\n",
    "Tetsuro Morimura, 2021"
   ]
  },
  {
   "cell_type": "markdown",
   "metadata": {
    "id": "15QjdPJYQdjM"
   },
   "source": [
    "# 準備\n",
    "\n",
    "### Colabランタイムの設定\n",
    "- 始める前に、「ランタイム→ランタイムのタイプの変更」から，アクセラレーターをGPUに設定する"
   ]
  },
  {
   "cell_type": "markdown",
   "metadata": {
    "id": "halgralcKUZt"
   },
   "source": [
    "### TensorFlowのversionの指定\n",
    "  - 2.x (2.0.1はOKだけど、2.3.0はNG） だと落ちるので、1.xを指定する"
   ]
  },
  {
   "cell_type": "code",
   "metadata": {
    "id": "lsJ6s3cpgUCK",
    "colab": {
     "base_uri": "https://localhost:8080/"
    },
    "executionInfo": {
     "status": "ok",
     "timestamp": 1630149643499,
     "user_tz": -540,
     "elapsed": 799,
     "user": {
      "displayName": "tetsuro morimura",
      "photoUrl": "",
      "userId": "05430312071579960704"
     }
    },
    "outputId": "24b7312b-9d6f-464c-b79c-5cfb7b082a40"
   },
   "source": [
    "%tensorflow_version 1.x\n",
    "#!pip3 uninstall tensorflow\n",
    "#!pip3 install tensorflow==2.0.1"
   ],
   "execution_count": null,
   "outputs": [
    {
     "output_type": "stream",
     "text": [
      "TensorFlow 1.x selected.\n"
     ],
     "name": "stdout"
    }
   ]
  },
  {
   "cell_type": "markdown",
   "metadata": {
    "id": "aOgnlueBQdjX"
   },
   "source": [
    "### モジュールのインポート"
   ]
  },
  {
   "cell_type": "code",
   "metadata": {
    "colab": {
     "base_uri": "https://localhost:8080/"
    },
    "id": "Ih-6x54fQdjX",
    "executionInfo": {
     "status": "ok",
     "timestamp": 1630149667824,
     "user_tz": -540,
     "elapsed": 19340,
     "user": {
      "displayName": "tetsuro morimura",
      "photoUrl": "",
      "userId": "05430312071579960704"
     }
    },
    "outputId": "7f8fe47b-184f-4e40-eb13-c6530fd79799"
   },
   "source": [
    "# essential models\n",
    "import gym\n",
    "import tensorflow as tf\n",
    "import numpy as np\n",
    "from matplotlib import pyplot as plt\n",
    "\n",
    "# modules for movie\n",
    "from IPython import display as ipythondisplay\n",
    "import glob\n",
    "import io\n",
    "import base64\n",
    "!apt-get -qq -y install xvfb freeglut3-dev ffmpeg> /dev/null\n",
    "!pip install pyvirtualdisplay\n",
    "\n",
    "from pyvirtualdisplay import Display\n",
    "import os\n",
    "print(tf.__version__)"
   ],
   "execution_count": null,
   "outputs": [
    {
     "output_type": "stream",
     "text": [
      "Collecting pyvirtualdisplay\n",
      "  Downloading PyVirtualDisplay-2.2-py3-none-any.whl (15 kB)\n",
      "Collecting EasyProcess\n",
      "  Downloading EasyProcess-0.3-py2.py3-none-any.whl (7.9 kB)\n",
      "Installing collected packages: EasyProcess, pyvirtualdisplay\n",
      "Successfully installed EasyProcess-0.3 pyvirtualdisplay-2.2\n",
      "1.15.2\n"
     ],
     "name": "stdout"
    }
   ]
  },
  {
   "cell_type": "markdown",
   "metadata": {
    "id": "hq4a5CEQgi7b"
   },
   "source": [
    "# 環境の設定\n",
    "\n",
    "### ゲーム環境の設定"
   ]
  },
  {
   "cell_type": "code",
   "metadata": {
    "id": "LvA5HQHI1W_d"
   },
   "source": [
    "env = gym.make('CartPole-v0') ## ゲーム環境の設定（棒制御）"
   ],
   "execution_count": null,
   "outputs": []
  },
  {
   "cell_type": "markdown",
   "metadata": {
    "id": "TqeIR_TE3HT9"
   },
   "source": [
    "### 動画の記録、再生のための設定\n",
    "\n",
    "- 動画関連のメソッドの定義"
   ]
  },
  {
   "cell_type": "code",
   "metadata": {
    "id": "hU7RLxfi3IFP"
   },
   "source": [
    "def wrap_env(env):\n",
    "    # force=True：以前のモニタファイルを自動的にクリア\n",
    "    env = gym.wrappers.Monitor(env, './video', force=True)\n",
    "    return env\n",
    "\n",
    "def show_video():\n",
    "    mp4list = glob.glob('video/*.mp4')\n",
    "    #print(len(mp4list))\n",
    "    if len(mp4list) > 0:\n",
    "        for m in range(len(mp4list)):\n",
    "            mp4 = mp4list[m]\n",
    "            video = io.open(mp4, 'r+b').read()\n",
    "            encoded = base64.b64encode(video)\n",
    "            ipythondisplay.display(ipythondisplay.HTML(data='''\n",
    "                <video alt=\"test\" autoplay loop controls style=\"height: 300px;\">\n",
    "                <source src=\"data:video/mp4;base64,{0}\" type=\"video/mp4\" />\n",
    "                </video>'''.format(encoded.decode('ascii'))))\n",
    "    else: \n",
    "          print(\"Could not find video\")"
   ],
   "execution_count": null,
   "outputs": []
  },
  {
   "cell_type": "markdown",
   "metadata": {
    "id": "Yg6Qp9T35Bk5"
   },
   "source": [
    "- ディスプレイの設定"
   ]
  },
  {
   "cell_type": "code",
   "metadata": {
    "colab": {
     "base_uri": "https://localhost:8080/"
    },
    "id": "ZZxvq2_Q4_zh",
    "executionInfo": {
     "status": "ok",
     "timestamp": 1630149700787,
     "user_tz": -540,
     "elapsed": 185,
     "user": {
      "displayName": "tetsuro morimura",
      "photoUrl": "",
      "userId": "05430312071579960704"
     }
    },
    "outputId": "77a46fc7-959f-4534-f23b-d1dafd1f6f41"
   },
   "source": [
    "display = Display(visible=0, size=(1024, 768))\n",
    "display.start()\n",
    "\n",
    "#os.environ[\"DISPLAY\"] = \":\" + str(display.display) + \".\" + str(display.screen)"
   ],
   "execution_count": null,
   "outputs": [
    {
     "output_type": "execute_result",
     "data": {
      "text/plain": [
       "<pyvirtualdisplay.display.Display at 0x7fab08a11990>"
      ]
     },
     "metadata": {},
     "execution_count": 10
    }
   ]
  },
  {
   "cell_type": "markdown",
   "metadata": {
    "id": "7LeIx9oEmQpF"
   },
   "source": [
    "### 動作確認\n",
    "\n",
    "- 観測空間，行動空間の確認"
   ]
  },
  {
   "cell_type": "code",
   "metadata": {
    "colab": {
     "base_uri": "https://localhost:8080/"
    },
    "id": "9pCwfa5NRAc5",
    "executionInfo": {
     "status": "ok",
     "timestamp": 1630149679431,
     "user_tz": -540,
     "elapsed": 256,
     "user": {
      "displayName": "tetsuro morimura",
      "photoUrl": "",
      "userId": "05430312071579960704"
     }
    },
    "outputId": "91243697-fcc6-42cf-c1b9-1522ea88f4a8"
   },
   "source": [
    "print('observation space:', env.observation_space) ## 観測空間のチェック\n",
    "print('action space:', env.action_space) ## 行動空間のチェック"
   ],
   "execution_count": null,
   "outputs": [
    {
     "output_type": "stream",
     "text": [
      "observation space: Box(-3.4028234663852886e+38, 3.4028234663852886e+38, (4,), float32)\n",
      "action space: Discrete(2)\n"
     ],
     "name": "stdout"
    }
   ]
  },
  {
   "cell_type": "markdown",
   "metadata": {
    "id": "785Fzb8_RM0F"
   },
   "source": [
    "- 環境を初期化して、初期観測を確認"
   ]
  },
  {
   "cell_type": "code",
   "metadata": {
    "colab": {
     "base_uri": "https://localhost:8080/"
    },
    "id": "UzgIJ7gNmVzU",
    "executionInfo": {
     "status": "ok",
     "timestamp": 1630149681837,
     "user_tz": -540,
     "elapsed": 186,
     "user": {
      "displayName": "tetsuro morimura",
      "photoUrl": "",
      "userId": "05430312071579960704"
     }
    },
    "outputId": "4b869c48-b595-411a-bdc8-227b4672bb75"
   },
   "source": [
    "obs = env.reset() ## 環境の初期化\n",
    "#env.render() ## 学習過程のレンダリング関数\n",
    "print('initial observation:', obs)"
   ],
   "execution_count": null,
   "outputs": [
    {
     "output_type": "stream",
     "text": [
      "initial observation: [-0.02651674 -0.03557375  0.00752968 -0.0288766 ]\n"
     ],
     "name": "stdout"
    }
   ]
  },
  {
   "cell_type": "markdown",
   "metadata": {
    "id": "liakwHy3OZac"
   },
   "source": [
    "- エピソード生成（行動は乱択）"
   ]
  },
  {
   "cell_type": "code",
   "metadata": {
    "colab": {
     "base_uri": "https://localhost:8080/"
    },
    "id": "-5yozCYoma71",
    "executionInfo": {
     "status": "ok",
     "timestamp": 1630149683646,
     "user_tz": -540,
     "elapsed": 181,
     "user": {
      "displayName": "tetsuro morimura",
      "photoUrl": "",
      "userId": "05430312071579960704"
     }
    },
    "outputId": "d28397df-961d-4f9b-9bfe-425911870819"
   },
   "source": [
    "obs = env.reset() \n",
    "\n",
    "done = False\n",
    "t    = 0\n",
    "while not done:\n",
    "  action = env.action_space.sample()    # ランダムな行動選択\n",
    "  obs, r, done, info = env.step(action) # 行動を環境に入力して、次状態などを受け取る\n",
    "  ## 出力の確認\n",
    "  print('----------- time step {} --------'.format(t))\n",
    "  print('selected action:', action)\n",
    "  print('next observation:', obs)\n",
    "  print('reward:', r)\n",
    "  print('done:', done)\n",
    "  print('info:', info)\n",
    "  t += 1"
   ],
   "execution_count": null,
   "outputs": [
    {
     "output_type": "stream",
     "text": [
      "----------- time step 0 --------\n",
      "selected action: 1\n",
      "next observation: [ 0.04316229  0.15997083  0.02814519 -0.32396558]\n",
      "reward: 1.0\n",
      "done: False\n",
      "info: {}\n",
      "----------- time step 1 --------\n",
      "selected action: 0\n",
      "next observation: [ 0.04636171 -0.03554034  0.02166588 -0.02254138]\n",
      "reward: 1.0\n",
      "done: False\n",
      "info: {}\n",
      "----------- time step 2 --------\n",
      "selected action: 0\n",
      "next observation: [ 0.0456509  -0.23096619  0.02121505  0.27689787]\n",
      "reward: 1.0\n",
      "done: False\n",
      "info: {}\n",
      "----------- time step 3 --------\n",
      "selected action: 0\n",
      "next observation: [ 0.04103158 -0.42638429  0.02675301  0.5761958 ]\n",
      "reward: 1.0\n",
      "done: False\n",
      "info: {}\n",
      "----------- time step 4 --------\n",
      "selected action: 1\n",
      "next observation: [ 0.03250389 -0.23164736  0.03827693  0.29205939]\n",
      "reward: 1.0\n",
      "done: False\n",
      "info: {}\n",
      "----------- time step 5 --------\n",
      "selected action: 1\n",
      "next observation: [ 0.02787094 -0.03709148  0.04411811  0.01169   ]\n",
      "reward: 1.0\n",
      "done: False\n",
      "info: {}\n",
      "----------- time step 6 --------\n",
      "selected action: 0\n",
      "next observation: [ 0.02712911 -0.23281747  0.04435191  0.31795982]\n",
      "reward: 1.0\n",
      "done: False\n",
      "info: {}\n",
      "----------- time step 7 --------\n",
      "selected action: 0\n",
      "next observation: [ 0.02247277 -0.42854213  0.05071111  0.6242933 ]\n",
      "reward: 1.0\n",
      "done: False\n",
      "info: {}\n",
      "----------- time step 8 --------\n",
      "selected action: 0\n",
      "next observation: [ 0.01390192 -0.62433402  0.06319698  0.93250627]\n",
      "reward: 1.0\n",
      "done: False\n",
      "info: {}\n",
      "----------- time step 9 --------\n",
      "selected action: 0\n",
      "next observation: [ 0.00141524 -0.82024915  0.0818471   1.24435985]\n",
      "reward: 1.0\n",
      "done: False\n",
      "info: {}\n",
      "----------- time step 10 --------\n",
      "selected action: 0\n",
      "next observation: [-0.01498974 -1.01632027  0.1067343   1.56151817]\n",
      "reward: 1.0\n",
      "done: False\n",
      "info: {}\n",
      "----------- time step 11 --------\n",
      "selected action: 0\n",
      "next observation: [-0.03531615 -1.21254498  0.13796466  1.88550058]\n",
      "reward: 1.0\n",
      "done: False\n",
      "info: {}\n",
      "----------- time step 12 --------\n",
      "selected action: 0\n",
      "next observation: [-0.05956705 -1.40887183  0.17567467  2.21762566]\n",
      "reward: 1.0\n",
      "done: False\n",
      "info: {}\n",
      "----------- time step 13 --------\n",
      "selected action: 0\n",
      "next observation: [-0.08774448 -1.60518438  0.22002719  2.55894539]\n",
      "reward: 1.0\n",
      "done: True\n",
      "info: {}\n"
     ],
     "name": "stdout"
    }
   ]
  },
  {
   "cell_type": "markdown",
   "metadata": {
    "id": "pUGO-YND3UCv"
   },
   "source": [
    "- エピソードを動画に記録し、再生する"
   ]
  },
  {
   "cell_type": "code",
   "metadata": {
    "colab": {
     "base_uri": "https://localhost:8080/",
     "height": 676
    },
    "id": "qCWkoLeK3LkZ",
    "executionInfo": {
     "status": "ok",
     "timestamp": 1630149708816,
     "user_tz": -540,
     "elapsed": 3613,
     "user": {
      "displayName": "tetsuro morimura",
      "photoUrl": "",
      "userId": "05430312071579960704"
     }
    },
    "outputId": "feb3107b-66f6-4943-c213-682f87096528"
   },
   "source": [
    "n_episode = 3 # 3以上に設定しても、なぜか2エピソードしか保存されず..\n",
    "\n",
    "# エピソードを生成し、動画を保存\n",
    "envw = wrap_env(gym.make('CartPole-v0'))\n",
    "\n",
    "for i in range(n_episode):\n",
    "\n",
    "    observation = envw.reset()\n",
    "    done = False\n",
    "    total_reward = 0\n",
    "\n",
    "    while not done:\n",
    "        envw.render()\n",
    "        action = env.action_space.sample()     # ランダムな行動選択\n",
    "        obs, r, done, info = envw.step(action) # 行動を環境に入力して、次状態などを受け取る\n",
    "        total_reward += r\n",
    "\n",
    "    print('test episode:', i+1, 'total reward:', total_reward)\n",
    "\n",
    "envw.close()\n",
    "\n",
    "# 動画の再生\n",
    "show_video()\n",
    "\n",
    "# Colab上から動画を削除\n",
    "#!rm video/openaigym.video.*"
   ],
   "execution_count": null,
   "outputs": [
    {
     "output_type": "stream",
     "text": [
      "test episode: 1 total reward: 14.0\n",
      "test episode: 2 total reward: 31.0\n",
      "test episode: 3 total reward: 18.0\n"
     ],
     "name": "stdout"
    },
    {
     "output_type": "display_data",
     "data": {
      "text/html": [
       "\n",
       "                <video alt=\"test\" autoplay loop controls style=\"height: 300px;\">\n",
       "                <source src=\"data:video/mp4;base64,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\" type=\"video/mp4\" />\n",
       "                </video>"
      ],
      "text/plain": [
       "<IPython.core.display.HTML object>"
      ]
     },
     "metadata": {}
    },
    {
     "output_type": "display_data",
     "data": {
      "text/html": [
       "\n",
       "                <video alt=\"test\" autoplay loop controls style=\"height: 300px;\">\n",
       "                <source src=\"data:video/mp4;base64,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\" type=\"video/mp4\" />\n",
       "                </video>"
      ],
      "text/plain": [
       "<IPython.core.display.HTML object>"
      ]
     },
     "metadata": {}
    }
   ]
  },
  {
   "cell_type": "markdown",
   "metadata": {
    "id": "BR4Q2iQbPjkC"
   },
   "source": [
    "# エージェントの設定\n",
    "\n",
    "### RLエージェントクラスの定義\n",
    "- アブストラクトクラス"
   ]
  },
  {
   "cell_type": "code",
   "metadata": {
    "id": "6TwDdxulRplW"
   },
   "source": [
    "## Abstract RL agent class \n",
    "class Agent():\n",
    "    def __init__(self, state_space, action_space, gamma=0.9):\n",
    "        self.state_space  = state_space\n",
    "        self.action_space = action_space\n",
    "        self.gamma        = gamma\n",
    "        self.experiences  = []\n",
    "        self.timestep     = 0\n",
    "        self.episode      = 0\n",
    "\n",
    "    def reset(self):\n",
    "        # エージェントの初期化\n",
    "        raise NotImplementedError(\"class is abstract.\") \n",
    "\n",
    "    def end_episode(self):\n",
    "        # エピソード終了時の処理\n",
    "        raise NotImplementedError(\"class is abstract.\") \n",
    "\n",
    "    def add_experience(self, state, action, reward, next_state):\n",
    "        # 経験データの追加\n",
    "        raise NotImplementedError(\"class is abstract.\") \n",
    "\n",
    "    def policy(self, state):\n",
    "        # 行動選択\n",
    "        raise NotImplementedError(\"class is abstract.\")\n",
    "\n",
    "    def learning(self):\n",
    "        # 学習\n",
    "        raise NotImplementedError(\"class is abstract.\")"
   ],
   "execution_count": null,
   "outputs": []
  },
  {
   "cell_type": "markdown",
   "metadata": {
    "id": "yV5l4FCEHF7y"
   },
   "source": [
    "### DQNエージェントクラスの実装\n",
    "- Agentクラスを継承\n",
    "- Q関数: DNN\n",
    "- 方策: Epsilon-greedy"
   ]
  },
  {
   "cell_type": "code",
   "metadata": {
    "id": "Y76mE2-IL_m7"
   },
   "source": [
    "## DQN agent (tabular version with epsilon-greedy policy)\n",
    "from operator import itemgetter\n",
    "\n",
    "class DQN(Agent):\n",
    "    # 連続状態、離散行動を想定\n",
    "    def __init__(self, state_space, action_space, gamma=0.9, epsilon=[100., 200.],alpha=0.001):\n",
    "        super().__init__(state_space, action_space, gamma)\n",
    "        self.nstate  = state_space.shape[0]\n",
    "        self.naction = action_space.n\n",
    "        self.epsilon = epsilon # hyper-param for e-greedy\n",
    "        self.alpha   = alpha   # hyper-hparam for learning rate\n",
    "        # DQN specific parameters \n",
    "        self.buffer_size        = 100000\n",
    "        self.buffer_reduce_size = 500\n",
    "        self.batch_size         = 1000\n",
    "        self.n_hidden_unit      = 16\n",
    "        # DNN for Q-value function\n",
    "        model = tf.keras.models.Sequential()\n",
    "        model.add(tf.keras.layers.Dense(self.n_hidden_unit, activation=\"relu\", input_dim=self.nstate))\n",
    "        model.add(tf.keras.layers.Dense(self.n_hidden_unit, activation=\"relu\"))\n",
    "        model.add(tf.keras.layers.Dense(self.naction, activation=\"linear\"))\n",
    "        model.compile(loss='mse', optimizer=tf.keras.optimizers.Adam(lr=alpha))\n",
    "        #odel.compile(loss='huber_loss', optimizer=tf.keras.optimizers.Adam(lr=alpha)) #huber_lossはなぜかうまくいかない..\n",
    "        self.q_fun = model\n",
    "\n",
    "    def reset(self):\n",
    "        self.__init__(self.state_space, self.action_space, self.gamma, self.epsilon, self.alpha)\n",
    "\n",
    "    def end_episode(self):\n",
    "        self.timestep = 0\n",
    "        self.episode += 1\n",
    "\n",
    "    def add_experience(self, experience):\n",
    "        self.experiences.append( experience )\n",
    "        # バッファーが一杯になったら、buffer_reduce_size個の経験サンプルを乱択し、削除\n",
    "        if len(self.experiences) > self.buffer_size:\n",
    "            delete_index     = list(np.random.choice(self.buffer_size, self.buffer_reduce_size, replace=False))\n",
    "            for i, d in enumerate(sorted(delete_index, reverse=True)):\n",
    "                del self.experiences[d]\n",
    "          \n",
    "    def policy(self, state): #Epsilon-Greedy Agent Policy\n",
    "        # epsilonの設定\n",
    "        if isinstance(self.epsilon, list) != True:\n",
    "            epsilon = self.epsilon\n",
    "        else:\n",
    "            epsilon = self.epsilon[0] / (self.episode + self.epsilon[1])\n",
    "        # 行動選択\n",
    "        if epsilon <= np.random.uniform():\n",
    "            action = np.argmax(self.q_fun.predict([[state]]))\n",
    "        else:\n",
    "            action = np.random.choice(self.naction)\n",
    "        return action\n",
    "\n",
    "    def learning(self):\n",
    "        # no learn if buffer size is smaller than half of \"batch_size\"\n",
    "        if 2*len(self.experiences) < self.batch_size:\n",
    "            return\n",
    "        # sampling from buffer\n",
    "        num_sample   = np.min([len(self.experiences)-1, self.batch_size])\n",
    "        #print(num_sample, len(self.experiences), self.batch_size)\n",
    "        target_index = np.random.choice(len(self.experiences), num_sample, replace=False)\n",
    "        batch        = itemgetter(*target_index)(self.experiences)\n",
    "        # prep traing data\n",
    "        S      = np.zeros((num_sample, self.nstate))\n",
    "        S_next = np.zeros((num_sample, self.nstate))\n",
    "        for i, (s, _, _, s_next, _) in enumerate(batch):\n",
    "            S[i]      = s\n",
    "            S_next[i] = s_next\n",
    "        q      = self.q_fun.predict([S],      batch_size=num_sample) \n",
    "        q_next = self.q_fun.predict([S_next], batch_size=num_sample) \n",
    "        for i, (_, a, r, _, done) in enumerate(batch):\n",
    "            q[i,a] = r\n",
    "            if not done: # episodeが失敗時以外は\n",
    "                q[i,a] += self.gamma * np.max(q_next[i])\n",
    "        # fit q_fun\n",
    "        self.q_fun.fit(S, q, epochs=1, verbose=0)  # epochsは訓練データの反復回数、verbose=0は表示なしの設定"
   ],
   "execution_count": null,
   "outputs": []
  },
  {
   "cell_type": "markdown",
   "metadata": {
    "id": "AutU0gvYYR4W"
   },
   "source": [
    "# 実験\n",
    "\n",
    "### 実験条件の設定"
   ]
  },
  {
   "cell_type": "code",
   "metadata": {
    "id": "6tL-7G6gJSzA"
   },
   "source": [
    "## Set parameters\n",
    "\n",
    "# param for experiment\n",
    "max_episode = 1000                        # num of experiments\n",
    "n_timestep  = env.spec.max_episode_steps # length of episode\n",
    "\n",
    "\n",
    "# param for DQN agent\n",
    "gamma       = 0.98       # discounting rate\n",
    "alpha       = 0.001      # for mse:0.001       # learning rate for adam\n",
    "epsilon     = [5, 10]    # epsilon of e-greedy: epsilon[0]/(episode+epsilon[1])"
   ],
   "execution_count": null,
   "outputs": []
  },
  {
   "cell_type": "markdown",
   "metadata": {
    "id": "KIetG9tXgKbP"
   },
   "source": [
    "### 学習"
   ]
  },
  {
   "cell_type": "code",
   "metadata": {
    "colab": {
     "base_uri": "https://localhost:8080/"
    },
    "id": "39dG5yseYqJa",
    "executionInfo": {
     "status": "ok",
     "timestamp": 1630149780297,
     "user_tz": -540,
     "elapsed": 57415,
     "user": {
      "displayName": "tetsuro morimura",
      "photoUrl": "",
      "userId": "05430312071579960704"
     }
    },
    "outputId": "8175f2b0-0179-443f-9708-12b6bd3c9d83"
   },
   "source": [
    "## Learning by DQN\n",
    "\n",
    "# prep\n",
    "agent = DQN(env.observation_space, env.action_space, gamma=gamma, alpha=alpha, epsilon=epsilon)\n",
    "return_list  = []\n",
    "return_print = 0 \n",
    "n_consecutive_success = 0\n",
    "\n",
    "\n",
    "\n",
    "# main\n",
    "print(\"DQN ...\")\n",
    "for episode in range(max_episode):\n",
    "\n",
    "    # reset agent and env\n",
    "    agent.end_episode()\n",
    "    obs    = env.reset()\n",
    "    ret    = 0\n",
    "    n_consecutive_success += 1\n",
    "\n",
    "    # episode start\n",
    "    for t in range(n_timestep-1):\n",
    "        # interaction with env\n",
    "        action                    = agent.policy(obs)\n",
    "        next_obs, reward, done, _ = env.step(action)\n",
    "        if done:\n",
    "            reward   = -100\n",
    "        # update agent\n",
    "        agent.add_experience([obs, action, reward, next_obs, done])\n",
    "        agent.timestep += 1\n",
    "        # update observation\n",
    "        obs = next_obs\n",
    "        # store\n",
    "        ret += reward\n",
    "\n",
    "        if done:\n",
    "            n_consecutive_success = 0\n",
    "            break\n",
    "\n",
    "    # learning\n",
    "    #if episode%2==0:\n",
    "    agent.learning()\n",
    "\n",
    "    # store return\n",
    "    return_list.append(ret)\n",
    "    # print\n",
    "    return_print += ret\n",
    "    if episode%5==0: \n",
    "        print( ' > episode:', episode, ', averaged return', return_print/5, ' (n_consecutive_success', n_consecutive_success, ')' )\n",
    "        print('   ', agent.q_fun.predict([[agent.experiences[-1][0]]]))\n",
    "        return_print = 0\n",
    "       \n",
    "    # check convergence (30回連続立て続けられれば、学習成功とする)\n",
    "    if n_consecutive_success > 30:\n",
    "        print(\"Successed in learning !\")\n",
    "        break\n",
    "\n",
    "\n",
    "if episode == max_episode-1:\n",
    "    print(\"-----> Learning failed.\")"
   ],
   "execution_count": null,
   "outputs": [
    {
     "output_type": "stream",
     "text": [
      "WARNING:tensorflow:From /tensorflow-1.15.2/python3.7/tensorflow_core/python/ops/resource_variable_ops.py:1630: calling BaseResourceVariable.__init__ (from tensorflow.python.ops.resource_variable_ops) with constraint is deprecated and will be removed in a future version.\n",
      "Instructions for updating:\n",
      "If using Keras pass *_constraint arguments to layers.\n",
      "DQN ...\n",
      " > episode: 0 , averaged return -17.6  (n_consecutive_success 0 )\n",
      "    [[ 0.15743396 -0.32442623]]\n",
      " > episode: 5 , averaged return -90.0  (n_consecutive_success 0 )\n",
      "    [[ 0.10535009 -0.15701996]]\n",
      " > episode: 10 , averaged return -91.0  (n_consecutive_success 0 )\n",
      "    [[ 0.1857821  -0.38414466]]\n",
      " > episode: 15 , averaged return -91.0  (n_consecutive_success 0 )\n",
      "    [[ 0.2115932 -0.4438283]]\n",
      " > episode: 20 , averaged return -90.8  (n_consecutive_success 0 )\n",
      "    [[ 0.20271286 -0.45224285]]\n",
      " > episode: 25 , averaged return -90.2  (n_consecutive_success 0 )\n",
      "    [[ 0.1493018 -0.3171897]]\n",
      " > episode: 30 , averaged return -91.8  (n_consecutive_success 0 )\n",
      "    [[ 0.19923964 -0.52326554]]\n",
      " > episode: 35 , averaged return -91.4  (n_consecutive_success 0 )\n",
      "    [[ 0.19179429 -0.5040302 ]]\n",
      " > episode: 40 , averaged return -92.2  (n_consecutive_success 0 )\n",
      "    [[ 0.15716317 -0.34203184]]\n",
      " > episode: 45 , averaged return -91.8  (n_consecutive_success 0 )\n",
      "    [[ 0.20215237 -0.4418121 ]]\n",
      " > episode: 50 , averaged return -91.4  (n_consecutive_success 0 )\n",
      "    [[-0.16543679 -0.66255534]]\n",
      " > episode: 55 , averaged return -81.8  (n_consecutive_success 0 )\n",
      "    [[-0.14847031 -0.10952812]]\n",
      " > episode: 60 , averaged return -78.6  (n_consecutive_success 0 )\n",
      "    [[-0.80483794 -0.8074607 ]]\n",
      " > episode: 65 , averaged return -60.0  (n_consecutive_success 0 )\n",
      "    [[-2.053029  -2.1796594]]\n",
      " > episode: 70 , averaged return -42.6  (n_consecutive_success 0 )\n",
      "    [[-1.7184082  -0.09019131]]\n",
      " > episode: 75 , averaged return -9.0  (n_consecutive_success 0 )\n",
      "    [[-0.3475852 -1.1851838]]\n",
      " > episode: 80 , averaged return -41.8  (n_consecutive_success 0 )\n",
      "    [[-3.357197 -0.404741]]\n",
      " > episode: 85 , averaged return -53.0  (n_consecutive_success 0 )\n",
      "    [[ 0.1307538  -0.64322436]]\n",
      " > episode: 90 , averaged return -59.2  (n_consecutive_success 0 )\n",
      "    [[-2.4029274  -0.43955088]]\n",
      " > episode: 95 , averaged return -66.0  (n_consecutive_success 0 )\n",
      "    [[-5.0758715  -0.51009697]]\n",
      " > episode: 100 , averaged return -73.0  (n_consecutive_success 0 )\n",
      "    [[-3.59988   -0.6029126]]\n",
      " > episode: 105 , averaged return -74.0  (n_consecutive_success 0 )\n",
      "    [[-3.604071  -0.7293407]]\n",
      " > episode: 110 , averaged return -66.2  (n_consecutive_success 0 )\n",
      "    [[-4.8835034  -0.75705445]]\n",
      " > episode: 115 , averaged return -66.6  (n_consecutive_success 0 )\n",
      "    [[-5.706757 -1.140914]]\n",
      " > episode: 120 , averaged return -72.2  (n_consecutive_success 0 )\n",
      "    [[-10.042792   -2.4460912]]\n",
      " > episode: 125 , averaged return -70.8  (n_consecutive_success 0 )\n",
      "    [[-5.9311767 -2.1508982]]\n",
      " > episode: 130 , averaged return -70.2  (n_consecutive_success 0 )\n",
      "    [[-3.2662086 -2.010065 ]]\n",
      " > episode: 135 , averaged return -60.4  (n_consecutive_success 0 )\n",
      "    [[-3.2560008 -2.4672384]]\n",
      " > episode: 140 , averaged return -61.2  (n_consecutive_success 0 )\n",
      "    [[-3.7642612 -3.1148546]]\n",
      " > episode: 145 , averaged return -51.8  (n_consecutive_success 0 )\n",
      "    [[-4.252258 -3.655656]]\n",
      " > episode: 150 , averaged return -47.2  (n_consecutive_success 0 )\n",
      "    [[-6.340266  -5.6530347]]\n",
      " > episode: 155 , averaged return -24.4  (n_consecutive_success 0 )\n",
      "    [[-7.1827602 -7.3312616]]\n",
      " > episode: 160 , averaged return -14.4  (n_consecutive_success 0 )\n",
      "    [[-10.738224  -9.798336]]\n",
      " > episode: 165 , averaged return 15.2  (n_consecutive_success 0 )\n",
      "    [[-12.175448 -12.172745]]\n",
      " > episode: 170 , averaged return 29.2  (n_consecutive_success 0 )\n",
      "    [[-13.82595  -13.511901]]\n",
      " > episode: 175 , averaged return 9.4  (n_consecutive_success 0 )\n",
      "    [[-15.931149 -15.247168]]\n",
      " > episode: 180 , averaged return 76.0  (n_consecutive_success 1 )\n",
      "    [[-13.985195 -14.167848]]\n",
      " > episode: 185 , averaged return 79.0  (n_consecutive_success 1 )\n",
      "    [[1.7460032 2.3717964]]\n",
      " > episode: 190 , averaged return 38.0  (n_consecutive_success 0 )\n",
      "    [[-19.981869 -20.335869]]\n",
      " > episode: 195 , averaged return 142.2  (n_consecutive_success 3 )\n",
      "    [[4.8553567 5.230818 ]]\n",
      " > episode: 200 , averaged return 108.8  (n_consecutive_success 1 )\n",
      "    [[3.4810064 3.093383 ]]\n",
      " > episode: 205 , averaged return 134.0  (n_consecutive_success 0 )\n",
      "    [[-0.5439893  0.0884841]]\n",
      " > episode: 210 , averaged return 199.0  (n_consecutive_success 5 )\n",
      "    [[3.479004 3.223735]]\n",
      " > episode: 215 , averaged return 199.0  (n_consecutive_success 10 )\n",
      "    [[-18.509806  -15.1237335]]\n",
      " > episode: 220 , averaged return 199.0  (n_consecutive_success 15 )\n",
      "    [[13.366453 12.316761]]\n",
      " > episode: 225 , averaged return 199.0  (n_consecutive_success 20 )\n",
      "    [[11.635713 10.612146]]\n",
      " > episode: 230 , averaged return 199.0  (n_consecutive_success 25 )\n",
      "    [[12.96394 13.36847]]\n",
      " > episode: 235 , averaged return 199.0  (n_consecutive_success 30 )\n",
      "    [[13.718288 13.346029]]\n",
      "Successed in learning !\n"
     ],
     "name": "stdout"
    }
   ]
  },
  {
   "cell_type": "markdown",
   "metadata": {
    "id": "HY_UrfOrs2Dz"
   },
   "source": [
    "- 学習曲線"
   ]
  },
  {
   "cell_type": "code",
   "metadata": {
    "colab": {
     "base_uri": "https://localhost:8080/",
     "height": 276
    },
    "id": "7FHktRhH43LG",
    "executionInfo": {
     "status": "ok",
     "timestamp": 1630149787015,
     "user_tz": -540,
     "elapsed": 737,
     "user": {
      "displayName": "tetsuro morimura",
      "photoUrl": "",
      "userId": "05430312071579960704"
     }
    },
    "outputId": "424e7915-2a84-4d2a-e699-c5432d7492a6"
   },
   "source": [
    "## Visualization\n",
    "t_lim       = len(return_list)\n",
    "window_size = 3\n",
    "\n",
    "# smooth return\n",
    "v = np.ones(window_size)/window_size\n",
    "smoothed_return = np.convolve( return_list, v, mode='valid')\n",
    "\n",
    "# plot\n",
    "xlim = np.array(range(window_size-1,t_lim)) - window_size/2\n",
    "plt.plot(xlim, smoothed_return)\n",
    "plt.xlabel('Timestep')\n",
    "plt.ylabel('Averaged Return')\n",
    "plt.tick_params(top = True, right = True, direction = 'in')\n",
    "plt.grid(which='both')\n",
    "plt.xlim(0,t_lim)\n",
    "plt.show()"
   ],
   "execution_count": null,
   "outputs": [
    {
     "output_type": "display_data",
     "data": {
      "image/png": "[encoded data removed]",
      "text/plain": [
       "<Figure size 432x288 with 1 Axes>"
      ]
     },
     "metadata": {
      "needs_background": "light"
     }
    }
   ]
  },
  {
   "cell_type": "markdown",
   "metadata": {
    "id": "kP8qZW_SuUd8"
   },
   "source": [
    "- テスト（学習した方策を実際に動かしてみる）"
   ]
  },
  {
   "cell_type": "code",
   "metadata": {
    "colab": {
     "base_uri": "https://localhost:8080/",
     "height": 659
    },
    "id": "qn_8Lm40uLDx",
    "executionInfo": {
     "status": "ok",
     "timestamp": 1607373892711,
     "user_tz": -540,
     "elapsed": 67129,
     "user": {
      "displayName": "tetsuro morimura",
      "photoUrl": "",
      "userId": "05430312071579960704"
     }
    },
    "outputId": "afacbc70-09ba-4b35-bdfe-bc3b03b71b74"
   },
   "source": [
    "n_movie = 2 # 3以上に設定しても、なぜか2エピソードしか保存されず..\n",
    "\n",
    "# エピソードを生成し、動画を保存\n",
    "envw = wrap_env(gym.make('CartPole-v0'))\n",
    "\n",
    "for i in range(n_movie):\n",
    "\n",
    "    obs   = envw.reset()\n",
    "    done  = False\n",
    "    ret   = 0\n",
    "\n",
    "    while not done:\n",
    "        envw.render()\n",
    "        action = agent.policy(obs)             # 行動選択\n",
    "        obs, r, done, info = envw.step(action) # 行動を環境に入力して、次状態などを受け取る\n",
    "        ret += r\n",
    "\n",
    "    print('test episode:', i+1, 'total reward:', ret)\n",
    "\n",
    "envw.close()\n",
    "\n",
    "# 動画の再生\n",
    "show_video()\n",
    "\n",
    "# Colab上から動画を削除\n",
    "!rm video/openaigym.video.*"
   ],
   "execution_count": null,
   "outputs": [
    {
     "output_type": "stream",
     "text": [
      "test episode: 1 total reward: 200.0\n",
      "test episode: 2 total reward: 200.0\n"
     ],
     "name": "stdout"
    },
    {
     "output_type": "display_data",
     "data": {
      "text/html": [
       "\n",
       "                <video alt=\"test\" autoplay loop controls style=\"height: 300px;\">\n",
       "                <source src=\"data:video/mp4;base64,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\" type=\"video/mp4\" />\n",
       "                </video>"
      ],
      "text/plain": [
       "<IPython.core.display.HTML object>"
      ]
     },
     "metadata": {
      "tags": []
     }
    },
    {
     "output_type": "display_data",
     "data": {
      "text/html": [
       "\n",
       "                <video alt=\"test\" autoplay loop controls style=\"height: 300px;\">\n",
       "                <source src=\"data:video/mp4;base64,AAAAIGZ0eXBpc29tAAACAGlzb21pc28yYXZjMW1wNDEAAAAIZnJlZQAAI6RtZGF0AAACrgYF//+q3EXpvebZSLeWLNgg2SPu73gyNjQgLSBjb3JlIDE1MiByMjg1NCBlOWE1OTAzIC0gSC4yNjQvTVBFRy00IEFWQyBjb2RlYyAtIENvcHlsZWZ0IDIwMDMtMjAxNyAtIGh0dHA6Ly93d3cudmlkZW9sYW4ub3JnL3gyNjQuaHRtbCAtIG9wdGlvbnM6IGNhYmFjPTEgcmVmPTMgZGVibG9jaz0xOjA6MCBhbmFseXNlPTB4MzoweDExMyBtZT1oZXggc3VibWU9NyBwc3k9MSBwc3lfcmQ9MS4wMDowLjAwIG1peGVkX3JlZj0xIG1lX3JhbmdlPTE2IGNocm9tYV9tZT0xIHRyZWxsaXM9MSA4eDhkY3Q9MSBjcW09MCBkZWFkem9uZT0yMSwxMSBmYXN0X3Bza2lwPTEgY2hyb21hX3FwX29mZnNldD0tMiB0aHJlYWRzPTYgbG9va2FoZWFkX3RocmVhZHM9MSBzbGljZWRfdGhyZWFkcz0wIG5yPTAgZGVjaW1hdGU9MSBpbnRlcmxhY2VkPTAgYmx1cmF5X2NvbXBhdD0wIGNvbnN0cmFpbmVkX2ludHJhPTAgYmZyYW1lcz0zIGJfcHlyYW1pZD0yIGJfYWRhcHQ9MSBiX2JpYXM9MCBkaXJlY3Q9MSB3ZWlnaHRiPTEgb3Blbl9nb3A9MCB3ZWlnaHRwPTIga2V5aW50PTI1MCBrZXlpbnRfbWluPTI1IHNjZW5lY3V0PTQwIGludHJhX3JlZnJlc2g9MCByY19sb29rYWhlYWQ9NDAgcmM9Y3JmIG1idHJlZT0xIGNyZj0yMy4wIHFjb21wPTAuNjAgcXBtaW49MCBxcG1heD02OSBxcHN0ZXA9NCBpcF9yYXRpbz0xLjQwIGFxPTE6MS4wMACAAAABgWWIhAAv//72rvzLK0cLlS4dWXuzUfLoSXL9iDB9aAAAAwAAAwAAJuKiZ0WFMeJsgAAALmAIWElDyDzETFWKgSvGXyx1CgAE9iX+vjHmR1KPXLnNg7uQlCj4TdrZtZA1nsD14CB9C9ScU+njmh07vStYAmMZ+svdIoXFx4RnDdQIZCw/9M5+w9OVfmFA6zhX5r+3ZJuFARx52GtI0vbwjgONWxVChJDa9R5tnV0OG+YMnfNfSYCvsE/5F/0E4IHYesTOvUb08jbyr0QAzAUmswUiD0AZXc0tZh+qtWalYBSrDeb5uNFb2z2jOyFOHOfEITwo1g3QzYZOmfYF7tVWB8H7PFher9DBEqQD4hxvsFVLXav5WysOrmGD3lrVrfJZ9oTjJwGKYo9dJqMgoj684d0SRFox1QNv8pTt5LKLk4C/5zc811BOWnEMt7JBSX9Gs/QEhvGXe9lpPcmsyFGlC524b5MaRp0Luv52vNZzPvzgK0JmzOIVCAiQAAADAAADAmcAAACzQZojbEM//p4QAABFeLUfpeAE+1VCIKXcqq48d9DFU2oSgQiyrER2+0kgB1BBs0qvNrb3ivPRVAisoYuRfqhfHb/HsLDe4nyQiXYLKon7mqtCGgGLsYeb+jtZvLyjbfXFvquiDNNIHDxbZgUSwTWZbCOwHCSUC3SdG5S3qet0iRuu54oYOZJU65NpppwcSQ6coYErkr9DP2zDXgwl+0QeYyO4Jq0Ud0dOdaP/+1TMigQA8IAAAAA3QZ5BeIR/AAAWvlwFqxiuW4XtSHTPl52Fi3wVJqBRAAADAAeKkxVlcOkRSsrw+G+tC2DPCAAekQAAACMBnmJqR/8AACOeKgAVhRln8y3jsCuOMK2e4AAAAwNzjywZUAAAAGZBmmdJqEFomUwIZ//+nhAAAEVrRrlsAJ/302jXJ3p89wtdhuMr3htfvQidIJfzIJ4oroIu8LT+qH7AFLWlo5KIuKfa9oaEOdUj6d/u4jhEFfGns0g5YKAAAAMAAB0wl0y4oI3sIE0AAAAtQZ6FRREsI/8AABa1Wv5CvsUfKOeoHSkym8BZM3Tkq6K3AB+oAAANNmyFwgRdAAAAJgGepHRH/wAAJMLwh/JSD0d6Fq5eyjEvkDRAoAAAAwAIRqQNUA9JAAAAIgGepmpH/wAAJMfHRhGuZflqbAnFnUJYOdVgAAAHug1Af4EAAABIQZqrSahBbJlMCF///oywAAADA7q2MNUt7lgAZt7q+kLc4NVU65mMpiZe3PYXAqcfqX0leb0G9BqWfA5yvPmXdAAAIdJMcIP8AAAAQkGeyUUVLCP/AAAXTqbHW+W19Pq0j5EgmrKAHFlGi8o8igPDPkexdmyYGHFTYsJh6NugOHIkAAADAAQf4PTygBQCvgAAACoBnuh0R/8AACSsPRhTUZdM/P0HUNTpLRIYyvkXH8jNAAADAAAHOhDxAVsAAAAsAZ7qakf/AAAkvxxSoOx0TghMnWidiPO4utjgAJYvDppxru6K0fmrZA2u2YAAAAB+QZruSahBbJlMCGf//p4QAABFSW1gA6R9wtJg1RA7G5LeVL6x+f/qbleuJa/0jbGg6DWE/eDUtYll13P5lNyDO4gkAnF2ZwPL49tCi3Qkxci9MpTNBa8LKheK/eAne5qtKphtS5OxjT6fPttKpB0/HnFJnc/9fNSLJYX5HOCQAAAAQEGfDEUVLCP/AAAXUJjoNWZskeCCgDcEup7nOJdtACpSHX4GX4BU68QtKPYiVSDtdCSSLueVnFag4RyQJmLLPJkAAAAeAZ8takf/AAAkvxwIOZmK0zaruDxkDrBVjHGx9TFvAAAAVEGbMkmoQWyZTAhn//6eEAAARW1e6wrgC81ast0ZqqOACkUjYauz1UDDtMVABxo2n5NDNBCfxa9pBaeyVShLkIZuUD4akZdJxidwOQVToMn7vqmHHQAAABxBn1BFFSwj/wAAFrxQuFKr6DSC7uTEOickCF/gAAAAFQGfb3RH/wAAAwAJqxC3qGa0BL9wQAAAABIBn3FqR/8AACO/G9j7MetJcqEAAABSQZt2SahBbJlMCGf//p4QAABFSW1gA6R9xeh7TRNxd/TLuKqIIx9AHj+ax88yjMNc5CDiuJDrhPTipVkBrtOUBv1plMrTDQ4NTJ8WMrwGYAetOAAAAC9Bn5RFFSwj/wAAFrVfT1qH4Q4SNX1gA98T/H/l/amRX4zuoJgpyjaW7slCwim14AAAAB4Bn7N0R/8AAAMB4PHBB+AYJH6JkThE0ee40ERDvcEAAAAXAZ+1akf/AAAFQyqUsXx5GfiBSS4ulFwAAAAjQZu6SahBbJlMCGf//p4QAABFVL696wk+FXH7Zz8RvdyRZM0AAAAyQZ/YRRUsI/8AABa8ULhR674ANzMdVYaEqc928KXDcM+IUSa7ERAr1cftTS/bCRkotSEAAAAdAZ/3dEf/AAANf090M65cVsLA0vjSy/xHCNlAFe4AAAAeAZ/5akf/AAAjvxjTpVQQoVzNI/802zweljZwwnBBAAAAF0Gb/kmoQWyZTAhn//6eEAAAAwAAAwM+AAAALUGeHEUVLCP/AAAWqGV2oqAA49Wqz5QWtwmsyo7At/ZoHnZ3SLnWOFA96QTKgQAAABQBnjt0R/8AACSsGQEUEXwxjbHoPQAAABQBnj1qR/8AACS/BCxc6a8npfAfjQAAABdBmiJJqEFsmUwIZ//+nhAAAAMAAAMDPgAAABdBnkBFFSwj/wAAFsCgUmagLbYL1OKqgQAAABIBnn90R/8AACPDQmnA8bC2Db0AAAATAZ5hakf/AAAjvx01wdrYOeNvQQAAAENBmmZJqEFsmUwIZ//+nhAAAEVRP6uAKn9/HOguoC8CBfOkj9a6IWQSj3UM6f3Odn/ID/jn/cNJ3ofRFSb6s6HU+6zgAAAAOEGehEUVLCP/AAAWvMVwALDk8u5Djw7r3VEoQr4TVxygFEXyf4rfwdy1hpYDCzWMM6KM8fxZPBItAAAALgGeo3RH/wAAJKuzjLA6pABuf+QBVyhTsY1EllxPV19ijEq1s9u7RVJZCWumTxcAAAAsAZ6lakf/AAAkvwQrVOGRYu8kgAugAz4UnoElX02dVvDlOWbhWZQUMRgIcEEAAAAvQZqqSahBbJlMCGf//p4QAAAKN6jj3nnwu2NaoAb2x68TXhHz2gT7SoMAlwj+gh8AAAA1QZ7IRRUsI/8AABdQlmuokQADjAg5RCHmMJt+OAbVzwjdRaLYjiucSv9i28i8/WH5YUJS97gAAAAbAZ7ndEf/AAAjw0JpukbQkgS/Tp5qiVNkJz1IAAAAGwGe6WpH/wAAI5I026CIu1a1IX1bfbsXNebimwAAAD5Bmu5JqEFsmUwIZ//+nhAAAEV/YIyGpQBG1QGJNYvxv63LDReVfEhvg7tyH2Ygeviq3KPj16eswM1jpYK9wAAAAClBnwxFFSwj/wAAFq2E+b05/1Lmeal2HuJ6LdgAmIQO2pEcohXVewhFgAAAABkBnyt0R/8AACPDP9RJVqv2tWapx11j8xCLAAAAEgGfLWpH/wAAI8fHFGS9kds2oQAAABtBmzJJqEFsmUwIZ//+nhAAAAMAB3N+IyjMW0EAAAAVQZ9QRRUsI/8AABa+prgfXZbRSByoAAAAEgGfb3RH/wAAI8M/sfUxrMHKgAAAABEBn3FqR/8AACO/G9j1svxBwQAAAClBm3ZJqEFsmUwIZ//+nhAAAEVSBqBwABoBVocNnqS8Uw8n0HgBilbwcAAAABRBn5RFFSwj/wAAFrVaUVy9saDzQAAAABABn7N0R/8AACPDP7Hro/EHAAAAEAGftWpH/wAAAwADzP/FZ8AAAAA/QZu6SahBbJlMCGf//p4QAABFgtgiCYj3nbaAImN/qnwhleKCdQWsRmOZw4VpLRaGaFavTe09FQsnRbUW7eNpAAAAMkGf2EUVLCP/AAAWtVwjiczwOIldsABGpmWOq9Leb0ewUXrRuYPUBUmLMkZ9286Mjj3BAAAAGgGf93RH/wAAI8NAEy696GQ0GdTo/DtSqsiwAAAAIgGf+WpH/wAABUM02BvAJr0Kp21iGgQLWDG9kOsuSi7wKKEAAAAlQZv+SahBbJlMCGf//p4QAABHRQVFja36/uwU+gH8Gb+1S8AHdAAAABhBnhxFFSwj/wAAF0UrN2tadPQGENzQA48AAAAXAZ47dEf/AAAkwxdSknHtDNEIa38ARcEAAAAhAZ49akf/AAAkuc5JqQAbkjlMoptDlEIS2+kQ81AC3hNwAAAAeUGaIkmoQWyZTAhf//6MsAAASA5meIW4hrAFbv6ex7jlpIzSY+hPyaNIw3nUMQbO7tIRpFDoMUWRJD1OAgzon3ood3rAGv8ysUXPsSF7hXZ7sfCHwQ9kAagz0o6e+EZD0YYoevKfuswjjUgzr2+e/iJdxCNtyH0kNoAAAAAfQZ5ARRUsI/8AABdFK0Mynm8XKSdz0EopgednUJbakQAAABMBnn90R/8AACTDF3VRT+iOgDryAAAAGQGeYWpH/wAAAwBHfghOJaQRx3Jv8ffgNqUAAAA+QZpmSahBbJlMCF///oywAABGFQSfQByZYvQqypvXPu5n43lbTQg2zGxnNZ1t/O78z/fc2CGQIFzbyR63iCUAAAAdQZ6ERRUsI/8AABa8RxaC8sLqHr1MahSh9aiLJakAAAAnAZ6jdEf/AAADAEdX8LYOEBSRFDhAqG1HZPHrggjWwRTq/vzJEe9xAAAAEQGepWpH/wAAI78b2PWy/EHBAAAAXEGaqEmoQWyZTBRMM//+nhAAAEdOVl22EHaAEdQafE5GDVxNToD5a7x1Rm8xScPi2678qtWufVbzez3qANUGApWmKVa9mErhb1R1+gYObFjX6wdScdASolu3ADopAAAAGQGex2pH/wAAJL8Lr+pxSaKdtEfJLCVyd7gAAAAsQZrMSeEKUmUwIZ/+nhAAAAMAiyz6m0c1YEAFWHaF2uc8BGm29SQKwMKGB/gAAAAhQZ7qRTRMI/8AABdQmkLw5Vt5VUo6CFgVisgGSX9I1HXhAAAAGwGfCXRH/wAAJMMXdVkyStcnuu2dXJEppDF97gAAACUBnwtqR/8AACTVIQA6FwcSqLVjTshS0Qhax7uIKb6sFuSzeZFgAAAAQEGbEEmoQWiZTAhn//6eEAAAR6TSt/gM2jzlRdAL3byTEB5fGKLlf3bI3gwvkGMYQzz/+S3ySlznPFpgrDbGDe0AAAAsQZ8uRREsI/8AABdMN4CIUOXhwa7wAHBik0Sigag/dziPORaGF+xyya5H6D0AAAAfAZ9NdEf/AAAjw0Jr3PPz6+4ARMS0/XIn134w+4QKGQAAAB4Bn09qR/8AACS/BCcsKACJeU/oTL3ypAkvFxg9Gm4AAAAXQZtUSahBbJlMCGf//p4QAAADAAADAz4AAAAXQZ9yRRUsI/8AABdJM2uUyEK5wtakCLkAAAASAZ+RdEf/AAAkwxd1UVDRJMJuAAAAEwGfk2pH/wAAJL8EK8Byi9RHXkAAAABEQZuYSahBbJlMCGf//p4QAABHnI/45GsH80dy7wcAIyPuFoyTR/kl+7KO4nO959yErHHnun+R++xjQBGElifuIJN9W4EAAAAVQZ+2RRUsI/8AABdFK0Mg+3K7mg80AAAAEgGf1XRH/wAAJMMXdVFQ0STCbwAAACMBn9dqR/8AACTHsuFI6ABxQDsB1rCOq7q0ncg+Z7OH9vCbgQAAAGhBm9xJqEFsmUwIX//+jLAAAEgUcKtaugAcWug55OvU5T29v+9pfS9uu4QhUGxciwSdx3rcXx3BmJ63hqb6LZht3Z//7/5bi1OtcoZCYXvS/MPZTBMnp5LVFxd+OLZ2Hz4xAXj7xhmtgAAAAB5Bn/pFFSwj/wAAF06iS5lj9tDQKMMoPk6r4v9wfrEAAAAUAZ4ZdEf/AAAkwxd1UU/ohxB+OvIAAAAZAZ4bakf/AAAkvxrMIP7QFknq1gf2Bi3cWQAAAEBBmh9JqEFsmUwIZ//+nhAAABryACJKdQQETJcBsQauXdevYtaZy8TpmlyUvM5yTn9AbCQ1+MffIqMFgtJYLEfBAAAAIUGePUUVLCP/AAAIrYBcDTcJdLPIitO4c4zIicySggzlgAAAABkBnl5qR/8AAA3OlC4Vqy1wd4QS5S6C2OvAAAAAWkGaQ0moQWyZTAhn//6eEAAAR5hF4c88S2gA4xJT1M8w605k2PMGkZfdjfor3XxwAfkOTtfGWaiPaD2+psKZ2kooj75nXVNfkEAkIS0QfH5/lcxzhP2u4B19swAAAC1BnmFFFSwj/wAAF0xDz75QuoenT5gAXUVOu7LewswZJlqlIPq1jnBkuoVgQ9wAAAArAZ6AdEf/AAAkwLjgPywAca99wmntrgWwmI2RrFVOhQIpx4tDqic5MYaybwAAAB4BnoJqR/8AACSuXVThLNQP8Lhcm/jsFomiotSUY9wAAAA2QZqHSahBbJlMCGf//p4QAABHUfqsY0ARIa3XtE5l0oGsH9M9KJJi7FTxrF/XnVMmoyq/QbWpAAAAFUGepUUVLCP/AAAXTEPPhCuTm8QRcQAAACABnsR0R/8AACTAt96tW6QBgA43Qp/uFWOJTZepa0AFbQAAABMBnsZqR/8AACS/BCvAcovUR15BAAAANkGay0moQWyZTAhn//6eEAAARU5avsADi0VJenHfytizDJnKrWOY/2qrvcNnUSEjruEWGoFakAAAABZBnulFFSwj/wAAF1CbP8sJiGo5AcqAAAAAEgGfCHRH/wAAJKv4Z4DkgyDhNwAAABIBnwpqR/8AACSxzCqioC3BdeQAAAAbQZsPSahBbJlMCGf//p4QAAAa909QP+RmAAyoAAAAFkGfLUUVLCP/AAAXUJpC8IV0NcPQeaEAAAAaAZ9MdEf/AAAkq/pWsAHFgxUlVtDkgZVwm4EAAAASAZ9Oakf/AAAkscwqoqAtwXXlAAAAfkGbU0moQWyZTAhn//6eEAAAR1H2U9MADM9z+rcxtEhtMO52vJq72i/bZ4Fr9lJf2F0NzFawKyAVGcIsvj+D8aw6J9LEJ3IhedEIP6V6LSVC/05q+avBtjsmMlQYHw49/OxXl8hTHPt3hvQ5MsFSfWOPpBke3bxZS2IIJtU7gAAAACFBn3FFFSwj/wAAF0xDz5pZzchqBYgR9tSCLMAAPPRZOCAAAAAcAZ+QdEf/AAAjpP0TucVN0C6kAEtTOyeTarcRBwAAACgBn5JqR/8AACSx2oz5fueABdRKz3SgDmwZGadbdHwMAzFhTpTjHOCAAAAAQEGbl0moQWyZTAhn//6eEAAAR0UINAHFpbnNGYeCbUfYjlCg17cHCmyl3ls986gQ13Wf+bA+nbMkVaDmwfQAm4AAAAAyQZ+1RRUsI/8AABdJON1QTejBJeVc0gABdRcinTFj+Um5zwOGmXHcxtcOD0NMI0dej3EAAAAgAZ/UdEf/AAAkq/hbeBKdaCKvCPoM17P1fliho2iGRYAAAAAaAZ/Wakf/AAAkscwrHtXVlVoVVoB7j89ctSEAAAAzQZvbSahBbJlMCGf//p4QAABHUfU19gAOkJ/ncykphlv7KpODdpKOu8yvnDIaJ0cFsJe1AAAAFUGf+UUVLCP/AAAXTEPPhCuTm8QRcAAAAA4Bnhh0R/8AAAMAAAMBqQAAABIBnhpqR/8AACSxzCqioC3BdeQAAAAXQZofSahBbJlMCGf//p4QAAADAAADAz8AAAAWQZ49RRUsI/8AABdQmz/LCYhqOQHKgQAAABIBnlx0R/8AACSr+GeA5IMg4TcAAAASAZ5eakf/AAAkscwqoqAtwXXkAAAAG0GaQ0moQWyZTAhn//6eEAAAGvdPUESoZgAMqQAAABZBnmFFFSwj/wAAF1CbP8sJiGo5AcqAAAAAEgGegHRH/wAAJKv4Z4DkgyDhNwAAABIBnoJqR/8AACSxzCqioC3BdeQAAABGQZqHSahBbJlMCGf//p4QAABHUfYE0AX7ksgdwo5rKrzMBbG/oukvR+BAr104K82HUyDoaiZd09sRHe5iYEcHWmjAfKUMgQAAAB5BnqVFFSwj/wAAF0xDz4xGfzVUiC5LwjU8bcFqcEEAAAAOAZ7EdEf/AAADAAADAakAAAAgAZ7Gakf/AAAksacT7sZcUaIVHh0/IRkd5qcQcyICOCEAAAAnQZrLSahBbJlMCGf//p4QAABHln0oh5f07VrgdARxAFP4CwhtwJGAAAAAJkGe6UUVLCP/AAAXTE5rwwGGgAP20XU7nYLUz7ulM1QiKU088QSsAAAAHwGfCHRH/wAABUPL7MFlQAWQjM2FwA9PCHWVf+JQRsEAAAASAZ8Kakf/AAAkscwJb6l3+AIuAAAAMEGbD0moQWyZTAhn//6eEAAAR05guSEUnBuzXZ0oAjKuQS+xyn1wbRDJXT/FrylXwAAAAB9Bny1FFSwj/wAAF0VaaK304psyO0sy7tH9CrJkzvvdAAAAHwGfTHRH/wAAJKwKoH5f1lQEm4iZibgcHwYRiFSBj6kAAAAYAZ9Oakf/AAAjsjDbU9H/L9DYcxDZweWpAAAAF0GbU0moQWyZTAhn//6eEAAAAwAAAwM+AAAAFkGfcUUVLCP/AAAXTqOeIIM5X8VcuVAAAAASAZ+QdEf/AAAkq/hngOSDIOE3AAAAEQGfkmpH/wAAJLIwoyPKLJcqAAAASUGbl0moQWyZTAhn//6eEAAAR1H19Yk4lnY0MedUARK2wBNyYxLEBVtH9jSPqYAO99Hzr2xZ48EibTZO4TXzvg+tEHrCIQ9g/QwAAAAbQZ+1RRUsI/8AABdFK0Miu19Qd2fjJj5d+juBAAAAEgGf1HRH/wAAJKv4Z4DkgyDhNwAAABsBn9ZqR/8AAAMACoJS0xlebvRFpwgCXY9wYdkAAAA8QZvbSahBbJlMCGf//p4QAAADADSuvQABdbgH1i3bV0hGMOUspehI7L9Bg+tiYkumkPWcE0kqqWBq4CmhAAAAH0Gf+UUVLCP/AAAXTqOeIJa5Xm1GI4lp3qAoZ5JfvcAAAAAXAZ4YdEf/AAAkrDxUNPybtVEC9+T6vcEAAAAbAZ4aakf/AAAjsjC2uIoaibigmtFyg+X1z97gAAAAO0GaH0moQWyZTAhn//6eEAAAAwF1O80DgALrb1B05QkIm09DbBguZvlj2JoMH258zvCxzIoRDL2zthQxAAAAJEGePUUVLCP/AAAXUFaCCFh8506/VdquconW07ZeEsdGvUEHBQAAABwBnlx0R/8AACTIa+WBVaeeYj+7WOhL0XHvcbIsAAAAKQGeXmpH/wAAJLHMCXBfLDPxf07AAs4m+jfA7FjohksraA8n+BX5pnBAAAAAREGaQ0moQWyZTAhn//6eEAAAR1IyCASmbfAxwofdywG5CG/Qec1aizy+Lr4789hKoQztWRSs8B/ItTudTCeqpdJb+qbhAAAAN0GeYUUVLCP/AAAXRiUgCPd42oAKaeytem0AZa5Prx0nlNuu3EkM+ET8siknyYBOICxqiKQ5icEAAAAiAZ6AdEf/AAAkrAqcVWhQpfQRZyqKdYN1IZMD47KdLPZr3QAAABoBnoJqR/8AACSyMjvlEhKXxN2oQw7Y5cXkWAAAABdBmodJqEFsmUwIZ//+nhAAAAMAAAMDPwAAABdBnqVFFSwj/wAAF051oneKEK5yNpwHmwAAABIBnsR0R/8AACSr+GeA5IMg4TcAAAASAZ7Gakf/AAAkscwqoqAtwXXlAAAAMUGay0moQWyZTAhn//6eEAAAR1H2CfQD9qgNExg9w1031XRV/a8Vm62tQgNnONT7WpAAAAAVQZ7pRRUsI/8AABdFK0Mg+3K7mg80AAAAEgGfCHRH/wAAJKv4Z4DkgyDhNwAAABMBnwpqR/8AAAMAA8mt5xv1vmnXAAAAJUGbD0moQWyZTAhn//6eEAAAGldPUApxNQM7SwNpn52vD4q1QoIAAAAWQZ8tRRUsI/8AABdOo54ggzlfxVy5UQAAABIBn0x0R/8AACSr+GeA5IMg4TcAAAASAZ9Oakf/AAAkscwqoqAtwXXlAAAAF0GbU0moQWyZTAhn//6eEAAAAwAAAwM+AAAAFkGfcUUVLCP/AAAXUJs/ywmIajkByoAAAAASAZ+QdEf/AAAkq/hngOSDIOE3AAAAEgGfkmpH/wAAJLHMKqKgLcF15AAAADZBm5dJqEFsmUwIX//+jLAAAEgyEVU0F0779Nnh5wASkSHpznyDe6x8ypYdckBcRoozBdGAy9oAAAA+QZ+1RRUsI/8AABdMnXgCt5PYvT1Spid5KJshyKb1BG0mXfODfTSTMGae/SWizIQ8KWniVmoB7Ol274AFa8EAAAAbAZ/UdEf/AAAkrD0eY9V9lO/T4KYCB1v0ouHBAAAALAGf1mpH/wAAJLHMFDCUAC0Zb5iBfxSlF7fiDoU1OCFE5NC0+34YqIEKGHBBAAAAIkGb20moQWyZTAhf//6MsAAAAwF2+pwth0j90l9vm/uuEXEAAAApQZ/5RRUsI/8AAAMBP4n4AW4ANl2W+/CWqPYtPPjf8bVHMRvHb4fuLuAAAAAUAZ4YdEf/AAADAfAJ2tA4GZYAj4EAAAAXAZ4aakf/AAADAfDJUYblBsSI30EkKCAAAABPQZofSahBbJlMCF///oywAABIDl8n0AVbdopGWH29S0mgIApBsEaxh1n5u/6NcUechvaiTKICLXiffIUkql5iR7jV0HfHIr1eLaodPy0E8QAAABxBnj1FFSwj/wAAF0UrQyb6fJzNDbc6euGu+HXhAAAAGQGeXHRH/wAAJKv4Z4ZVak/lWMA/k2RwHuAAAAAQAZ5eakf/AAADABppPCh3QAAAABlBmkNJqEFsmUwIV//+OEAAAAMAyM85JhCxAAAAGEGeYUUVLCP/AAAXTqOeIJYfs8aSl0uBeQAAACIBnoB0R/8AACSj/zp4AHGkg/oeyzzDYbPjJprmPd5W+vxpAAAAEgGegmpH/wAAJLHMKqKgLcF15AAAABdBmodJqEFsmUwIR//94QAAAwAAAwAxYQAAAB5BnqVFFSwj/wAAF1C+fAFb7ap0eqtvDKwmIZE9gi8AAAASAZ7EdEf/AAAkq/hngOSDIOE3AAAAEgGexmpH/wAAJLHMKqKgLcF15QAAABtBmshJqEFsmUwI//yEAAAQUjIUUIDSunwDK4gAAAxnbW9vdgAAAGxtdmhkAAAAAAAAAAAAAAAAAAAD6AAAD7QAAQAAAQAAAAAAAAAAAAAAAAEAAAAAAAAAAAAAAAAAAAABAAAAAAAAAAAAAAAAAABAAAAAAAAAAAAAAAAAAAAAAAAAAAAAAAAAAAAAAAAAAgAAC5F0cmFrAAAAXHRraGQAAAADAAAAAAAAAAAAAAABAAAAAAAAD7QAAAAAAAAAAAAAAAAAAAAAAAEAAAAAAAAAAAAAAAAAAAABAAAAAAAAAAAAAAAAAABAAAAAAlgAAAGQAAAAAAAkZWR0cwAAABxlbHN0AAAAAAAAAAEAAA+0AAACAAABAAAAAAsJbWRpYQAAACBtZGhkAAAAAAAAAAAAAAAAAAAyAAAAyQBVxAAAAAAALWhkbHIAAAAAAAAAAHZpZGUAAAAAAAAAAAAAAABWaWRlb0hhbmRsZXIAAAAKtG1pbmYAAAAUdm1oZAAAAAEAAAAAAAAAAAAAACRkaW5mAAAAHGRyZWYAAAAAAAAAAQAAAAx1cmwgAAAAAQAACnRzdGJsAAAAmHN0c2QAAAAAAAAAAQAAAIhhdmMxAAAAAAAAAAEAAAAAAAAAAAAAAAAAAAAAAlgBkABIAAAASAAAAAAAAAABAAAAAAAAAAAAAAAAAAAAAAAAAAAAAAAAAAAAAAAAAAAAGP//AAAAMmF2Y0MBZAAf/+EAGWdkAB+s2UCYM+XhAAADAAEAAAMAZA8YMZYBAAZo6+PLIsAAAAAYc3R0cwAAAAAAAAABAAAAyQAAAQAAAAAUc3RzcwAAAAAAAAABAAAAAQAABkBjdHRzAAAAAAAAAMYAAAABAAACAAAAAAEAAAQAAAAAAgAAAQAAAAABAAAFAAAAAAEAAAIAAAAAAQAAAAAAAAABAAABAAAAAAEAAAUAAAAAAQAAAgAAAAABAAAAAAAAAAEAAAEAAAAAAQAABAAAAAACAAABAAAAAAEAAAUAAAAAAQAAAgAAAAABAAAAAAAAAAEAAAEAAAAAAQAABQAAAAABAAACAAAAAAEAAAAAAAAAAQAAAQAAAAABAAAFAAAAAAEAAAIAAAAAAQAAAAAAAAABAAABAAAAAAEAAAUAAAAAAQAAAgAAAAABAAAAAAAAAAEAAAEAAAAAAQAABQAAAAABAAACAAAAAAEAAAAAAAAAAQAAAQAAAAABAAAFAAAAAAEAAAIAAAAAAQAAAAAAAAABAAABAAAAAAEAAAUAAAAAAQAAAgAAAAABAAAAAAAAAAEAAAEAAAAAAQAABQAAAAABAAACAAAAAAEAAAAAAAAAAQAAAQAAAAABAAAFAAAAAAEAAAIAAAAAAQAAAAAAAAABAAABAAAAAAEAAAUAAAAAAQAAAgAAAAABAAAAAAAAAAEAAAEAAAAAAQAABQAAAAABAAACAAAAAAEAAAAAAAAAAQAAAQAAAAABAAAFAAAAAAEAAAIAAAAAAQAAAAAAAAABAAABAAAAAAEAAAUAAAAAAQAAAgAAAAABAAAAAAAAAAEAAAEAAAAAAQAABQAAAAABAAACAAAAAAEAAAAAAAAAAQAAAQAAAAABAAADAAAAAAEAAAEAAAAAAQAABQAAAAABAAACAAAAAAEAAAAAAAAAAQAAAQAAAAABAAAFAAAAAAEAAAIAAAAAAQAAAAAAAAABAAABAAAAAAEAAAUAAAAAAQAAAgAAAAABAAAAAAAAAAEAAAEAAAAAAQAABQAAAAABAAACAAAAAAEAAAAAAAAAAQAAAQAAAAABAAAFAAAAAAEAAAIAAAAAAQAAAAAAAAABAAABAAAAAAEAAAQAAAAAAgAAAQAAAAABAAAFAAAAAAEAAAIAAAAAAQAAAAAAAAABAAABAAAAAAEAAAUAAAAAAQAAAgAAAAABAAAAAAAAAAEAAAEAAAAAAQAABQAAAAABAAACAAAAAAEAAAAAAAAAAQAAAQAAAAABAAAFAAAAAAEAAAIAAAAAAQAAAAAAAAABAAABAAAAAAEAAAUAAAAAAQAAAgAAAAABAAAAAAAAAAEAAAEAAAAAAQAABQAAAAABAAACAAAAAAEAAAAAAAAAAQAAAQAAAAABAAAFAAAAAAEAAAIAAAAAAQAAAAAAAAABAAABAAAAAAEAAAUAAAAAAQAAAgAAAAABAAAAAAAAAAEAAAEAAAAAAQAABQAAAAABAAACAAAAAAEAAAAAAAAAAQAAAQAAAAABAAAFAAAAAAEAAAIAAAAAAQAAAAAAAAABAAABAAAAAAEAAAUAAAAAAQAAAgAAAAABAAAAAAAAAAEAAAEAAAAAAQAABQAAAAABAAACAAAAAAEAAAAAAAAAAQAAAQAAAAABAAAFAAAAAAEAAAIAAAAAAQAAAAAAAAABAAABAAAAAAEAAAUAAAAAAQAAAgAAAAABAAAAAAAAAAEAAAEAAAAAAQAABQAAAAABAAACAAAAAAEAAAAAAAAAAQAAAQAAAAABAAAFAAAAAAEAAAIAAAAAAQAAAAAAAAABAAABAAAAAAEAAAUAAAAAAQAAAgAAAAABAAAAAAAAAAEAAAEAAAAAAQAABQAAAAABAAACAAAAAAEAAAAAAAAAAQAAAQAAAAABAAAFAAAAAAEAAAIAAAAAAQAAAAAAAAABAAABAAAAAAEAAAUAAAAAAQAAAgAAAAABAAAAAAAAAAEAAAEAAAAAAQAABQAAAAABAAACAAAAAAEAAAAAAAAAAQAAAQAAAAABAAAFAAAAAAEAAAIAAAAAAQAAAAAAAAABAAABAAAAAAEAAAUAAAAAAQAAAgAAAAABAAAAAAAAAAEAAAEAAAAAAQAABQAAAAABAAACAAAAAAEAAAAAAAAAAQAAAQAAAAABAAAFAAAAAAEAAAIAAAAAAQAAAAAAAAABAAABAAAAAAEAAAUAAAAAAQAAAgAAAAABAAAAAAAAAAEAAAEAAAAAAQAAAgAAAAAcc3RzYwAAAAAAAAABAAAAAQAAAMkAAAABAAADOHN0c3oAAAAAAAAAAAAAAMkAAAQ3AAAAtwAAADsAAAAnAAAAagAAADEAAAAqAAAAJgAAAEwAAABGAAAALgAAADAAAACCAAAARAAAACIAAABYAAAAIAAAABkAAAAWAAAAVgAAADMAAAAiAAAAGwAAACcAAAA2AAAAIQAAACIAAAAbAAAAMQAAABgAAAAYAAAAGwAAABsAAAAWAAAAFwAAAEcAAAA8AAAAMgAAADAAAAAzAAAAOQAAAB8AAAAfAAAAQgAAAC0AAAAdAAAAFgAAAB8AAAAZAAAAFgAAABUAAAAtAAAAGAAAABQAAAAUAAAAQwAAADYAAAAeAAAAJgAAACkAAAAcAAAAGwAAACUAAAB9AAAAIwAAABcAAAAdAAAAQgAAACEAAAArAAAAFQAAAGAAAAAdAAAAMAAAACUAAAAfAAAAKQAAAEQAAAAwAAAAIwAAACIAAAAbAAAAGwAAABYAAAAXAAAASAAAABkAAAAWAAAAJwAAAGwAAAAiAAAAGAAAAB0AAABEAAAAJQAAAB0AAABeAAAAMQAAAC8AAAAiAAAAOgAAABkAAAAkAAAAFwAAADoAAAAaAAAAFgAAABYAAAAfAAAAGgAAAB4AAAAWAAAAggAAACUAAAAgAAAALAAAAEQAAAA2AAAAJAAAAB4AAAA3AAAAGQAAABIAAAAWAAAAGwAAABoAAAAWAAAAFgAAAB8AAAAaAAAAFgAAABYAAABKAAAAIgAAABIAAAAkAAAAKwAAACoAAAAjAAAAFgAAADQAAAAjAAAAIwAAABwAAAAbAAAAGgAAABYAAAAVAAAATQAAAB8AAAAWAAAAHwAAAEAAAAAjAAAAGwAAAB8AAAA/AAAAKAAAACAAAAAtAAAASAAAADsAAAAmAAAAHgAAABsAAAAbAAAAFgAAABYAAAA1AAAAGQAAABYAAAAXAAAAKQAAABoAAAAWAAAAFgAAABsAAAAaAAAAFgAAABYAAAA6AAAAQgAAAB8AAAAwAAAAJgAAAC0AAAAYAAAAGwAAAFMAAAAgAAAAHQAAABQAAAAdAAAAHAAAACYAAAAWAAAAGwAAACIAAAAWAAAAFgAAAB8AAAAUc3RjbwAAAAAAAAABAAAAMAAAAGJ1ZHRhAAAAWm1ldGEAAAAAAAAAIWhkbHIAAAAAAAAAAG1kaXJhcHBsAAAAAAAAAAAAAAAALWlsc3QAAAAlqXRvbwAAAB1kYXRhAAAAAQAAAABMYXZmNTcuODMuMTAw\" type=\"video/mp4\" />\n",
       "                </video>"
      ],
      "text/plain": [
       "<IPython.core.display.HTML object>"
      ]
     },
     "metadata": {
      "tags": []
     }
    }
   ]
  }
 ]
}