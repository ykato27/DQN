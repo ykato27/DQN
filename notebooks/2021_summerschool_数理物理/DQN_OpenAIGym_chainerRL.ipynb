{
 "nbformat": 4,
 "nbformat_minor": 0,
 "metadata": {
  "accelerator": "GPU",
  "colab": {
   "name": "DQN_OpenAIGym_chainerRL.ipynb",
   "provenance": [],
   "collapsed_sections": []
  },
  "kernelspec": {
   "display_name": "Python 3",
   "language": "python",
   "name": "python3"
  },
  "language_info": {
   "codemirror_mode": {
    "name": "ipython",
    "version": 3
   },
   "file_extension": ".py",
   "mimetype": "text/x-python",
   "name": "python",
   "nbconvert_exporter": "python",
   "pygments_lexer": "ipython3",
   "version": "3.8.2"
  }
 },
 "cells": [
  {
   "cell_type": "markdown",
   "metadata": {
    "id": "_SMTjXIqlrgq"
   },
   "source": [
    "# 強化学習\n",
    "## RLパッケージ（cheinerRL）を使用してDQNを実装\n",
    "- タスクはOpenAIGymのCartPole\n",
    "- 連続状態、２行動の制御問題\n",
    "***\n",
    "Tetsuro Morimura, 2020"
   ]
  },
  {
   "cell_type": "markdown",
   "metadata": {
    "id": "-j4mBgamlrgq"
   },
   "source": [
    "# 準備\n",
    "\n",
    "### Colabランタイムの設定\n",
    "\n",
    "- 始める前に，「ランタイム→ランタイムのタイプの変更」から，アクセラレーターをGPUに設定しておく"
   ]
  },
  {
   "cell_type": "markdown",
   "metadata": {
    "id": "TG9omtn39cAI"
   },
   "source": [
    "### 環境の設定"
   ]
  },
  {
   "cell_type": "code",
   "metadata": {
    "colab": {
     "base_uri": "https://localhost:8080/"
    },
    "id": "2ggw9Vjm9fH2",
    "executionInfo": {
     "status": "ok",
     "timestamp": 1630156999540,
     "user_tz": -540,
     "elapsed": 24677,
     "user": {
      "displayName": "tetsuro morimura",
      "photoUrl": "",
      "userId": "05430312071579960704"
     }
    },
    "outputId": "1ced4621-7cd9-4253-fd9e-76019715a36a"
   },
   "source": [
    "# chainer, cheinerRLのインストール\n",
    "# 動画の保存に必要なモジュールのインストール\n",
    "!curl https://colab.chainer.org/install | sh -!apt-get -qq -y install xvfb freeglut3-dev ffmpeg> /dev/null\n",
    "\n",
    "!pip -q install chainerrl\n",
    "!pip -q install gym\n",
    "!pip -q install pyglet\n",
    "!pip -q install pyopengl\n",
    "!pip -q install pyvirtualdisplay"
   ],
   "execution_count": 1,
   "outputs": [
    {
     "output_type": "stream",
     "text": [
      "sh: 0: Illegal option -!\n",
      "  % Total    % Received % Xferd  Average Speed   Time    Time     Time  Current\n",
      "                                 Dload  Upload   Total   Spent    Left  Speed\n",
      "\r  0     0    0     0    0     0      0      0 --:--:-- --:--:-- --:--:--     0\r100  1580  100  1580    0     0   9349      0 --:--:-- --:--:-- --:--:--  9349\n",
      "(23) Failed writing body\n"
     ],
     "name": "stdout"
    }
   ]
  },
  {
   "cell_type": "code",
   "metadata": {
    "colab": {
     "base_uri": "https://localhost:8080/"
    },
    "id": "PaNHF9rFlPT4",
    "executionInfo": {
     "status": "ok",
     "timestamp": 1630157009163,
     "user_tz": -540,
     "elapsed": 9629,
     "user": {
      "displayName": "tetsuro morimura",
      "photoUrl": "",
      "userId": "05430312071579960704"
     }
    },
    "outputId": "c9c106a6-b1fd-4460-c532-9b2d797f9def"
   },
   "source": [
    "!apt -q install python-opengl\n",
    "!apt -q install ffmpeg\n",
    "!apt -q install xvfb"
   ],
   "execution_count": 2,
   "outputs": [
    {
     "output_type": "stream",
     "text": [
      "Reading package lists...\n",
      "Building dependency tree...\n",
      "Reading state information...\n",
      "python-opengl is already the newest version (3.1.0+dfsg-1).\n",
      "The following package was automatically installed and is no longer required:\n",
      "  libnvidia-common-460\n",
      "Use 'apt autoremove' to remove it.\n",
      "0 upgraded, 0 newly installed, 0 to remove and 40 not upgraded.\n",
      "Reading package lists...\n",
      "Building dependency tree...\n",
      "Reading state information...\n",
      "ffmpeg is already the newest version (7:3.4.8-0ubuntu0.2).\n",
      "The following package was automatically installed and is no longer required:\n",
      "  libnvidia-common-460\n",
      "Use 'apt autoremove' to remove it.\n",
      "0 upgraded, 0 newly installed, 0 to remove and 40 not upgraded.\n",
      "Reading package lists...\n",
      "Building dependency tree...\n",
      "Reading state information...\n",
      "xvfb is already the newest version (2:1.19.6-1ubuntu4.9).\n",
      "The following package was automatically installed and is no longer required:\n",
      "  libnvidia-common-460\n",
      "Use 'apt autoremove' to remove it.\n",
      "0 upgraded, 0 newly installed, 0 to remove and 40 not upgraded.\n"
     ],
     "name": "stdout"
    }
   ]
  },
  {
   "cell_type": "markdown",
   "metadata": {
    "id": "h1ZEq3tb99HY"
   },
   "source": [
    "### モジュールのインポート"
   ]
  },
  {
   "cell_type": "code",
   "metadata": {
    "id": "Ji-VyY6c9v96",
    "colab": {
     "base_uri": "https://localhost:8080/"
    },
    "executionInfo": {
     "status": "ok",
     "timestamp": 1630157020248,
     "user_tz": -540,
     "elapsed": 11091,
     "user": {
      "displayName": "tetsuro morimura",
      "photoUrl": "",
      "userId": "05430312071579960704"
     }
    },
    "outputId": "803e2fe6-ae56-4fac-a832-639cf89c9d57"
   },
   "source": [
    "# essential models\n",
    "import chainer\n",
    "import chainer.functions as F\n",
    "import chainer.links as L\n",
    "import chainerrl\n",
    "import gym\n",
    "import numpy as np\n",
    "from matplotlib import pyplot as plt\n",
    "\n",
    "# modules for movie\n",
    "from IPython import display as ipythondisplay\n",
    "import glob\n",
    "import io\n",
    "import base64\n",
    "!apt-get -qq -y install xvfb freeglut3-dev ffmpeg> /dev/null\n",
    "!pip install pyvirtualdisplay\n",
    "\n",
    "from pyvirtualdisplay import Display\n",
    "import os"
   ],
   "execution_count": 3,
   "outputs": [
    {
     "output_type": "stream",
     "text": [
      "/usr/local/lib/python3.7/dist-packages/chainer/_environment_check.py:75: UserWarning: \n",
      "--------------------------------------------------------------------------------\n",
      "CuPy (cupy-cuda101) version 9.1.0 may not be compatible with this version of Chainer.\n",
      "Please consider installing the supported version by running:\n",
      "  $ pip install 'cupy-cuda101>=7.7.0,<8.0.0'\n",
      "\n",
      "See the following page for more details:\n",
      "  https://docs.cupy.dev/en/latest/install.html\n",
      "--------------------------------------------------------------------------------\n",
      "\n",
      "  requirement=requirement, help=help))\n"
     ],
     "name": "stderr"
    },
    {
     "output_type": "stream",
     "text": [
      "Requirement already satisfied: pyvirtualdisplay in /usr/local/lib/python3.7/dist-packages (2.2)\n",
      "Requirement already satisfied: EasyProcess in /usr/local/lib/python3.7/dist-packages (from pyvirtualdisplay) (0.3)\n"
     ],
     "name": "stdout"
    }
   ]
  },
  {
   "cell_type": "markdown",
   "metadata": {
    "id": "xotOfOg3UvfH"
   },
   "source": [
    "# 環境の設定\n",
    "\n",
    "### ゲーム環境の設定，確認\n",
    "- 観測空間，アクションスペース"
   ]
  },
  {
   "cell_type": "code",
   "metadata": {
    "colab": {
     "base_uri": "https://localhost:8080/"
    },
    "id": "5xyjJvViVEq7",
    "executionInfo": {
     "status": "ok",
     "timestamp": 1630157020249,
     "user_tz": -540,
     "elapsed": 22,
     "user": {
      "displayName": "tetsuro morimura",
      "photoUrl": "",
      "userId": "05430312071579960704"
     }
    },
    "outputId": "10d9de00-d320-41f4-a1a2-4f3e5d5ed3e9"
   },
   "source": [
    "env = gym.make('CartPole-v0') ## ゲーム環境の設定（棒制御）\n",
    "\n",
    "print('observation space:', env.observation_space) ## 観測空間のチェック\n",
    "print('action space:', env.action_space) ## アクションスペースのチェック"
   ],
   "execution_count": 4,
   "outputs": [
    {
     "output_type": "stream",
     "text": [
      "observation space: Box(-3.4028234663852886e+38, 3.4028234663852886e+38, (4,), float32)\n",
      "action space: Discrete(2)\n"
     ],
     "name": "stdout"
    }
   ]
  },
  {
   "cell_type": "code",
   "metadata": {
    "colab": {
     "base_uri": "https://localhost:8080/"
    },
    "id": "Nku4Mb9XVXb6",
    "executionInfo": {
     "status": "ok",
     "timestamp": 1630157020250,
     "user_tz": -540,
     "elapsed": 21,
     "user": {
      "displayName": "tetsuro morimura",
      "photoUrl": "",
      "userId": "05430312071579960704"
     }
    },
    "outputId": "84d78c90-fdff-49ba-d5a4-cd41071f7da0"
   },
   "source": [
    "obs = env.reset() ## 観測値の初期化\n",
    "#env.render() ## 学習過程のレンダリング関数\n",
    "print('initial observation:', obs)"
   ],
   "execution_count": 5,
   "outputs": [
    {
     "output_type": "stream",
     "text": [
      "initial observation: [ 0.01378083 -0.04857511  0.0395901  -0.03677589]\n"
     ],
     "name": "stdout"
    }
   ]
  },
  {
   "cell_type": "code",
   "metadata": {
    "colab": {
     "base_uri": "https://localhost:8080/"
    },
    "id": "8JpkBI7sViJe",
    "executionInfo": {
     "status": "ok",
     "timestamp": 1630157020250,
     "user_tz": -540,
     "elapsed": 14,
     "user": {
      "displayName": "tetsuro morimura",
      "photoUrl": "",
      "userId": "05430312071579960704"
     }
    },
    "outputId": "f1e0744c-47b1-450f-c96b-2a34589720c7"
   },
   "source": [
    "action = env.action_space.sample() ## アクション結果の初期値\n",
    "obs, r, done, info = env.step(action) ## 学習結果の出力\n",
    "\n",
    "## 出力の確認\n",
    "print('next observation:', obs)\n",
    "print('reward:', r)\n",
    "print('done:', done)\n",
    "print('info:', info)"
   ],
   "execution_count": 6,
   "outputs": [
    {
     "output_type": "stream",
     "text": [
      "next observation: [ 0.01280933  0.1459574   0.03885458 -0.31670957]\n",
      "reward: 1.0\n",
      "done: False\n",
      "info: {}\n"
     ],
     "name": "stdout"
    }
   ]
  },
  {
   "cell_type": "markdown",
   "metadata": {
    "id": "DBz460lkqoXT"
   },
   "source": [
    "### 動画の記録、再生のための設定\n",
    "\n",
    "- 動画関連のメソッドの定義"
   ]
  },
  {
   "cell_type": "code",
   "metadata": {
    "id": "q_ZVT_DFqoBu",
    "executionInfo": {
     "status": "ok",
     "timestamp": 1630157020251,
     "user_tz": -540,
     "elapsed": 8,
     "user": {
      "displayName": "tetsuro morimura",
      "photoUrl": "",
      "userId": "05430312071579960704"
     }
    }
   },
   "source": [
    "def wrap_env(env):\n",
    "    # force=True：以前のモニタファイルを自動的にクリア\n",
    "    env = gym.wrappers.Monitor(env, './video', force=True)\n",
    "    return env\n",
    "\n",
    "def show_video():\n",
    "    mp4list = glob.glob('video/*.mp4')\n",
    "    #print(len(mp4list))\n",
    "    if len(mp4list) > 0:\n",
    "        for m in range(len(mp4list)):\n",
    "            mp4 = mp4list[m]\n",
    "            video = io.open(mp4, 'r+b').read()\n",
    "            encoded = base64.b64encode(video)\n",
    "            ipythondisplay.display(ipythondisplay.HTML(data='''\n",
    "                <video alt=\"test\" autoplay loop controls style=\"height: 300px;\">\n",
    "                <source src=\"data:video/mp4;base64,{0}\" type=\"video/mp4\" />\n",
    "                </video>'''.format(encoded.decode('ascii'))))\n",
    "    else: \n",
    "          print(\"Could not find video\")"
   ],
   "execution_count": 7,
   "outputs": []
  },
  {
   "cell_type": "markdown",
   "metadata": {
    "id": "yum9S07gqy8j"
   },
   "source": [
    "- ディスプレイの設定"
   ]
  },
  {
   "cell_type": "code",
   "metadata": {
    "colab": {
     "base_uri": "https://localhost:8080/"
    },
    "id": "8qxEZM5uqyrE",
    "executionInfo": {
     "status": "ok",
     "timestamp": 1630157020543,
     "user_tz": -540,
     "elapsed": 299,
     "user": {
      "displayName": "tetsuro morimura",
      "photoUrl": "",
      "userId": "05430312071579960704"
     }
    },
    "outputId": "24df573f-817d-47c2-9356-5c14fe6177e7"
   },
   "source": [
    "display = Display(visible=0, size=(1024, 768))\n",
    "display.start()\n",
    "\n",
    "#os.environ[\"DISPLAY\"] = \":\" + str(display.display) + \".\" + str(display.screen)"
   ],
   "execution_count": 8,
   "outputs": [
    {
     "output_type": "execute_result",
     "data": {
      "text/plain": [
       "<pyvirtualdisplay.display.Display at 0x7f5935253110>"
      ]
     },
     "metadata": {},
     "execution_count": 8
    }
   ]
  },
  {
   "cell_type": "markdown",
   "metadata": {
    "id": "EpcjHNqCWVTx"
   },
   "source": [
    "# エージェントの設定\n",
    "\n",
    "### Q-Networkの構成"
   ]
  },
  {
   "cell_type": "code",
   "metadata": {
    "id": "BSdETryBUtZs",
    "executionInfo": {
     "status": "ok",
     "timestamp": 1630157020544,
     "user_tz": -540,
     "elapsed": 3,
     "user": {
      "displayName": "tetsuro morimura",
      "photoUrl": "",
      "userId": "05430312071579960704"
     }
    }
   },
   "source": [
    "class Q_function(chainer.Chain):\n",
    "  \"\"\"\n",
    "  Neural Network の定義\n",
    "  3層のNN（隠れ層の層数のデフォルト値は50）\n",
    "  \"\"\"\n",
    "\n",
    "  def __init__(self, obs_size, n_actions, n_hidden_channels=50):\n",
    "    super().__init__()\n",
    "    with self.init_scope():\n",
    "      self.f_0 = L.Linear(obs_size, n_hidden_channels) ## 出力 = 観測データのサイズ × 隠れ層のチャンネル数　の行列\n",
    "      self.f_1 = L.Linear(n_hidden_channels, n_hidden_channels) ## 出力 = 隠れ層のチャンネル数 × 隠れ層のチャンネル数　の行列\n",
    "      self.f_2 = L.Linear(n_hidden_channels, n_actions) ## 出力 = 隠れ層のチャンネル数 × アクション数 のベクトル\n",
    "\n",
    "  def __call__(self, x, test=False):\n",
    "        \"\"\"\n",
    "        Args:\n",
    "            x (ndarray or chainer.Variable): 観測値\n",
    "            test (bool): テスト時か否かのフラグ\n",
    "        \"\"\"\n",
    "        h = F.tanh(self.f_0(x)) ## 活性化関数は hyperbolic tangent function\n",
    "        h = F.tanh(self.f_1(h))\n",
    "        return chainerrl.action_value.DiscreteActionValue(self.f_2(h))"
   ],
   "execution_count": 9,
   "outputs": []
  },
  {
   "cell_type": "code",
   "metadata": {
    "id": "93tFu8mdY8PA",
    "executionInfo": {
     "status": "ok",
     "timestamp": 1630157020544,
     "user_tz": -540,
     "elapsed": 3,
     "user": {
      "displayName": "tetsuro morimura",
      "photoUrl": "",
      "userId": "05430312071579960704"
     }
    }
   },
   "source": [
    "obs_size = env.observation_space.shape[0] ## 観測値のサイズ\n",
    "n_actions = env.action_space.n ## アクションの種類数\n",
    "q_func = Q_function(obs_size, n_actions) ## Q-Functonの定義"
   ],
   "execution_count": 10,
   "outputs": []
  },
  {
   "cell_type": "markdown",
   "metadata": {
    "id": "NH9zSSGsZcYR"
   },
   "source": [
    "### GPUのための設定"
   ]
  },
  {
   "cell_type": "code",
   "metadata": {
    "colab": {
     "base_uri": "https://localhost:8080/"
    },
    "id": "n0gFhfH1ZK0q",
    "executionInfo": {
     "status": "ok",
     "timestamp": 1630157020749,
     "user_tz": -540,
     "elapsed": 207,
     "user": {
      "displayName": "tetsuro morimura",
      "photoUrl": "",
      "userId": "05430312071579960704"
     }
    },
    "outputId": "51bc1eb4-de0b-4651-b790-918e824504d8"
   },
   "source": [
    "q_func.to_gpu(0)"
   ],
   "execution_count": 11,
   "outputs": [
    {
     "output_type": "execute_result",
     "data": {
      "text/plain": [
       "<__main__.Q_function at 0x7f5935267a10>"
      ]
     },
     "metadata": {},
     "execution_count": 11
    }
   ]
  },
  {
   "cell_type": "markdown",
   "metadata": {
    "id": "XhV9s5pfZvVT"
   },
   "source": [
    "### オプティマイザの設定"
   ]
  },
  {
   "cell_type": "code",
   "metadata": {
    "colab": {
     "base_uri": "https://localhost:8080/"
    },
    "id": "z8KLxXdMZygK",
    "executionInfo": {
     "status": "ok",
     "timestamp": 1630157393033,
     "user_tz": -540,
     "elapsed": 213,
     "user": {
      "displayName": "tetsuro morimura",
      "photoUrl": "",
      "userId": "05430312071579960704"
     }
    },
    "outputId": "b9cc80e2-d6d0-4afc-df74-d679c5a23e76"
   },
   "source": [
    "optimizer = chainer.optimizers.Adam(alpha=0.001) ## Adamの使用，学習率を設定\n",
    "optimizer.setup(q_func)"
   ],
   "execution_count": 18,
   "outputs": [
    {
     "output_type": "execute_result",
     "data": {
      "text/plain": [
       "<chainer.optimizers.adam.Adam at 0x7f59344d1310>"
      ]
     },
     "metadata": {},
     "execution_count": 18
    }
   ]
  },
  {
   "cell_type": "markdown",
   "metadata": {
    "id": "MoBFuK1WaUbZ"
   },
   "source": [
    "### DQNのエージェント設定"
   ]
  },
  {
   "cell_type": "code",
   "metadata": {
    "id": "ksUembxkafL-",
    "executionInfo": {
     "status": "ok",
     "timestamp": 1630157394394,
     "user_tz": -540,
     "elapsed": 213,
     "user": {
      "displayName": "tetsuro morimura",
      "photoUrl": "",
      "userId": "05430312071579960704"
     }
    }
   },
   "source": [
    "gamma = 0.98 ## discount factor値の設定：　報酬に対する罰則項\n",
    "\n",
    "# epsilon-greedy 探索の使用\n",
    "explorer = chainerrl.explorers.ConstantEpsilonGreedy(epsilon=0.3, random_action_func=env.action_space.sample)\n",
    "\n",
    "# replay buffer と，そのキャパシティの特定\n",
    "replay_buffer = chainerrl.replay_buffer.ReplayBuffer(capacity=10 ** 6)\n",
    "\n",
    "# CartPole-v0から得られる観測値は，　numpy.float64の型で返されるが，　Chainerはnumpy.float32の型を想定している\n",
    "# 型の変換関数を用意しておく\n",
    "phi = lambda x: x.astype(np.float32, copy=False)\n",
    "\n",
    "# 学習環境の設定\n",
    "agent = chainerrl.agents.DoubleDQN(\n",
    "    q_func, optimizer, replay_buffer, gamma, explorer,\n",
    "    replay_start_size=500, update_interval=1,\n",
    "    target_update_interval=100, phi=phi)"
   ],
   "execution_count": 19,
   "outputs": []
  },
  {
   "cell_type": "markdown",
   "metadata": {
    "id": "qo6aIOdplrgs"
   },
   "source": [
    "# 実験\n",
    "### 実験条件の設定"
   ]
  },
  {
   "cell_type": "code",
   "metadata": {
    "pycharm": {
     "name": "#%%\n"
    },
    "id": "qMkfj5u8lrgs",
    "executionInfo": {
     "status": "ok",
     "timestamp": 1630157396853,
     "user_tz": -540,
     "elapsed": 383,
     "user": {
      "displayName": "tetsuro morimura",
      "photoUrl": "",
      "userId": "05430312071579960704"
     }
    }
   },
   "source": [
    "n_episodes = 200 # エピソード数\n",
    "#n_episodes = 400\n",
    "#n_episodes = 600\n",
    "#n_episodes = 1000\n",
    "\n",
    "max_episode_len = 200 # 最大エピソード長"
   ],
   "execution_count": 20,
   "outputs": []
  },
  {
   "cell_type": "markdown",
   "metadata": {
    "id": "cyZTxirklrgs"
   },
   "source": [
    "### 学習"
   ]
  },
  {
   "cell_type": "code",
   "metadata": {
    "pycharm": {
     "name": "#%%\n"
    },
    "colab": {
     "base_uri": "https://localhost:8080/"
    },
    "id": "8GvITgH2lrgs",
    "executionInfo": {
     "status": "ok",
     "timestamp": 1630157602633,
     "user_tz": -540,
     "elapsed": 204685,
     "user": {
      "displayName": "tetsuro morimura",
      "photoUrl": "",
      "userId": "05430312071579960704"
     }
    },
    "outputId": "8c35565f-5f56-4800-cebf-ba42cc272a71"
   },
   "source": [
    "return_list  = []\n",
    "\n",
    "for i in range(1, n_episodes + 1):\n",
    "    obs = env.reset()\n",
    "    reward = 0\n",
    "    done = False\n",
    "    R = 0  # return (sum of rewards)\n",
    "    t = 0  # time step\n",
    "    while not done and t < max_episode_len:\n",
    "        # Uncomment to watch the behaviour\n",
    "        # env.render()\n",
    "        action = agent.act_and_train(obs, reward)\n",
    "        obs, reward, done, _ = env.step(action)\n",
    "        R += reward\n",
    "        t += 1\n",
    "    if i % 10 == 0:\n",
    "        print('episode:', i,\n",
    "              'R:', R,\n",
    "              'statistics:', agent.get_statistics())\n",
    "    agent.stop_episode_and_train(obs, reward, done)\n",
    "    # store return\n",
    "    return_list.append(R)\n",
    "print('Finished.')"
   ],
   "execution_count": 21,
   "outputs": [
    {
     "output_type": "stream",
     "text": [
      "episode: 10 R: 11.0 statistics: [('average_q', 0.15460780300518065), ('average_loss', 0), ('n_updates', 0)]\n",
      "episode: 20 R: 10.0 statistics: [('average_q', 0.2761441129149081), ('average_loss', 0), ('n_updates', 0)]\n",
      "episode: 30 R: 11.0 statistics: [('average_q', 0.40487547960442083), ('average_loss', 0), ('n_updates', 0)]\n",
      "episode: 40 R: 10.0 statistics: [('average_q', 0.5275029863296867), ('average_loss', 0), ('n_updates', 0)]\n",
      "episode: 50 R: 11.0 statistics: [('average_q', 0.6765984962548722), ('average_loss', 0.24216359775952123), ('n_updates', 46)]\n",
      "episode: 60 R: 9.0 statistics: [('average_q', 0.8466862596907482), ('average_loss', 0.3015086946948869), ('n_updates', 155)]\n",
      "episode: 70 R: 60.0 statistics: [('average_q', 1.5556931601396633), ('average_loss', 0.21296652742359762), ('n_updates', 382)]\n",
      "episode: 80 R: 66.0 statistics: [('average_q', 3.4999091197761016), ('average_loss', 0.3449973236774002), ('n_updates', 794)]\n",
      "episode: 90 R: 53.0 statistics: [('average_q', 6.974370303918235), ('average_loss', 0.46785069965543996), ('n_updates', 1364)]\n",
      "episode: 100 R: 63.0 statistics: [('average_q', 11.828405642100346), ('average_loss', 0.4196580767670726), ('n_updates', 2135)]\n",
      "episode: 110 R: 66.0 statistics: [('average_q', 16.817974612823694), ('average_loss', 0.4681170176814671), ('n_updates', 2904)]\n",
      "episode: 120 R: 123.0 statistics: [('average_q', 23.415922223049563), ('average_loss', 0.3985502378281628), ('n_updates', 4089)]\n",
      "episode: 130 R: 154.0 statistics: [('average_q', 31.23553053222003), ('average_loss', 0.40170382290366646), ('n_updates', 5750)]\n",
      "episode: 140 R: 130.0 statistics: [('average_q', 36.997770456936244), ('average_loss', 0.3801056771699596), ('n_updates', 7408)]\n",
      "episode: 150 R: 200.0 statistics: [('average_q', 41.139724601157354), ('average_loss', 0.2909540651190114), ('n_updates', 9166)]\n",
      "episode: 160 R: 116.0 statistics: [('average_q', 42.658281446149786), ('average_loss', 0.36665727918163976), ('n_updates', 10302)]\n",
      "episode: 170 R: 151.0 statistics: [('average_q', 44.18332252729816), ('average_loss', 0.30613757530749075), ('n_updates', 11586)]\n",
      "episode: 180 R: 14.0 statistics: [('average_q', 44.947414837158995), ('average_loss', 0.32484606653413), ('n_updates', 12662)]\n",
      "episode: 190 R: 155.0 statistics: [('average_q', 47.0698700757795), ('average_loss', 0.3474635680114352), ('n_updates', 14438)]\n",
      "episode: 200 R: 200.0 statistics: [('average_q', 46.771711324621165), ('average_loss', 0.40422045488705777), ('n_updates', 16263)]\n",
      "Finished.\n"
     ],
     "name": "stdout"
    }
   ]
  },
  {
   "cell_type": "markdown",
   "metadata": {
    "id": "KKvMWb0irz31"
   },
   "source": [
    "- 学習曲線"
   ]
  },
  {
   "cell_type": "code",
   "metadata": {
    "colab": {
     "base_uri": "https://localhost:8080/",
     "height": 276
    },
    "id": "x6UA7WQ2rPf9",
    "executionInfo": {
     "status": "ok",
     "timestamp": 1630157624865,
     "user_tz": -540,
     "elapsed": 585,
     "user": {
      "displayName": "tetsuro morimura",
      "photoUrl": "",
      "userId": "05430312071579960704"
     }
    },
    "outputId": "6817e068-e16e-4334-bd9d-c07b90d0a3e7"
   },
   "source": [
    "## Visualization\n",
    "t_lim       = len(return_list)\n",
    "window_size = 3\n",
    "\n",
    "# smooth return\n",
    "v = np.ones(window_size)/window_size\n",
    "smoothed_return = np.convolve( return_list, v, mode='valid')\n",
    "\n",
    "# plot\n",
    "xlim = np.array(range(window_size-1,t_lim)) - window_size/2\n",
    "plt.plot(xlim, smoothed_return)\n",
    "plt.xlabel('Timestep')\n",
    "plt.ylabel('Averaged Return')\n",
    "plt.tick_params(top = True, right = True, direction = 'in')\n",
    "plt.grid(which='both')\n",
    "plt.xlim(0,t_lim)\n",
    "plt.show()"
   ],
   "execution_count": 22,
   "outputs": [
    {
     "output_type": "display_data",
     "data": {
      "image/png": "[encoded data removed]",
      "text/plain": [
       "<Figure size 432x288 with 1 Axes>"
      ]
     },
     "metadata": {
      "needs_background": "light"
     }
    }
   ]
  },
  {
   "cell_type": "markdown",
   "metadata": {
    "id": "GuSMtwsHdLZJ"
   },
   "source": [
    "### テスト"
   ]
  },
  {
   "cell_type": "code",
   "metadata": {
    "colab": {
     "base_uri": "https://localhost:8080/",
     "height": 659
    },
    "id": "EAAGqnsre1rf",
    "executionInfo": {
     "status": "ok",
     "timestamp": 1630157638906,
     "user_tz": -540,
     "elapsed": 7825,
     "user": {
      "displayName": "tetsuro morimura",
      "photoUrl": "",
      "userId": "05430312071579960704"
     }
    },
    "outputId": "fa622aa2-e322-4eed-d44a-8e73589ca6dc"
   },
   "source": [
    "# エピソードを生成し、動画を保存\n",
    "envw = wrap_env(gym.make('CartPole-v0'))\n",
    "\n",
    "for i in range(2):\n",
    "    obs = envw.reset()\n",
    "    done = False\n",
    "    R = 0\n",
    "    t = 0\n",
    "    while not done and t < 200:\n",
    "        envw.render()\n",
    "        action = agent.act(obs)\n",
    "        obs, r, done, _ = envw.step(action)\n",
    "        R += r\n",
    "        t += 1\n",
    "    print('test episode:', i, 'R:', R)\n",
    "    agent.stop_episode()\n",
    "\n",
    "envw.close()\n",
    "\n",
    "# 動画の再生\n",
    "show_video()\n",
    "\n",
    "# Colab上から動画を削除\n",
    "!rm video/openaigym.video.*"
   ],
   "execution_count": 23,
   "outputs": [
    {
     "output_type": "stream",
     "text": [
      "test episode: 0 R: 200.0\n",
      "test episode: 1 R: 200.0\n"
     ],
     "name": "stdout"
    },
    {
     "output_type": "display_data",
     "data": {
      "text/html": [
       "\n",
       "                <video alt=\"test\" autoplay loop controls style=\"height: 300px;\">\n",
       "                <source src=\"data:video/mp4;base64,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\" type=\"video/mp4\" />\n",
       "                </video>"
      ],
      "text/plain": [
       "<IPython.core.display.HTML object>"
      ]
     },
     "metadata": {}
    },
    {
     "output_type": "display_data",
     "data": {
      "text/html": [
       "\n",
       "                <video alt=\"test\" autoplay loop controls style=\"height: 300px;\">\n",
       "                <source src=\"data:video/mp4;base64,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\" type=\"video/mp4\" />\n",
       "                </video>"
      ],
      "text/plain": [
       "<IPython.core.display.HTML object>"
      ]
     },
     "metadata": {}
    }
   ]
  }
 ]
}