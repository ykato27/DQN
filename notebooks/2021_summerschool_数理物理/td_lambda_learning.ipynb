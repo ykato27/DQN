{
 "nbformat": 4,
 "nbformat_minor": 0,
 "metadata": {
  "colab": {
   "name": "td_lambda_learning.ipynb",
   "provenance": [],
   "collapsed_sections": []
  },
  "kernelspec": {
   "display_name": "Python 3",
   "language": "python",
   "name": "python3"
  },
  "language_info": {
   "codemirror_mode": {
    "name": "ipython",
    "version": 3
   },
   "file_extension": ".py",
   "mimetype": "text/x-python",
   "name": "python",
   "nbconvert_exporter": "python",
   "pygments_lexer": "ipython3",
   "version": "3.8.2"
  }
 },
 "cells": [
  {
   "cell_type": "markdown",
   "metadata": {
    "id": "mZl74_R_EpaM"
   },
   "source": [
    "# 強化学習 3日目 @ Summer School 数理物理 2021\n",
    "## TD learning with eligibility trace\n",
    "***\n",
    "Tetsuro Morimura, 2021"
   ]
  },
  {
   "cell_type": "markdown",
   "metadata": {
    "id": "YgvugLaREpaO"
   },
   "source": [
    "### Import required Python packages"
   ]
  },
  {
   "cell_type": "code",
   "metadata": {
    "pycharm": {
     "name": "#%%\n"
    },
    "id": "dV7Nc82CEpaP",
    "executionInfo": {
     "status": "ok",
     "timestamp": 1630159628853,
     "user_tz": -540,
     "elapsed": 6,
     "user": {
      "displayName": "tetsuro morimura",
      "photoUrl": "",
      "userId": "05430312071579960704"
     }
    }
   },
   "source": [
    "import numpy as np\n",
    "from matplotlib import pyplot as plt"
   ],
   "execution_count": 1,
   "outputs": []
  },
  {
   "cell_type": "code",
   "metadata": {
    "id": "0alLP30sS7J1",
    "pycharm": {
     "name": "#%% md\n"
    },
    "executionInfo": {
     "status": "ok",
     "timestamp": 1630159629181,
     "user_tz": -540,
     "elapsed": 332,
     "user": {
      "displayName": "tetsuro morimura",
      "photoUrl": "",
      "userId": "05430312071579960704"
     }
    }
   },
   "source": [
    "### Define Markov Decision Process & Environment"
   ],
   "execution_count": 2,
   "outputs": []
  },
  {
   "cell_type": "code",
   "metadata": {
    "pycharm": {
     "name": "#%%\n"
    },
    "id": "e3X48LX5EpaP",
    "executionInfo": {
     "status": "ok",
     "timestamp": 1630159629181,
     "user_tz": -540,
     "elapsed": 4,
     "user": {
      "displayName": "tetsuro morimura",
      "photoUrl": "",
      "userId": "05430312071579960704"
     }
    }
   },
   "source": [
    "class MDP:\n",
    "    def __init__(self, state_set, action_set, init_prob, trans_prob, reward_fun):\n",
    "        self.state_set   = state_set\n",
    "        self.action_set  = action_set\n",
    "        self.nstate      = len(state_set)\n",
    "        self.naction     = len(action_set)\n",
    "        self._init_prob  = init_prob\n",
    "        self._trans_prob = trans_prob   #d1:state, d2:action, d3:next_state\n",
    "        self._reward_fun = reward_fun   #d1:state, d2:action\n",
    "        self._state      = None\n",
    "        self._action     = None\n",
    "        self._reward     = None\n",
    "    def set_state(self, state):\n",
    "        self._state  = state\n",
    "    def set_action(self, action):\n",
    "        self._action = action\n",
    "    def get_trans_matrix(self, state):\n",
    "        return np.array(self._trans_prob[state])\n",
    "    def get_reward_vec(self, state):\n",
    "        return np.array(self._reward_fun[state])\n",
    "    def get_state(self):\n",
    "        return self._state\n",
    "    def get_action(self):\n",
    "        return self._action\n",
    "    def get_reward(self):\n",
    "        return self._reward_fun[self._state][self._action]\n",
    "    def get_value_fun(self, gamma, policy): \n",
    "        r_s  = np.zeros(mdp.nstate)\n",
    "        P_ss = np.zeros(mdp.nstate*mdp.nstate).reshape(mdp.nstate, mdp.nstate)\n",
    "        if np.shape(policy) == (self.nstate,): # deterministic policy\n",
    "            for s in range(mdp.nstate):\n",
    "                r_s[s]  = mdp.get_reward_vec(s) [policy[s]]\n",
    "                P_ss[s] = mdp.get_trans_matrix(s)[policy[s]]\n",
    "        else: # stochastic policy\n",
    "            policy = np.array(policy)\n",
    "            for s in range(mdp.nstate):\n",
    "                r_s[s]  = np.inner(policy[s], mdp.get_reward_vec(s))\n",
    "                P_ss[s] = np.inner(policy[s], mdp.get_trans_matrix(s).T)\n",
    "        value_fun = np.linalg.solve(np.eye(mdp.nstate)-gamma*P_ss, r_s)  # solve Ax = b \n",
    "        return value_fun\n",
    "    def reset(self):\n",
    "        init_state  = np.random.choice(self.state_set, p=self._init_prob)\n",
    "        self._state  = init_state\n",
    "        self._action = None\n",
    "        return init_state\n",
    "    def step(self, action=None):\n",
    "        state = self.get_state()\n",
    "        if action is None:\n",
    "            action = self.get_action()\n",
    "        else:\n",
    "            self.set_action(action)\n",
    "        if state is None or action is None:\n",
    "            raise Exception(\"'state' or/and 'action' is not set!\")\n",
    "        next_state   = np.random.choice(self.state_set, p=self._trans_prob[state][action])\n",
    "        reward       = self.get_reward()\n",
    "        self._state  = next_state\n",
    "        self._reward = reward\n",
    "        self._action = None\n",
    "        return next_state, reward\n",
    "\n",
    "class Environment(MDP):\n",
    "    def set_state(self):\n",
    "        raise Exception(\"This method is not available!\") # 自由に状態をリセットできないので。\n",
    "    def get_trans_matrix(self):\n",
    "        raise Exception(\"This method is not available!\")\n",
    "    def get_reward_vec(self):\n",
    "        raise Exception(\"This method is not available!\")"
   ],
   "execution_count": 3,
   "outputs": []
  },
  {
   "cell_type": "code",
   "metadata": {
    "id": "iq2ij7xpTLL_",
    "pycharm": {
     "name": "#%% md\n"
    },
    "executionInfo": {
     "status": "ok",
     "timestamp": 1630159629543,
     "user_tz": -540,
     "elapsed": 365,
     "user": {
      "displayName": "tetsuro morimura",
      "photoUrl": "",
      "userId": "05430312071579960704"
     }
    }
   },
   "source": [
    "### Generate Environment (env) instance"
   ],
   "execution_count": 4,
   "outputs": []
  },
  {
   "cell_type": "code",
   "metadata": {
    "pycharm": {
     "name": "#%%\n"
    },
    "id": "xvbGtw_9EpaS",
    "executionInfo": {
     "status": "ok",
     "timestamp": 1630159629544,
     "user_tz": -540,
     "elapsed": 7,
     "user": {
      "displayName": "tetsuro morimura",
      "photoUrl": "",
      "userId": "05430312071579960704"
     }
    }
   },
   "source": [
    "state_set  = [0,1,2]\n",
    "action_set = [0,1]\n",
    "init_prob  = [0.6, 0.3, 0.1]\n",
    "trans_prob = np.zeros(len(state_set)*len(action_set)*len(state_set)).reshape(len(state_set), len(action_set), len(state_set)) #d1:state, d2:action, d3:next state\n",
    "trans_prob[0][0] = [1,   0,   0]\n",
    "trans_prob[0][1] = [0.5, 0.5, 0]\n",
    "trans_prob[1][0] = [1,   0,   0] \n",
    "trans_prob[1][1] = [0,   0.5, 0.5]\n",
    "trans_prob[2][0] = [0,   1,   0]\n",
    "trans_prob[2][1] = [1,   0,   0]\n",
    "reward_fun       = [  [1.0, -1.0],\n",
    "                      [1.0, -1.0],\n",
    "                      [1.0, 12.0], ]   #d1:state, d2:action\n",
    "\n",
    "mdp = MDP(state_set, action_set, init_prob, trans_prob, reward_fun)\n",
    "env = MDP(state_set, action_set, init_prob, trans_prob, reward_fun)\n",
    "del state_set, action_set, init_prob, trans_prob, reward_fun"
   ],
   "execution_count": 5,
   "outputs": []
  },
  {
   "cell_type": "code",
   "metadata": {
    "id": "9iWt2rrjXm_v",
    "pycharm": {
     "name": "#%% md\n"
    },
    "executionInfo": {
     "status": "ok",
     "timestamp": 1630159629544,
     "user_tz": -540,
     "elapsed": 6,
     "user": {
      "displayName": "tetsuro morimura",
      "photoUrl": "",
      "userId": "05430312071579960704"
     }
    }
   },
   "source": [
    "## TD(lambda) learning"
   ],
   "execution_count": 6,
   "outputs": []
  },
  {
   "cell_type": "code",
   "metadata": {
    "pycharm": {
     "name": "#%%\n"
    },
    "id": "VOwyqcKsEpaT",
    "executionInfo": {
     "status": "ok",
     "timestamp": 1630159629849,
     "user_tz": -540,
     "elapsed": 309,
     "user": {
      "displayName": "tetsuro morimura",
      "photoUrl": "",
      "userId": "05430312071579960704"
     }
    }
   },
   "source": [
    "gamma  = 0.9         # discounting rate\n",
    "n_time = 2001\n",
    "policy = [[.5,.5],   # stochastic policy  \n",
    "          [.5,.5],\n",
    "          [.5,.5]]\n",
    "alp = 0.2            # learning rate\n",
    "lam = 0.5            # eligibility decay rate\n",
    "value_fun       = np.zeros(env.nstate)\n",
    "eligibility     = np.zeros(env.nstate)\n",
    "\n",
    "# set store variables\n",
    "value_fun_store = np.tile(value_fun, (n_time,1))\n",
    "\n",
    "# main\n",
    "for t in range(n_time):\n",
    "    # store \n",
    "    value_fun_store[t] = value_fun\n",
    "\n",
    "    # update state\n",
    "    if t==0:\n",
    "      state = env.reset()\n",
    "    else:\n",
    "      state = next_state\n",
    "\n",
    "    # transition\n",
    "    action             = np.random.choice(env.action_set, p=policy[state])\n",
    "    #rint(env.step(action))\n",
    "    next_state, reward = env.step(action)\n",
    "\n",
    "    # update eligibility\n",
    "    vec              = np.zeros(env.nstate)\n",
    "    vec[state]       = 1\n",
    "    eligibility      = lam*gamma*eligibility[state] + vec\n",
    "    # update value-function\n",
    "    td_error         = reward + gamma*value_fun[next_state] - value_fun[state]\n",
    "    for s in env.state_set:\n",
    "        value_fun[s]   += (1-lam*gamma) * alp * eligibility[s] * td_error"
   ],
   "execution_count": 7,
   "outputs": []
  },
  {
   "cell_type": "code",
   "metadata": {
    "id": "mGzlNs4PZM9U",
    "pycharm": {
     "name": "#%% md\n"
    },
    "executionInfo": {
     "status": "ok",
     "timestamp": 1630159629849,
     "user_tz": -540,
     "elapsed": 4,
     "user": {
      "displayName": "tetsuro morimura",
      "photoUrl": "",
      "userId": "05430312071579960704"
     }
    }
   },
   "source": [
    "### Visualize results"
   ],
   "execution_count": 8,
   "outputs": []
  },
  {
   "cell_type": "code",
   "metadata": {
    "pycharm": {
     "name": "#%%\n"
    },
    "colab": {
     "base_uri": "https://localhost:8080/",
     "height": 292
    },
    "id": "k0hqac1EEpaU",
    "executionInfo": {
     "status": "ok",
     "timestamp": 1630159630843,
     "user_tz": -540,
     "elapsed": 997,
     "user": {
      "displayName": "tetsuro morimura",
      "photoUrl": "",
      "userId": "05430312071579960704"
     }
    },
    "outputId": "6338ba0f-3873-4a05-aaac-f811c4bba464"
   },
   "source": [
    "# calc true-value-function\n",
    "value_fun = mdp.get_value_fun(gamma,policy)\n",
    "\n",
    "# plot\n",
    "xs = range(n_time)\n",
    "plt.plot(xs, value_fun_store)\n",
    "plt.plot(xs, np.tile(value_fun, (xs[-1]+1,1)), 'k--')\n",
    "plt.xlabel('# iteration')\n",
    "plt.ylabel('Estimated value function')\n",
    "plt.xlim(xs[0],xs[-1])\n",
    "plt.ylim(-1,15)\n",
    "plt.tick_params(top = True, right = True, direction = 'in')\n",
    "plt.legend(['v(1)', 'v(2)','v(3)', 'V_true(1)','V_true(2)','V_true(3)'], bbox_to_anchor=(1.05, 1), loc='upper left', borderaxespad=0, fontsize=12)\n",
    "plt.grid(which='both')\n",
    "plt.title('TD(lambda={}) learning'.format(lam))\n",
    "plt.show()"
   ],
   "execution_count": 9,
   "outputs": [
    {
     "output_type": "display_data",
     "data": {
      "image/png": "[encoded data removed]",
      "text/plain": [
       "<Figure size 432x288 with 1 Axes>"
      ]
     },
     "metadata": {
      "needs_background": "light"
     }
    }
   ]
  }
 ]
}