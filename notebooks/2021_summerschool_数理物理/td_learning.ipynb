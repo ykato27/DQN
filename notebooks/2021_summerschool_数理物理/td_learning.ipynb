{
 "nbformat": 4,
 "nbformat_minor": 0,
 "metadata": {
  "colab": {
   "name": "td_learning.ipynb",
   "provenance": [],
   "collapsed_sections": []
  },
  "kernelspec": {
   "display_name": "Python 3",
   "language": "python",
   "name": "python3"
  },
  "language_info": {
   "codemirror_mode": {
    "name": "ipython",
    "version": 3
   },
   "file_extension": ".py",
   "mimetype": "text/x-python",
   "name": "python",
   "nbconvert_exporter": "python",
   "pygments_lexer": "ipython3",
   "version": "3.8.2"
  }
 },
 "cells": [
  {
   "cell_type": "markdown",
   "metadata": {
    "collapsed": false,
    "id": "mpcWQE4GEDIs"
   },
   "source": [
    "# 強化学習 3日目 @ Summer School 数理物理 2021\n",
    "## TD learning\n",
    "***\n",
    "Tetsuro Morimura, 2021"
   ]
  },
  {
   "cell_type": "markdown",
   "metadata": {
    "collapsed": false,
    "id": "VBA26YzpEDIu"
   },
   "source": [
    "### Import required Python packages"
   ]
  },
  {
   "cell_type": "code",
   "metadata": {
    "pycharm": {
     "name": "#%%\n"
    },
    "id": "QY7C3_XpEDIv",
    "executionInfo": {
     "status": "ok",
     "timestamp": 1630159279482,
     "user_tz": -540,
     "elapsed": 7,
     "user": {
      "displayName": "tetsuro morimura",
      "photoUrl": "",
      "userId": "05430312071579960704"
     }
    }
   },
   "source": [
    "import numpy as np\n",
    "from matplotlib import pyplot as plt"
   ],
   "execution_count": 1,
   "outputs": []
  },
  {
   "cell_type": "markdown",
   "metadata": {
    "pycharm": {
     "name": "#%%　md\n"
    },
    "id": "cgSkLTcZEDIv"
   },
   "source": [
    "### Define Markov Decision Process & Enviroment"
   ]
  },
  {
   "cell_type": "code",
   "metadata": {
    "pycharm": {
     "name": "#%%\n"
    },
    "id": "xKXZEmNeEDIw",
    "executionInfo": {
     "status": "ok",
     "timestamp": 1630159279750,
     "user_tz": -540,
     "elapsed": 273,
     "user": {
      "displayName": "tetsuro morimura",
      "photoUrl": "",
      "userId": "05430312071579960704"
     }
    }
   },
   "source": [
    "class MDP:\n",
    "    def __init__(self, state_set, action_set, init_prob, trans_prob, reward_fun):\n",
    "        self.state_set   = state_set\n",
    "        self.action_set  = action_set\n",
    "        self.nstate      = len(state_set)\n",
    "        self.naction     = len(action_set)\n",
    "        self._init_prob  = init_prob\n",
    "        self._trans_prob = trans_prob   #d1:state, d2:action, d3:next_state\n",
    "        self._reward_fun = reward_fun   #d1:state, d2:action\n",
    "        self._state      = None\n",
    "        self._action     = None\n",
    "        self._reward     = None\n",
    "    def set_state(self, state):\n",
    "        self._state  = state\n",
    "    def set_action(self, action):\n",
    "        self._action = action\n",
    "    def get_trans_matrix(self, state):\n",
    "        return np.array(self._trans_prob[state])\n",
    "    def get_reward_vec(self, state):\n",
    "        return np.array(self._reward_fun[state])\n",
    "    def get_state(self):\n",
    "        return self._state\n",
    "    def get_action(self):\n",
    "        return self._action\n",
    "    def get_reward(self):\n",
    "        return self._reward_fun[self._state][self._action]\n",
    "    def get_value_fun(self, gamma, policy):\n",
    "        r_s  = np.zeros(mdp.nstate)\n",
    "        P_ss = np.zeros(mdp.nstate*mdp.nstate).reshape(mdp.nstate, mdp.nstate)\n",
    "        if np.shape(policy) == (self.nstate,): # deterministic policy\n",
    "            for s in range(mdp.nstate):\n",
    "                r_s[s]  = mdp.get_reward_vec(s) [policy[s]]\n",
    "                P_ss[s] = mdp.get_trans_matrix(s)[policy[s]]\n",
    "        else: # stochastic policy\n",
    "            policy = np.array(policy)\n",
    "            for s in range(mdp.nstate):\n",
    "                r_s[s]  = np.inner(policy[s], mdp.get_reward_vec(s))\n",
    "                P_ss[s] = np.inner(policy[s], mdp.get_trans_matrix(s).T)\n",
    "        value_fun = np.linalg.solve(np.eye(mdp.nstate)-gamma*P_ss, r_s)  # solve Ax = b\n",
    "        return value_fun\n",
    "    def reset(self):\n",
    "        init_state  = np.random.choice(self.state_set, p=self._init_prob)\n",
    "        self._state  = init_state\n",
    "        self._action = None\n",
    "        return init_state\n",
    "    def step(self, action=None):\n",
    "        state = self.get_state()\n",
    "        if action is None:\n",
    "            action = self.get_action()\n",
    "        else:\n",
    "            self.set_action(action)\n",
    "        if state is None or action is None:\n",
    "            raise Exception(\"'state' or/and 'action' is not set!\")\n",
    "        next_state   = np.random.choice(self.state_set, p=self._trans_prob[state][action])\n",
    "        reward       = self.get_reward()\n",
    "        self._state  = next_state\n",
    "        self._reward = reward\n",
    "        self._action = None\n",
    "        return next_state, reward\n",
    "\n",
    "class Environment(MDP):\n",
    "    def set_state(self):\n",
    "        raise Exception(\"This method is not available!\") # 自由に状態をリセットできないので。\n",
    "    def get_trans_matrix(self):\n",
    "        raise Exception(\"This method is not available!\")\n",
    "    def get_reward_vec(self):\n",
    "        raise Exception(\"This method is not available!\")"
   ],
   "execution_count": 2,
   "outputs": []
  },
  {
   "cell_type": "markdown",
   "metadata": {
    "pycharm": {
     "name": "#%% md\n"
    },
    "id": "W5pg0Cz3EDIx"
   },
   "source": [
    "## Generate Environment (env) instance"
   ]
  },
  {
   "cell_type": "code",
   "metadata": {
    "pycharm": {
     "name": "#%%\n"
    },
    "id": "WYjeSEzQEDIy",
    "executionInfo": {
     "status": "ok",
     "timestamp": 1630159279752,
     "user_tz": -540,
     "elapsed": 5,
     "user": {
      "displayName": "tetsuro morimura",
      "photoUrl": "",
      "userId": "05430312071579960704"
     }
    }
   },
   "source": [
    "state_set  = [0,1,2]\n",
    "action_set = [0,1]\n",
    "init_prob  = [0.6, 0.3, 0.1]\n",
    "trans_prob = np.zeros(len(state_set)*len(action_set)*len(state_set)).reshape(len(state_set), len(action_set), len(state_set)) #d1:state, d2:action, d3:next state\n",
    "trans_prob[0][0] = [1,   0,   0]\n",
    "trans_prob[0][1] = [0.5, 0.5, 0]\n",
    "trans_prob[1][0] = [1,   0,   0]\n",
    "trans_prob[1][1] = [0,   0.5, 0.5]\n",
    "trans_prob[2][0] = [0,   1,   0]\n",
    "trans_prob[2][1] = [1,   0,   0]\n",
    "reward_fun       = [  [1.0, -1.0],\n",
    "                      [1.0, -1.0],\n",
    "                      [1.0, 12.0], ]   #d1:state, d2:action\n",
    "\n",
    "mdp = MDP(state_set, action_set, init_prob, trans_prob, reward_fun)\n",
    "env = MDP(state_set, action_set, init_prob, trans_prob, reward_fun)\n",
    "del state_set, action_set, init_prob, trans_prob, reward_fun\n"
   ],
   "execution_count": 3,
   "outputs": []
  },
  {
   "cell_type": "markdown",
   "metadata": {
    "pycharm": {
     "name": "#%% md\n"
    },
    "id": "6p3m1pcMEDIy"
   },
   "source": [
    "### TD learning"
   ]
  },
  {
   "cell_type": "code",
   "metadata": {
    "pycharm": {
     "name": "#%%\n"
    },
    "id": "Cu0B9t1tEDIz",
    "executionInfo": {
     "status": "ok",
     "timestamp": 1630159280025,
     "user_tz": -540,
     "elapsed": 277,
     "user": {
      "displayName": "tetsuro morimura",
      "photoUrl": "",
      "userId": "05430312071579960704"
     }
    }
   },
   "source": [
    "# init parameter\n",
    "gamma  = 0.9         # discounting rate\n",
    "n_time = 3001\n",
    "policy = [[.5,.5],   # stochastic policy\n",
    "          [.5,.5],\n",
    "          [.5,.5]]\n",
    "alp    = 0.05        # learning rate\n",
    "value_fun       = np.zeros(env.nstate)\n",
    "\n",
    "# set store variables\n",
    "value_fun_store = np.tile(value_fun, (n_time,1))\n",
    "\n",
    "# main\n",
    "for t in range(n_time):\n",
    "    # store\n",
    "    value_fun_store[t] = value_fun\n",
    "\n",
    "    # update state\n",
    "    if t==0:\n",
    "      state = env.reset()\n",
    "    else:\n",
    "      state = next_state\n",
    "\n",
    "    # transition\n",
    "    action             = np.random.choice(env.action_set, p=policy[state])\n",
    "    #rint(env.step(action))\n",
    "    next_state, reward = env.step(action)\n",
    "\n",
    "    # update value-function\n",
    "    td_error          = reward + gamma*value_fun[next_state] - value_fun[state]\n",
    "    value_fun[state] += alp*td_error\n"
   ],
   "execution_count": 4,
   "outputs": []
  },
  {
   "cell_type": "markdown",
   "metadata": {
    "pycharm": {
     "name": "#%% md\n"
    },
    "id": "5yafwZNxEDIz"
   },
   "source": [
    "### Visualize results"
   ]
  },
  {
   "cell_type": "code",
   "metadata": {
    "pycharm": {
     "name": "#%%\n"
    },
    "id": "iSOdlauBEDIz",
    "executionInfo": {
     "status": "ok",
     "timestamp": 1630159281236,
     "user_tz": -540,
     "elapsed": 1215,
     "user": {
      "displayName": "tetsuro morimura",
      "photoUrl": "",
      "userId": "05430312071579960704"
     }
    },
    "outputId": "c8a347c7-2eff-434e-8e29-1154311580a8",
    "colab": {
     "base_uri": "https://localhost:8080/",
     "height": 292
    }
   },
   "source": [
    "# calc true-value-function\n",
    "value_fun = mdp.get_value_fun(gamma,policy)\n",
    "\n",
    "# plot\n",
    "xs = range(n_time)\n",
    "plt.plot(xs, value_fun_store)\n",
    "plt.plot(xs, np.tile(value_fun, (xs[-1]+1,1)), 'k--')\n",
    "plt.xlabel('# iteration')\n",
    "plt.ylabel('Estimated value function')\n",
    "plt.xlim(xs[0],xs[-1])\n",
    "plt.ylim(-1,13)\n",
    "plt.tick_params(top = True, right = True, direction = 'in')\n",
    "plt.legend(['v(1)', 'v(2)','v(3)', 'V_true(1)','V_true(2)','V_true(3)'], bbox_to_anchor=(1.05, 1), loc='upper left', borderaxespad=0, fontsize=12)\n",
    "plt.grid(which='both')\n",
    "plt.title('TD learning')\n",
    "plt.show()\n",
    "\n"
   ],
   "execution_count": 5,
   "outputs": [
    {
     "output_type": "display_data",
     "data": {
      "image/png": "[encoded data removed]",
      "text/plain": [
       "<Figure size 432x288 with 1 Axes>"
      ]
     },
     "metadata": {
      "needs_background": "light"
     }
    }
   ]
  }
 ]
}