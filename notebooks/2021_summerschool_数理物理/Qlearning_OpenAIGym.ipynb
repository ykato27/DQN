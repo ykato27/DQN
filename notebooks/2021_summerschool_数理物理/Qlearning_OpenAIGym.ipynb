{
 "nbformat": 4,
 "nbformat_minor": 0,
 "metadata": {
  "accelerator": "GPU",
  "colab": {
   "name": "Qlearning_OpenAIGym.ipynb のコピー",
   "provenance": [],
   "collapsed_sections": []
  },
  "kernelspec": {
   "display_name": "Python 3",
   "language": "python",
   "name": "python3"
  },
  "language_info": {
   "codemirror_mode": {
    "name": "ipython",
    "version": 3
   },
   "file_extension": ".py",
   "mimetype": "text/x-python",
   "name": "python",
   "nbconvert_exporter": "python",
   "pygments_lexer": "ipython3",
   "version": "3.8.2"
  }
 },
 "cells": [
  {
   "cell_type": "markdown",
   "metadata": {
    "pycharm": {
     "name": "#%% md\n"
    },
    "id": "2J7GB2vRivCZ"
   },
   "source": [
    "# 強化学習 3日目 @ Summer School 数理物理 2021\n",
    "## OpenAIGymを使ってみる\n",
    "- 初歩的なタスク CartPole を使用。\n",
    "- 状態空間は連続、行動数は2。\n",
    "- 状態を離散化し、テーブル形式のQ学習を適用。\n",
    "***\n",
    "Tetsuro Morimura, 2021"
   ]
  },
  {
   "cell_type": "markdown",
   "metadata": {
    "id": "q81N-uQwPzJZ"
   },
   "source": [
    "# 準備\n",
    "\n",
    "### モジュールのインポート"
   ]
  },
  {
   "cell_type": "code",
   "metadata": {
    "colab": {
     "base_uri": "https://localhost:8080/"
    },
    "id": "A951auQcATUM",
    "outputId": "c54bc97e-acb9-48ca-bfb5-fc61161d7868"
   },
   "source": [
    "# essential models\n",
    "import gym\n",
    "import numpy as np\n",
    "from matplotlib import pyplot as plt\n",
    "\n",
    "# modules for movie\n",
    "from IPython import display as ipythondisplay\n",
    "import glob\n",
    "import io\n",
    "import base64\n",
    "!apt-get -qq -y install xvfb freeglut3-dev ffmpeg> /dev/null\n",
    "!pip install pyvirtualdisplay\n",
    "\n",
    "from pyvirtualdisplay import Display\n",
    "import os"
   ],
   "execution_count": null,
   "outputs": [
    {
     "output_type": "stream",
     "text": [
      "Requirement already satisfied: pyvirtualdisplay in /usr/local/lib/python3.7/dist-packages (2.2)\n",
      "Requirement already satisfied: EasyProcess in /usr/local/lib/python3.7/dist-packages (from pyvirtualdisplay) (0.3)\n"
     ],
     "name": "stdout"
    }
   ]
  },
  {
   "cell_type": "markdown",
   "metadata": {
    "id": "hq4a5CEQgi7b"
   },
   "source": [
    "# 環境の設定\n",
    "\n",
    "### ゲーム環境の設定"
   ]
  },
  {
   "cell_type": "code",
   "metadata": {
    "id": "LvA5HQHI1W_d"
   },
   "source": [
    "env = gym.make('CartPole-v0') ## ゲーム環境の設定（棒制御）"
   ],
   "execution_count": null,
   "outputs": []
  },
  {
   "cell_type": "markdown",
   "metadata": {
    "id": "TqeIR_TE3HT9"
   },
   "source": [
    "### 動画の記録、再生のための設定\n",
    "\n",
    "- 動画関連のメソッドの定義"
   ]
  },
  {
   "cell_type": "code",
   "metadata": {
    "id": "hU7RLxfi3IFP"
   },
   "source": [
    "def wrap_env(env):\n",
    "    # force=True：以前のモニタファイルを自動的にクリア\n",
    "    env = gym.wrappers.Monitor(env, './video', force=True)\n",
    "    return env\n",
    "\n",
    "def show_video():\n",
    "    mp4list = glob.glob('video/*.mp4')\n",
    "    #print(len(mp4list))\n",
    "    if len(mp4list) > 0:\n",
    "        for m in range(len(mp4list)):\n",
    "            mp4 = mp4list[m]\n",
    "            video = io.open(mp4, 'r+b').read()\n",
    "            encoded = base64.b64encode(video)\n",
    "            ipythondisplay.display(ipythondisplay.HTML(data='''\n",
    "                <video alt=\"test\" autoplay loop controls style=\"height: 300px;\">\n",
    "                <source src=\"data:video/mp4;base64,{0}\" type=\"video/mp4\" />\n",
    "                </video>'''.format(encoded.decode('ascii'))))\n",
    "    else: \n",
    "          print(\"Could not find video\")"
   ],
   "execution_count": null,
   "outputs": []
  },
  {
   "cell_type": "markdown",
   "metadata": {
    "id": "Yg6Qp9T35Bk5"
   },
   "source": [
    "- ディスプレイの設定"
   ]
  },
  {
   "cell_type": "code",
   "metadata": {
    "colab": {
     "base_uri": "https://localhost:8080/"
    },
    "id": "ZZxvq2_Q4_zh",
    "outputId": "65bcc049-532c-4617-f087-927b11998a2a"
   },
   "source": [
    "display = Display(visible=0, size=(1024, 768))\n",
    "display.start()\n",
    "\n",
    "#os.environ[\"DISPLAY\"] = \":\" + str(display.display) + \".\" + str(display.screen)"
   ],
   "execution_count": null,
   "outputs": [
    {
     "output_type": "execute_result",
     "data": {
      "text/plain": [
       "<pyvirtualdisplay.display.Display at 0x7f2996772bd0>"
      ]
     },
     "metadata": {},
     "execution_count": 4
    }
   ]
  },
  {
   "cell_type": "markdown",
   "metadata": {
    "id": "7LeIx9oEmQpF"
   },
   "source": [
    "### 動作確認\n",
    "\n",
    "- 観測空間，行動空間の確認"
   ]
  },
  {
   "cell_type": "code",
   "metadata": {
    "colab": {
     "base_uri": "https://localhost:8080/"
    },
    "id": "9pCwfa5NRAc5",
    "outputId": "ae9a566d-4d17-4faa-be69-81240c5dea77"
   },
   "source": [
    "print('observation space:', env.observation_space) ## 観測空間のチェック\n",
    "print('action space:', env.action_space) ## 行動空間のチェック"
   ],
   "execution_count": null,
   "outputs": [
    {
     "output_type": "stream",
     "text": [
      "observation space: Box(-3.4028234663852886e+38, 3.4028234663852886e+38, (4,), float32)\n",
      "action space: Discrete(2)\n"
     ],
     "name": "stdout"
    }
   ]
  },
  {
   "cell_type": "markdown",
   "metadata": {
    "id": "785Fzb8_RM0F"
   },
   "source": [
    "- 環境を初期化して、初期観測を確認"
   ]
  },
  {
   "cell_type": "code",
   "metadata": {
    "colab": {
     "base_uri": "https://localhost:8080/"
    },
    "id": "UzgIJ7gNmVzU",
    "outputId": "a79f59fa-05ba-45cb-f4c8-aa80de1b0106"
   },
   "source": [
    "obs = env.reset() ## 環境の初期化\n",
    "#env.render() ## 学習過程のレンダリング関数\n",
    "print('initial observation:', obs)"
   ],
   "execution_count": null,
   "outputs": [
    {
     "output_type": "stream",
     "text": [
      "initial observation: [ 0.00483539  0.0236957   0.01056274 -0.03297738]\n"
     ],
     "name": "stdout"
    }
   ]
  },
  {
   "cell_type": "markdown",
   "metadata": {
    "id": "liakwHy3OZac"
   },
   "source": [
    "- エピソード生成（行動は乱択）"
   ]
  },
  {
   "cell_type": "code",
   "metadata": {
    "colab": {
     "base_uri": "https://localhost:8080/"
    },
    "id": "-5yozCYoma71",
    "outputId": "6492ff0f-4499-4125-e6ad-19232fb4206d"
   },
   "source": [
    "obs = env.reset() \n",
    "\n",
    "done = False\n",
    "t    = 0\n",
    "while not done:\n",
    "  action = env.action_space.sample()    # ランダムな行動選択\n",
    "  obs, r, done, info = env.step(action) # 行動を環境に入力して、次状態などを受け取る\n",
    "  ## 出力の確認\n",
    "  print('----------- time step {} --------'.format(t))\n",
    "  print('selected action:', action)\n",
    "  print('next observation:', obs)\n",
    "  print('reward:', r)\n",
    "  print('done:', done)\n",
    "  print('info:', info)\n",
    "  t += 1"
   ],
   "execution_count": null,
   "outputs": [
    {
     "output_type": "stream",
     "text": [
      "----------- time step 0 --------\n",
      "selected action: 0\n",
      "next observation: [-3.88744317e-02 -1.55769571e-01  2.47606854e-05  2.84294410e-01]\n",
      "reward: 1.0\n",
      "done: False\n",
      "info: {}\n",
      "----------- time step 1 --------\n",
      "selected action: 1\n",
      "next observation: [-0.04198982  0.03935203  0.00571065 -0.00838071]\n",
      "reward: 1.0\n",
      "done: False\n",
      "info: {}\n",
      "----------- time step 2 --------\n",
      "selected action: 0\n",
      "next observation: [-0.04120278 -0.15585135  0.00554303  0.28609851]\n",
      "reward: 1.0\n",
      "done: False\n",
      "info: {}\n",
      "----------- time step 3 --------\n",
      "selected action: 1\n",
      "next observation: [-0.04431981  0.03919111  0.011265   -0.00483104]\n",
      "reward: 1.0\n",
      "done: False\n",
      "info: {}\n",
      "----------- time step 4 --------\n",
      "selected action: 1\n",
      "next observation: [-0.04353599  0.23414971  0.01116838 -0.29393854]\n",
      "reward: 1.0\n",
      "done: False\n",
      "info: {}\n",
      "----------- time step 5 --------\n",
      "selected action: 0\n",
      "next observation: [-0.03885299  0.03887032  0.00528961  0.0022457 ]\n",
      "reward: 1.0\n",
      "done: False\n",
      "info: {}\n",
      "----------- time step 6 --------\n",
      "selected action: 0\n",
      "next observation: [-0.03807559 -0.15632709  0.00533453  0.29659286]\n",
      "reward: 1.0\n",
      "done: False\n",
      "info: {}\n",
      "----------- time step 7 --------\n",
      "selected action: 0\n",
      "next observation: [-0.04120213 -0.35152468  0.01126638  0.59095343]\n",
      "reward: 1.0\n",
      "done: False\n",
      "info: {}\n",
      "----------- time step 8 --------\n",
      "selected action: 0\n",
      "next observation: [-0.04823262 -0.54680254  0.02308545  0.88716388]\n",
      "reward: 1.0\n",
      "done: False\n",
      "info: {}\n",
      "----------- time step 9 --------\n",
      "selected action: 0\n",
      "next observation: [-0.05916867 -0.74223011  0.04082873  1.18701364]\n",
      "reward: 1.0\n",
      "done: False\n",
      "info: {}\n",
      "----------- time step 10 --------\n",
      "selected action: 0\n",
      "next observation: [-0.07401328 -0.937857    0.064569    1.49220974]\n",
      "reward: 1.0\n",
      "done: False\n",
      "info: {}\n",
      "----------- time step 11 --------\n",
      "selected action: 0\n",
      "next observation: [-0.09277042 -1.13370256  0.0944132   1.80433601]\n",
      "reward: 1.0\n",
      "done: False\n",
      "info: {}\n",
      "----------- time step 12 --------\n",
      "selected action: 0\n",
      "next observation: [-0.11544447 -1.32974359  0.13049992  2.12480417]\n",
      "reward: 1.0\n",
      "done: False\n",
      "info: {}\n",
      "----------- time step 13 --------\n",
      "selected action: 0\n",
      "next observation: [-0.14203934 -1.52589969  0.172996    2.45479461]\n",
      "reward: 1.0\n",
      "done: False\n",
      "info: {}\n",
      "----------- time step 14 --------\n",
      "selected action: 1\n",
      "next observation: [-0.17255733 -1.33261662  0.22209189  2.21980508]\n",
      "reward: 1.0\n",
      "done: True\n",
      "info: {}\n"
     ],
     "name": "stdout"
    }
   ]
  },
  {
   "cell_type": "markdown",
   "metadata": {
    "id": "pUGO-YND3UCv"
   },
   "source": [
    "- エピソードを動画に記録し、再生する"
   ]
  },
  {
   "cell_type": "code",
   "metadata": {
    "colab": {
     "base_uri": "https://localhost:8080/",
     "height": 659
    },
    "id": "qCWkoLeK3LkZ",
    "outputId": "f00563ef-ed37-44f7-c5f1-25a6b08caa66"
   },
   "source": [
    "n_episode = 2 # 3以上に設定しても、なぜか2エピソードしか保存されず..\n",
    "\n",
    "# エピソードを生成し、動画を保存\n",
    "envw = wrap_env(gym.make('CartPole-v0'))\n",
    "\n",
    "for i in range(n_episode):\n",
    "\n",
    "    observation = envw.reset()\n",
    "    done = False\n",
    "    total_reward = 0\n",
    "\n",
    "    while not done:\n",
    "        envw.render()\n",
    "        action = env.action_space.sample()     # ランダムな行動選択\n",
    "        obs, r, done, info = envw.step(action) # 行動を環境に入力して、次状態などを受け取る\n",
    "        total_reward += r\n",
    "\n",
    "    print('test episode:', i+1, 'total reward:', total_reward)\n",
    "\n",
    "envw.close()\n",
    "\n",
    "# 動画の再生\n",
    "show_video()\n",
    "\n",
    "# Colab上から動画を削除\n",
    "!rm video/openaigym.video.*"
   ],
   "execution_count": null,
   "outputs": [
    {
     "output_type": "stream",
     "text": [
      "test episode: 1 total reward: 13.0\n",
      "test episode: 2 total reward: 12.0\n"
     ],
     "name": "stdout"
    },
    {
     "output_type": "display_data",
     "data": {
      "text/html": [
       "\n",
       "                <video alt=\"test\" autoplay loop controls style=\"height: 300px;\">\n",
       "                <source src=\"data:video/mp4;base64,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\" type=\"video/mp4\" />\n",
       "                </video>"
      ],
      "text/plain": [
       "<IPython.core.display.HTML object>"
      ]
     },
     "metadata": {}
    },
    {
     "output_type": "display_data",
     "data": {
      "text/html": [
       "\n",
       "                <video alt=\"test\" autoplay loop controls style=\"height: 300px;\">\n",
       "                <source src=\"data:video/mp4;base64,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\" type=\"video/mp4\" />\n",
       "                </video>"
      ],
      "text/plain": [
       "<IPython.core.display.HTML object>"
      ]
     },
     "metadata": {}
    }
   ]
  },
  {
   "cell_type": "markdown",
   "metadata": {
    "id": "BR4Q2iQbPjkC"
   },
   "source": [
    "# エージェントの設定\n",
    "\n",
    "### RLエージェントクラスの定義\n",
    "- アブストラクトクラス"
   ]
  },
  {
   "cell_type": "code",
   "metadata": {
    "id": "6TwDdxulRplW"
   },
   "source": [
    "## Abstract RL agent class \n",
    "class Agent():\n",
    "    def __init__(self, state_space, action_space, gamma=0.9):\n",
    "        self.state_space  = state_space\n",
    "        self.action_space = action_space\n",
    "        self.gamma        = gamma\n",
    "        self.experiences  = []\n",
    "        self.timestep     = 0\n",
    "        self.episode      = 0\n",
    "\n",
    "    def reset(self):\n",
    "        # エージェントの初期化\n",
    "        raise NotImplementedError(\"class is abstract.\") \n",
    "\n",
    "    def end_episode(self):\n",
    "        # エピソード終了時の処理\n",
    "        raise NotImplementedError(\"class is abstract.\") \n",
    "\n",
    "    def add_experience(self, state, action, reward, next_state):\n",
    "        # 経験データの追加\n",
    "        raise NotImplementedError(\"class is abstract.\") \n",
    "\n",
    "    def policy(self, state):\n",
    "        # 行動選択\n",
    "        raise NotImplementedError(\"class is abstract.\")\n",
    "\n",
    "    def learning(self):\n",
    "        # 学習\n",
    "        raise NotImplementedError(\"class is abstract.\")"
   ],
   "execution_count": null,
   "outputs": []
  },
  {
   "cell_type": "markdown",
   "metadata": {
    "id": "yV5l4FCEHF7y"
   },
   "source": [
    "### Q学習エージェントクラスの実装\n",
    "- Agentクラスを継承\n",
    "- Q関数: Table形式\n",
    "- 方策: Epsilon-greedy"
   ]
  },
  {
   "cell_type": "code",
   "metadata": {
    "id": "Y76mE2-IL_m7"
   },
   "source": [
    "## Q-learning agent (tabular version with epsilon-greedy policy)\n",
    "class TabularQlearning(Agent):\n",
    "    def __init__(self, state_space, action_space, gamma=0.9, epsilon=[100., 100.],alpha=[200., 200.]):\n",
    "        super().__init__(state_space, action_space, gamma)\n",
    "        self.nstate  = len(state_space) \n",
    "        self.naction = len(action_space)\n",
    "        self.q_fun   = np.random.randn(self.nstate, self.naction) / 1000\n",
    "        self.epsilon = epsilon # hyper-param for e-greedy\n",
    "        self.alpha   = alpha   # hyper-hparam for learning rate\n",
    "\n",
    "    def reset(self, q_bias=0.):\n",
    "        self.timestep    = 0\n",
    "        self.episode     = 0\n",
    "        self.experiences = []\n",
    "        self.q_fun       = np.random.randn(self.nstate, self.naction) / 1000 + q_bias\n",
    "\n",
    "    def end_episode(self):\n",
    "        self.timestep = 0\n",
    "        self.episode += 1\n",
    "        self.experiences = []\n",
    "\n",
    "    def add_experience(self, experience):\n",
    "        self.experiences = experience\n",
    "\n",
    "    def policy(self, state): #Epsilon-Greedy Agent Policy\n",
    "        # epsilonの設定\n",
    "        if isinstance(self.epsilon, list) != True:\n",
    "            epsilon = self.epsilon\n",
    "        else:\n",
    "            epsilon = self.epsilon[0] / (self.episode + self.epsilon[1])\n",
    "        # 行動選択\n",
    "        if epsilon <= np.random.uniform():\n",
    "            action = np.argmax(self.q_fun[state])\n",
    "        else:\n",
    "            action = np.random.choice(self.naction)\n",
    "        return action\n",
    "\n",
    "    def learning_rate(self):\n",
    "        if isinstance(self.alpha, list) != True:\n",
    "            learning_rate = self.alpha\n",
    "        else:\n",
    "            learning_rate = self.alpha[0] / (self.episode + self.alpha[1])\n",
    "        return learning_rate\n",
    "\n",
    "    def learning(self):\n",
    "        state, action, reward, next_state, done = self.experiences\n",
    "        if not done: #エピソードが途中または、最終ステップに到達した場合\n",
    "            td_error = reward + self.gamma * np.max(self.q_fun[next_state]) - self.q_fun[state][action]\n",
    "        else: # エピソード異常終了時（途中で失敗）\n",
    "            td_error = reward - self.q_fun[state][action]\n",
    "          \n",
    "        self.q_fun[state][action] += self.learning_rate() * td_error "
   ],
   "execution_count": null,
   "outputs": []
  },
  {
   "cell_type": "markdown",
   "metadata": {
    "id": "by53BPeecB4K"
   },
   "source": [
    "### 状態離散化クラスの実装\n",
    "- envを使って、n_episode回シミュレーションして、CartPoleの観測の範囲を求める\n",
    "- n_partitionで定めた分割数を用いて、観測を離散化\n",
    "- （観測の次元は４なので）状態数は分割数の4乗\n",
    "    - n_partition = 2　⇒　16\n",
    "    - n_partition = 3　⇒　81\n",
    "    - n_partition = 4　⇒　256\n",
    "    - n_partition = 5　⇒　625\n",
    "    - ...\n",
    "    - n_partition = 10　⇒　10,000"
   ]
  },
  {
   "cell_type": "code",
   "metadata": {
    "id": "kPCUdUAZd_IF"
   },
   "source": [
    "class ObservationDiscretizer:\n",
    "    def __init__(self, env, n_partition=6 ,n_episode=3000, var_max=[]):\n",
    "        obs   = env.reset() \n",
    "        self.n_var       = len(obs)\n",
    "        self.n_partition = n_partition\n",
    "        self.n_state     = self.n_partition ** self.n_var\n",
    "        self.threshold   = [] \n",
    "        # var_max(obsの範囲)の探索\n",
    "        if len(var_max) == 0:\n",
    "            var_max = np.zeros(self.n_var)\n",
    "            for e in range(n_episode):\n",
    "                obs  = env.reset() \n",
    "                done = False\n",
    "                while not done:\n",
    "                    action = env.action_space.sample() # ランダムな行動選択\n",
    "                    obs, _, done, _ = env.step(action) # 行動を環境に入力して、次状態などを受け取る\n",
    "                    var_max = np.max([np.abs(obs), var_max], axis=0) \n",
    "            var_max = 1.1*var_max # for safety\n",
    "        # 閾値の設定\n",
    "        for v in range(self.n_var):\n",
    "            self.threshold.append( np.linspace(-var_max[v],var_max[v],n_partition+1)[1:-1] )          \n",
    "        self.var_max = var_max\n",
    "        \n",
    "    def get_state(self,obs):\n",
    "        obs_idx = np.zeros(self.n_var) \n",
    "        for v in range(self.n_var):\n",
    "            obs_idx[v] = np.digitize(obs[v], bins=self.threshold[v])\n",
    "\n",
    "        state = sum([x * (self.n_partition**i) for i, x in enumerate(obs_idx)])\n",
    "        return int(state)"
   ],
   "execution_count": null,
   "outputs": []
  },
  {
   "cell_type": "markdown",
   "metadata": {
    "id": "BRZzmhs_mqyY"
   },
   "source": [
    "- 動作確認"
   ]
  },
  {
   "cell_type": "code",
   "metadata": {
    "colab": {
     "base_uri": "https://localhost:8080/",
     "height": 615
    },
    "id": "JZmCMZwrmuf8",
    "outputId": "e5de612f-a41f-49e2-938b-fae596ffceb3"
   },
   "source": [
    "obs_discretizer = ObservationDiscretizer(env, n_partition=3)\n",
    "  \n",
    "s_list = []\n",
    "for e in range(100):\n",
    "  t    = 0\n",
    "  obs  = env.reset() \n",
    "  done = False\n",
    "  while not done:\n",
    "    action = env.action_space.sample() # ランダムな行動選択\n",
    "    obs, _, done, _ = env.step(action) # 行動を環境に入力して、次状態などを受け取る\n",
    "    s = obs_discretizer.get_state(obs)\n",
    "    t+= 1\n",
    "    s_list.append(s)\n",
    "\n",
    "\n",
    "print('num state:  ',   obs_discretizer.n_state)\n",
    "print('thresholds: \\n', np.array(obs_discretizer.threshold))\n",
    "\n",
    "plt.plot(np.sort(s_list))\n",
    "plt.grid(which='both')\n",
    "plt.show()\n",
    "\n",
    "plt.hist(s_list, bins=obs_discretizer.n_state, range=(0,obs_discretizer.n_state))\n",
    "plt.grid(which='both')\n",
    "plt.show()"
   ],
   "execution_count": null,
   "outputs": [
    {
     "output_type": "stream",
     "text": [
      "num state:   81\n",
      "thresholds: \n",
      " [[-0.393597    0.393597  ]\n",
      " [-0.9746055   0.9746055 ]\n",
      " [-0.09906311  0.09906311]\n",
      " [-1.20625102  1.20625102]]\n"
     ],
     "name": "stdout"
    },
    {
     "output_type": "display_data",
     "data": {
      "image/png": "[encoded data removed]",
      "text/plain": [
       "<Figure size 432x288 with 1 Axes>"
      ]
     },
     "metadata": {
      "needs_background": "light"
     }
    },
    {
     "output_type": "display_data",
     "data": {
      "image/png": "[encoded data removed]",
      "text/plain": [
       "<Figure size 432x288 with 1 Axes>"
      ]
     },
     "metadata": {
      "needs_background": "light"
     }
    }
   ]
  },
  {
   "cell_type": "markdown",
   "metadata": {
    "id": "AutU0gvYYR4W"
   },
   "source": [
    "# 実験\n",
    "\n",
    "### 実験条件の設定"
   ]
  },
  {
   "cell_type": "code",
   "metadata": {
    "id": "6tL-7G6gJSzA"
   },
   "source": [
    "## Set parameters\n",
    "\n",
    "# param for experiment\n",
    "max_episode = 5000                        # num of experiments\n",
    "n_timestep  = env.spec.max_episode_steps # length of episode\n",
    "\n",
    "\n",
    "# param for agent\n",
    "gamma       = 0.98           # discounting rate\n",
    "alpha       = 0.3#[2000, 4000]   # learning rate:  alpha[0]/(episode+alpha[1])\n",
    "epsilon     = [5, 10]        # epsilon of e-greedy: epsilon[0]/(episode+epsilon[1])\n",
    "q_val_bias  = 0              # bias for optimisitic initilization of Q-value\n",
    "n_partition = 8\n"
   ],
   "execution_count": null,
   "outputs": []
  },
  {
   "cell_type": "markdown",
   "metadata": {
    "id": "KIetG9tXgKbP"
   },
   "source": [
    "### 学習\n",
    "\n",
    "- RLエージェント、離散化インスタンスを生成"
   ]
  },
  {
   "cell_type": "code",
   "metadata": {
    "id": "bBZgnLS325Yo"
   },
   "source": [
    "## Generate aobsrvation-discretizer\n",
    "#obs_discretizer = ObservationDiscretizer(env, n_partition=n_partition, n_episode=5000)\n",
    "obs_discretizer = ObservationDiscretizer(env, n_partition=n_partition, var_max=np.array([2.5, 3.5, 0.3, 3.5]))\n",
    "# c.f. 観測の範囲は公式ドキュメント（https://github.com/openai/gym/wiki/CartPole-v0）を参考にした。\n",
    "\n",
    "\n",
    "## Generate agent\n",
    "state_set   = np.arange(obs_discretizer.n_state)\n",
    "action_set  = np.arange(env.action_space.n)\n",
    "agent       = TabularQlearning(state_set, action_set, gamma=gamma, alpha=alpha, epsilon=epsilon)"
   ],
   "execution_count": null,
   "outputs": []
  },
  {
   "cell_type": "markdown",
   "metadata": {
    "id": "uDN6SrlSOeBF"
   },
   "source": [
    "- Q学習"
   ]
  },
  {
   "cell_type": "code",
   "metadata": {
    "colab": {
     "base_uri": "https://localhost:8080/"
    },
    "id": "39dG5yseYqJa",
    "outputId": "366e509a-7d42-4ca6-a0f3-a069efb7c1ae"
   },
   "source": [
    "## Q Learning\n",
    "\n",
    "# prep\n",
    "agent.reset(q_bias=q_val_bias) \n",
    "return_list  = []\n",
    "return_print = 0 \n",
    "n_consecutive_success = 0\n",
    "\n",
    "\n",
    "# main\n",
    "print(\"Q-learning ...\")\n",
    "for episode in range(max_episode):\n",
    "\n",
    "\n",
    "    # reset agent and env\n",
    "    agent.end_episode()\n",
    "    obs    = env.reset()\n",
    "    state  = obs_discretizer.get_state(obs)\n",
    "    ret             = 0\n",
    "    n_consecutive_success += 1\n",
    "\n",
    "    # episode start\n",
    "    for t in range(n_timestep-1):\n",
    "        # interaction with env\n",
    "        action               = agent.policy(state)\n",
    "        obs, reward, done, _ = env.step(action)\n",
    "        if done:\n",
    "            reward = -100\n",
    "        next_state         = obs_discretizer.get_state(obs)\n",
    "        # update agent\n",
    "        agent.add_experience([state, action, reward, next_state, done])\n",
    "        agent.learning()\n",
    "        agent.timestep += 1\n",
    "        # update state\n",
    "        state = next_state\n",
    "        # store\n",
    "        ret += reward\n",
    "\n",
    "        if done:\n",
    "            n_consecutive_success = 0\n",
    "            break\n",
    "\n",
    "    # store return\n",
    "    return_list.append(ret)\n",
    "    # print\n",
    "    return_print += ret\n",
    "    if episode%100==0: \n",
    "        print( ' > episode:', episode, ', averaged return', return_print/100, ' (n_consecutive_success', n_consecutive_success, ')' )\n",
    "        return_print = 0\n",
    "\n",
    "    # check convergence (100回連続立て続けられれば、学習成功とする)\n",
    "    if n_consecutive_success > 100:\n",
    "        print(\"Successed in learning !\")\n",
    "        break\n",
    "\n",
    "\n",
    "if episode == max_episode-1:\n",
    "    print(\"-----> Learning failed.\")"
   ],
   "execution_count": null,
   "outputs": [
    {
     "output_type": "stream",
     "text": [
      "Q-learning ...\n",
      " > episode: 0 , averaged return -0.85  (n_consecutive_success 0 )\n",
      " > episode: 100 , averaged return -32.63  (n_consecutive_success 0 )\n",
      " > episode: 200 , averaged return 26.26  (n_consecutive_success 0 )\n",
      " > episode: 300 , averaged return 37.21  (n_consecutive_success 0 )\n",
      " > episode: 400 , averaged return 29.42  (n_consecutive_success 0 )\n",
      " > episode: 500 , averaged return 58.11  (n_consecutive_success 0 )\n",
      " > episode: 600 , averaged return 52.38  (n_consecutive_success 0 )\n",
      " > episode: 700 , averaged return 57.96  (n_consecutive_success 1 )\n",
      " > episode: 800 , averaged return 60.47  (n_consecutive_success 1 )\n",
      " > episode: 900 , averaged return 54.84  (n_consecutive_success 0 )\n",
      " > episode: 1000 , averaged return 83.93  (n_consecutive_success 0 )\n",
      " > episode: 1100 , averaged return 77.17  (n_consecutive_success 0 )\n",
      " > episode: 1200 , averaged return 62.64  (n_consecutive_success 0 )\n",
      " > episode: 1300 , averaged return 56.31  (n_consecutive_success 0 )\n",
      " > episode: 1400 , averaged return 58.18  (n_consecutive_success 0 )\n",
      " > episode: 1500 , averaged return 105.47  (n_consecutive_success 3 )\n",
      " > episode: 1600 , averaged return 165.03  (n_consecutive_success 20 )\n",
      " > episode: 1700 , averaged return 156.52  (n_consecutive_success 3 )\n",
      " > episode: 1800 , averaged return 179.8  (n_consecutive_success 0 )\n",
      " > episode: 1900 , averaged return 189.37  (n_consecutive_success 11 )\n",
      " > episode: 2000 , averaged return 187.13  (n_consecutive_success 1 )\n",
      " > episode: 2100 , averaged return 195.04  (n_consecutive_success 29 )\n",
      "Successed in learning !\n"
     ],
     "name": "stdout"
    }
   ]
  },
  {
   "cell_type": "markdown",
   "metadata": {
    "id": "HY_UrfOrs2Dz"
   },
   "source": [
    "- 学習曲線"
   ]
  },
  {
   "cell_type": "code",
   "metadata": {
    "colab": {
     "base_uri": "https://localhost:8080/",
     "height": 276
    },
    "id": "7FHktRhH43LG",
    "outputId": "115beb06-9dc0-47c4-a03c-c101726d5f85"
   },
   "source": [
    "## Visualization\n",
    "t_lim       = len(return_list)\n",
    "window_size = 30\n",
    "\n",
    "# smooth return\n",
    "v = np.ones(window_size)/window_size\n",
    "smoothed_return = np.convolve( return_list, v, mode='valid')\n",
    "\n",
    "# plot\n",
    "xlim = np.array(range(window_size-1,t_lim)) - window_size/2\n",
    "plt.plot(xlim, smoothed_return)\n",
    "plt.xlabel('Timestep')\n",
    "plt.ylabel('Averaged Return')\n",
    "plt.tick_params(top = True, right = True, direction = 'in')\n",
    "plt.grid(which='both')\n",
    "plt.xlim(0,t_lim)\n",
    "plt.show()"
   ],
   "execution_count": null,
   "outputs": [
    {
     "output_type": "display_data",
     "data": {
      "image/png": "[encoded data removed]",
      "text/plain": [
       "<Figure size 432x288 with 1 Axes>"
      ]
     },
     "metadata": {
      "needs_background": "light"
     }
    }
   ]
  },
  {
   "cell_type": "markdown",
   "metadata": {
    "id": "kP8qZW_SuUd8"
   },
   "source": [
    "- テスト（学習した方策を実際に動かしてみる）"
   ]
  },
  {
   "cell_type": "code",
   "metadata": {
    "colab": {
     "base_uri": "https://localhost:8080/",
     "height": 659
    },
    "id": "qn_8Lm40uLDx",
    "outputId": "6f8414da-1bb3-49b7-97c9-147f145badd1"
   },
   "source": [
    "n_movie = 2 # 3以上に設定しても、なぜか2エピソードしか保存されず..\n",
    "\n",
    "# エピソードを生成し、動画を保存\n",
    "envw = wrap_env(gym.make('CartPole-v0'))\n",
    "\n",
    "for i in range(n_movie):\n",
    "\n",
    "    obs   = envw.reset()\n",
    "    done  = False\n",
    "    ret   = 0\n",
    "\n",
    "    while not done:\n",
    "        envw.render()\n",
    "        state  = obs_discretizer.get_state(obs)\n",
    "        action = agent.policy(state)           # 行動選択\n",
    "        obs, r, done, info = envw.step(action) # 行動を環境に入力して、次状態などを受け取る\n",
    "        ret += r\n",
    "\n",
    "    print('test episode:', i+1, 'total reward:', ret)\n",
    "\n",
    "envw.close()\n",
    "\n",
    "# 動画の再生\n",
    "show_video()\n",
    "\n",
    "# Colab上から動画を削除\n",
    "#!rm video/openaigym.video.*"
   ],
   "execution_count": null,
   "outputs": [
    {
     "output_type": "stream",
     "text": [
      "test episode: 1 total reward: 200.0\n",
      "test episode: 2 total reward: 200.0\n"
     ],
     "name": "stdout"
    },
    {
     "output_type": "display_data",
     "data": {
      "text/html": [
       "\n",
       "                <video alt=\"test\" autoplay loop controls style=\"height: 300px;\">\n",
       "                <source src=\"data:video/mp4;base64,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\" type=\"video/mp4\" />\n",
       "                </video>"
      ],
      "text/plain": [
       "<IPython.core.display.HTML object>"
      ]
     },
     "metadata": {}
    },
    {
     "output_type": "display_data",
     "data": {
      "text/html": [
       "\n",
       "                <video alt=\"test\" autoplay loop controls style=\"height: 300px;\">\n",
       "                <source src=\"data:video/mp4;base64,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\" type=\"video/mp4\" />\n",
       "                </video>"
      ],
      "text/plain": [
       "<IPython.core.display.HTML object>"
      ]
     },
     "metadata": {}
    }
   ]
  }
 ]
}