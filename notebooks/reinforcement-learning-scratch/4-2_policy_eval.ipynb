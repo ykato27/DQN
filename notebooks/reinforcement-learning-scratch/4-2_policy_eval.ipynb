{
 "cells": [
  {
   "cell_type": "markdown",
   "id": "fb4192b3-069f-4e2b-96ad-7be209b1d758",
   "metadata": {},
   "source": [
    "## 動的計画法"
   ]
  },
  {
   "cell_type": "code",
   "execution_count": 1,
   "id": "2bd449b1-7ab9-457e-bb9f-aef388611135",
   "metadata": {},
   "outputs": [],
   "source": [
    "%load_ext lab_black"
   ]
  },
  {
   "cell_type": "code",
   "execution_count": 2,
   "id": "ceb80a99-af14-4b57-ba5d-c975c2c0421c",
   "metadata": {},
   "outputs": [],
   "source": [
    "import os\n",
    "import sys\n",
    "\n",
    "sys.path.insert(0, os.path.abspath(\"../../\"))\n",
    "\n",
    "from collections import defaultdict\n",
    "from common.gridworld import GridWorld"
   ]
  },
  {
   "cell_type": "markdown",
   "id": "6518bcff-b611-4882-ac67-e1472ea25431",
   "metadata": {},
   "source": [
    "#### 方策評価の実装\n",
    "- pi:方策\n",
    "- V:価値関数\n",
    "- env:環境\n",
    "- gamma:割引率"
   ]
  },
  {
   "cell_type": "code",
   "execution_count": 3,
   "id": "596fb39c-4822-407b-b108-d0ddea1895b5",
   "metadata": {},
   "outputs": [],
   "source": [
    "def eval_onestep(pi, V, env, gamma=0.9):\n",
    "    delta = 0\n",
    "\n",
    "    for state in env.states():\n",
    "        action_probs = pi[state]\n",
    "        new_v = 0\n",
    "\n",
    "        for action, action_prob in action_probs.items():\n",
    "            next_state = env.next_state(state, action)\n",
    "            if next_state is not None:\n",
    "                r = env.reward(state, action, next_state)\n",
    "                new_v += action_prob * (r + gamma * V[next_state])\n",
    "\n",
    "        delta = max(delta, abs(V[state] - new_v))\n",
    "        V[state] = new_v\n",
    "\n",
    "    return V, delta"
   ]
  },
  {
   "cell_type": "code",
   "execution_count": 4,
   "id": "f41afb52-8f10-47e9-b83b-9a257b3dc2a5",
   "metadata": {},
   "outputs": [],
   "source": [
    "def policy_eval(pi, V, env, gamma, threshold=0.001):\n",
    "    while True:\n",
    "        V, delta = eval_onestep(pi, V, env, gamma)\n",
    "        if delta < threshold:\n",
    "            break\n",
    "    return V"
   ]
  },
  {
   "cell_type": "code",
   "execution_count": 5,
   "id": "23a4a732-014b-4421-aec1-16064d6c44bb",
   "metadata": {},
   "outputs": [
    {
     "data": {
      "image/png": "[encoded data removed]",
      "text/plain": [
       "<Figure size 432x288 with 1 Axes>"
      ]
     },
     "metadata": {},
     "output_type": "display_data"
    }
   ],
   "source": [
    "env = GridWorld()\n",
    "gamma = 0.9\n",
    "\n",
    "pi = defaultdict(lambda: {0: 0.25, 1: 0.25, 2: 0.25, 3: 0.25})\n",
    "V = defaultdict(lambda: 0)\n",
    "\n",
    "V = policy_eval(pi, V, env, gamma)\n",
    "env.render_v(V, pi)"
   ]
  },
  {
   "cell_type": "code",
   "execution_count": null,
   "id": "259a47e4-0b55-4bde-851a-f827ce7594e1",
   "metadata": {},
   "outputs": [],
   "source": []
  }
 ],
 "metadata": {
  "kernelspec": {
   "display_name": "Python 3 (ipykernel)",
   "language": "python",
   "name": "python3"
  },
  "language_info": {
   "codemirror_mode": {
    "name": "ipython",
    "version": 3
   },
   "file_extension": ".py",
   "mimetype": "text/x-python",
   "name": "python",
   "nbconvert_exporter": "python",
   "pygments_lexer": "ipython3",
   "version": "3.9.9"
  }
 },
 "nbformat": 4,
 "nbformat_minor": 5
}
