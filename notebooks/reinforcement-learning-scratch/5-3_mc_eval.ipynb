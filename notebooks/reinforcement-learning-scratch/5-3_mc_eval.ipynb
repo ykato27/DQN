{
 "cells": [
  {
   "cell_type": "markdown",
   "id": "67ea737c-df49-48f1-89f1-1bf6cc5ed0cb",
   "metadata": {},
   "source": [
    "## モンテカルロ法の実装"
   ]
  },
  {
   "cell_type": "code",
   "execution_count": 1,
   "id": "0fd3bd58-9c72-490e-9b9c-8464de0a61f2",
   "metadata": {},
   "outputs": [],
   "source": [
    "%load_ext lab_black"
   ]
  },
  {
   "cell_type": "code",
   "execution_count": 2,
   "id": "d69a9ac8-190f-4505-b01c-2bad0eaf3ff6",
   "metadata": {},
   "outputs": [],
   "source": [
    "import os\n",
    "import sys\n",
    "\n",
    "sys.path.insert(0, os.path.abspath(\"../../\"))\n",
    "\n",
    "import numpy as np\n",
    "from collections import defaultdict\n",
    "from common.gridworld import GridWorld"
   ]
  },
  {
   "cell_type": "markdown",
   "id": "74fb550d-29a3-4188-b47e-9d719469b41d",
   "metadata": {},
   "source": [
    "#### エージェントクラスの実装"
   ]
  },
  {
   "cell_type": "code",
   "execution_count": 3,
   "id": "cd77baaf-8de8-4406-b48b-05ee4ec6d579",
   "metadata": {},
   "outputs": [],
   "source": [
    "class RandomAgent:\n",
    "    def __init__(self):\n",
    "        self.gamma = 0.9\n",
    "        self.action_size = 4\n",
    "\n",
    "        random_actions = {0: 0.25, 1: 0.25, 2: 0.25, 3: 0.25}\n",
    "        self.pi = defaultdict(lambda: random_actions)\n",
    "        self.V = defaultdict(lambda: 0)\n",
    "        self.cnts = defaultdict(lambda: 0)\n",
    "        self.experience = []\n",
    "\n",
    "    def get_action(self, state):\n",
    "        ps = self.pi[state]\n",
    "        actions, probs = list(ps.keys()), list(ps.values())\n",
    "        return np.random.choice(actions, p=probs)\n",
    "\n",
    "    def add(self, state, action, reward):\n",
    "        data = (state, action, reward)\n",
    "        self.experience.append(data)\n",
    "\n",
    "    def reset(self):\n",
    "        self.experience.clear()\n",
    "\n",
    "    def eval(self):\n",
    "        g = 0\n",
    "        for data in reversed(self.experience):\n",
    "            state, action, reward = data\n",
    "            g = self.gamma * g + reward\n",
    "            self.cnts[state] += 1\n",
    "            self.V[state] += (g - self.V[state]) / self.cnts[state]"
   ]
  },
  {
   "cell_type": "markdown",
   "id": "320e97e2-54d5-4185-90f3-c83a42791ee0",
   "metadata": {},
   "source": [
    "#### モンテカルロ法を実行"
   ]
  },
  {
   "cell_type": "code",
   "execution_count": 4,
   "id": "d27779b7-3dc9-4839-8943-6ecb7a24cf1e",
   "metadata": {},
   "outputs": [
    {
     "data": {
      "image/png": "[encoded data removed]",
      "text/plain": [
       "<Figure size 432x288 with 1 Axes>"
      ]
     },
     "metadata": {},
     "output_type": "display_data"
    }
   ],
   "source": [
    "env = GridWorld()\n",
    "agent = RandomAgent()\n",
    "\n",
    "episodes = 1000\n",
    "for episode in range(episodes):\n",
    "    state = env.reset()\n",
    "    agent.reset()\n",
    "\n",
    "    while True:\n",
    "        action = agent.get_action(state)\n",
    "        next_state, reward, done = env.step(action)\n",
    "\n",
    "        agent.add(state, action, reward)\n",
    "        if done:\n",
    "            agent.eval()\n",
    "            break\n",
    "\n",
    "        state = next_state\n",
    "\n",
    "env.render_v(agent.V)"
   ]
  },
  {
   "cell_type": "code",
   "execution_count": null,
   "id": "5ce3d72c-ddad-43f9-8a10-0ddfa60890b7",
   "metadata": {},
   "outputs": [],
   "source": []
  }
 ],
 "metadata": {
  "kernelspec": {
   "display_name": "Python 3 (ipykernel)",
   "language": "python",
   "name": "python3"
  },
  "language_info": {
   "codemirror_mode": {
    "name": "ipython",
    "version": 3
   },
   "file_extension": ".py",
   "mimetype": "text/x-python",
   "name": "python",
   "nbconvert_exporter": "python",
   "pygments_lexer": "ipython3",
   "version": "3.9.9"
  }
 },
 "nbformat": 4,
 "nbformat_minor": 5
}
