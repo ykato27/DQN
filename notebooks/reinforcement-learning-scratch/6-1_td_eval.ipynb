{
 "cells": [
  {
   "cell_type": "markdown",
   "id": "67ea737c-df49-48f1-89f1-1bf6cc5ed0cb",
   "metadata": {},
   "source": [
    "## TD法による方策評価"
   ]
  },
  {
   "cell_type": "code",
   "execution_count": 1,
   "id": "0fd3bd58-9c72-490e-9b9c-8464de0a61f2",
   "metadata": {},
   "outputs": [],
   "source": [
    "%load_ext lab_black"
   ]
  },
  {
   "cell_type": "code",
   "execution_count": 2,
   "id": "d69a9ac8-190f-4505-b01c-2bad0eaf3ff6",
   "metadata": {},
   "outputs": [],
   "source": [
    "import os\n",
    "import sys\n",
    "\n",
    "sys.path.insert(0, os.path.abspath(\"../../\"))\n",
    "\n",
    "import numpy as np\n",
    "from collections import defaultdict\n",
    "from common.gridworld import GridWorld"
   ]
  },
  {
   "cell_type": "markdown",
   "id": "74fb550d-29a3-4188-b47e-9d719469b41d",
   "metadata": {
    "tags": []
   },
   "source": [
    "#### TD法の実装"
   ]
  },
  {
   "cell_type": "code",
   "execution_count": 3,
   "id": "b3d72aa9-7eff-451c-bf57-538746623518",
   "metadata": {},
   "outputs": [],
   "source": [
    "class TdAgent:\n",
    "    def __init__(self):\n",
    "        self.gamma = 0.9\n",
    "        self.alpha = 0.01\n",
    "        self.action_size = 4\n",
    "\n",
    "        random_actions = {0: 0.25, 1: 0.25, 2: 0.25, 3: 0.25}\n",
    "        self.pi = defaultdict(lambda: random_actions)\n",
    "        self.V = defaultdict(lambda: 0)\n",
    "\n",
    "    def get_action(self, state):\n",
    "        ps = self.pi[state]\n",
    "        actions, probs = list(ps.keys()), list(ps.values())\n",
    "        return np.random.choice(actions, p=probs)\n",
    "\n",
    "    def eval(self, state, reward, next_state, done):\n",
    "        next_V = 0 if done else self.V[next_state]\n",
    "        target = self.gamma * next_V + reward\n",
    "        self.V[state] += (target - self.V[state]) * self.alpha"
   ]
  },
  {
   "cell_type": "code",
   "execution_count": 4,
   "id": "d27779b7-3dc9-4839-8943-6ecb7a24cf1e",
   "metadata": {},
   "outputs": [
    {
     "data": {
      "image/png": "[encoded data removed]",
      "text/plain": [
       "<Figure size 432x288 with 1 Axes>"
      ]
     },
     "metadata": {},
     "output_type": "display_data"
    }
   ],
   "source": [
    "env = GridWorld()\n",
    "agent = TdAgent()\n",
    "\n",
    "episodes = 1000\n",
    "for episode in range(episodes):\n",
    "    state = env.reset()\n",
    "\n",
    "    while True:\n",
    "        action = agent.get_action(state)\n",
    "        next_state, reward, done = env.step(action)\n",
    "\n",
    "        agent.eval(state, reward, next_state, done)\n",
    "        if done:\n",
    "            break\n",
    "        state = next_state\n",
    "\n",
    "env.render_v(agent.V)"
   ]
  },
  {
   "cell_type": "code",
   "execution_count": null,
   "id": "1d98cb77-1393-400c-a1a4-cea2c3a4a6bb",
   "metadata": {},
   "outputs": [],
   "source": []
  }
 ],
 "metadata": {
  "kernelspec": {
   "display_name": "Python 3 (ipykernel)",
   "language": "python",
   "name": "python3"
  },
  "language_info": {
   "codemirror_mode": {
    "name": "ipython",
    "version": 3
   },
   "file_extension": ".py",
   "mimetype": "text/x-python",
   "name": "python",
   "nbconvert_exporter": "python",
   "pygments_lexer": "ipython3",
   "version": "3.9.9"
  }
 },
 "nbformat": 4,
 "nbformat_minor": 5
}
