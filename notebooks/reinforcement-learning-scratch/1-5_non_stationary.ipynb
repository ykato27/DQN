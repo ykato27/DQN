{
 "cells": [
  {
   "cell_type": "markdown",
   "id": "475be215-4308-4e7d-92e7-f05b1dec0691",
   "metadata": {},
   "source": [
    "## 1.5 非定常問題"
   ]
  },
  {
   "cell_type": "code",
   "execution_count": 1,
   "id": "5d6c7859-cc6a-41bd-9922-3f44a00e6630",
   "metadata": {},
   "outputs": [],
   "source": [
    "%load_ext lab_black"
   ]
  },
  {
   "cell_type": "code",
   "execution_count": 2,
   "id": "917f334e-27d1-4f6a-9d1d-7ce78b3f617c",
   "metadata": {},
   "outputs": [],
   "source": [
    "import numpy as np\n",
    "import matplotlib.pyplot as plt"
   ]
  },
  {
   "cell_type": "markdown",
   "id": "12375695-2fc7-4da8-858d-ae36aabc177c",
   "metadata": {},
   "source": [
    "#### 非定常状態の実装"
   ]
  },
  {
   "cell_type": "code",
   "execution_count": 3,
   "id": "72170b87-d51f-4810-a25d-644cb83ea3a5",
   "metadata": {},
   "outputs": [],
   "source": [
    "class NonStatBandit:\n",
    "    def __init__(self, arms=10):\n",
    "        self.arms = arms\n",
    "        self.rates = np.random.rand(arms)\n",
    "\n",
    "    def play(self, arm):\n",
    "        rate = self.rates[arm]\n",
    "        reward = rate > np.random.rand()\n",
    "        self.rates += 0.1 * np.random.randn(self.arms)  # Add noise\n",
    "        return int(reward)"
   ]
  },
  {
   "cell_type": "markdown",
   "id": "8b7774d4-5c67-46aa-b5ff-2b8fb09da088",
   "metadata": {},
   "source": [
    "#### エージェントの実装"
   ]
  },
  {
   "cell_type": "code",
   "execution_count": 4,
   "id": "344f5cfe-4c74-46af-9885-3d4039804166",
   "metadata": {},
   "outputs": [],
   "source": [
    "class Agent:\n",
    "    def __init__(self, epsilon, action_size=10):\n",
    "        self.epsilon = epsilon\n",
    "        self.qs = np.zeros(action_size)\n",
    "        self.ns = np.zeros(action_size)\n",
    "\n",
    "    def update(self, action, reward):\n",
    "        a, r = action, reward\n",
    "        self.ns[a] += 1\n",
    "        self.qs[a] += (r - self.qs[a]) / self.ns[a]\n",
    "\n",
    "    def get_action(self):\n",
    "        if np.random.rand() < self.epsilon:\n",
    "            return np.random.randint(0, len(self.qs))\n",
    "        return np.argmax(self.qs)"
   ]
  },
  {
   "cell_type": "code",
   "execution_count": 5,
   "id": "6b3dd7dc-0872-46ae-9995-19469b2d25e8",
   "metadata": {},
   "outputs": [],
   "source": [
    "class AlphaAgent:\n",
    "    def __init__(self, epsilon, alpha, actions=10):\n",
    "        self.epsilon = epsilon\n",
    "        self.qs = np.zeros(actions)\n",
    "        self.alpha = alpha\n",
    "\n",
    "    def update(self, action, reward):\n",
    "        a, r = action, reward\n",
    "        self.qs[a] += (r - self.qs[a]) * self.alpha  # alphaで更新\n",
    "\n",
    "    def get_action(self):\n",
    "        if np.random.rand() < self.epsilon:\n",
    "            return np.random.randint(0, len(self.qs))\n",
    "        return np.argmax(self.qs)"
   ]
  },
  {
   "cell_type": "code",
   "execution_count": 6,
   "id": "8acd7000-43ae-4809-bb91-971b2fbd14d5",
   "metadata": {},
   "outputs": [
    {
     "data": {
      "image/png": "[encoded data removed]",
      "text/plain": [
       "<Figure size 432x288 with 1 Axes>"
      ]
     },
     "metadata": {
      "needs_background": "light"
     },
     "output_type": "display_data"
    }
   ],
   "source": [
    "runs = 2000\n",
    "steps = 1000\n",
    "epsilon = 0.1\n",
    "alpha = 0.8\n",
    "agent_types = [\"sample average\", \"alpha const update\"]\n",
    "results = {}\n",
    "\n",
    "for agent_type in agent_types:\n",
    "    all_rates = np.zeros((runs, steps))  # (2000, 1000)\n",
    "\n",
    "    for run in range(runs):\n",
    "        if agent_type == \"sample average\":\n",
    "            agent = Agent(epsilon)\n",
    "        else:\n",
    "            agent = AlphaAgent(epsilon, alpha)\n",
    "\n",
    "        bandit = NonStatBandit()\n",
    "        sum_r = 0\n",
    "        rates = []\n",
    "\n",
    "        for step in range(steps):\n",
    "            action = agent.get_action()\n",
    "            reward = bandit.play(action)\n",
    "            agent.update(action, reward)\n",
    "            sum_r += reward\n",
    "            rates.append(sum_r / (step + 1))\n",
    "\n",
    "        all_rates[run] = rates\n",
    "\n",
    "    avg_rates = np.average(all_rates, axis=0)\n",
    "    results[agent_type] = avg_rates\n",
    "\n",
    "# plot\n",
    "plt.figure()\n",
    "plt.ylabel(\"Average Rates\")\n",
    "plt.xlabel(\"Steps\")\n",
    "for key, avg_rates in results.items():\n",
    "    plt.plot(avg_rates, label=key)\n",
    "plt.legend()\n",
    "plt.show()"
   ]
  },
  {
   "cell_type": "code",
   "execution_count": null,
   "id": "e2c6ada4-6775-4450-a15e-071abbb621a7",
   "metadata": {},
   "outputs": [],
   "source": []
  }
 ],
 "metadata": {
  "kernelspec": {
   "display_name": "Python 3 (ipykernel)",
   "language": "python",
   "name": "python3"
  },
  "language_info": {
   "codemirror_mode": {
    "name": "ipython",
    "version": 3
   },
   "file_extension": ".py",
   "mimetype": "text/x-python",
   "name": "python",
   "nbconvert_exporter": "python",
   "pygments_lexer": "ipython3",
   "version": "3.9.9"
  }
 },
 "nbformat": 4,
 "nbformat_minor": 5
}
