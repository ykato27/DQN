{
  "nbformat": 4,
  "nbformat_minor": 0,
  "metadata": {
    "kernelspec": {
      "display_name": "Python 3",
      "language": "python",
      "name": "python3"
    },
    "language_info": {
      "codemirror_mode": {
        "name": "ipython",
        "version": 3
      },
      "file_extension": ".py",
      "mimetype": "text/x-python",
      "name": "python",
      "nbconvert_exporter": "python",
      "pygments_lexer": "ipython3",
      "version": "3.7.9"
    },
    "colab": {
      "name": "01.dqn.ipynb",
      "provenance": [],
      "collapsed_sections": [],
      "include_colab_link": true
    }
  },
  "cells": [
    {
      "cell_type": "markdown",
      "metadata": {
        "id": "view-in-github",
        "colab_type": "text"
      },
      "source": [
        "<a href=\"https://colab.research.google.com/github/ykato27/DQN/blob/main/01_dqn.ipynb\" target=\"_parent\"><img src=\"https://colab.research.google.com/assets/colab-badge.svg\" alt=\"Open In Colab\"/></a>"
      ]
    },
    {
      "cell_type": "markdown",
      "metadata": {
        "id": "bXoS-h2oYjCw"
      },
      "source": [
        "## Configurations for Colab"
      ]
    },
    {
      "cell_type": "code",
      "metadata": {
        "id": "goQAeBjxYjDQ",
        "colab": {
          "base_uri": "https://localhost:8080/"
        },
        "outputId": "4aabbdb3-a979-4b0a-9594-bbd6983f4ab4"
      },
      "source": [
        "import sys\n",
        "IN_COLAB = \"google.colab\" in sys.modules\n",
        "\n",
        "if IN_COLAB:\n",
        "    !apt install python-opengl\n",
        "    !apt install ffmpeg\n",
        "    !apt install xvfb\n",
        "    !pip install pyvirtualdisplay\n",
        "    !pip install gym\n",
        "    from pyvirtualdisplay import Display\n",
        "    \n",
        "    # Start virtual display\n",
        "    dis = Display(visible=0, size=(400, 400))\n",
        "    dis.start()"
      ],
      "execution_count": 1,
      "outputs": [
        {
          "output_type": "stream",
          "name": "stdout",
          "text": [
            "Reading package lists... Done\n",
            "Building dependency tree       \n",
            "Reading state information... Done\n",
            "Suggested packages:\n",
            "  libgle3\n",
            "The following NEW packages will be installed:\n",
            "  python-opengl\n",
            "0 upgraded, 1 newly installed, 0 to remove and 37 not upgraded.\n",
            "Need to get 496 kB of archives.\n",
            "After this operation, 5,416 kB of additional disk space will be used.\n",
            "Get:1 http://archive.ubuntu.com/ubuntu bionic/universe amd64 python-opengl all 3.1.0+dfsg-1 [496 kB]\n",
            "Fetched 496 kB in 1s (431 kB/s)\n",
            "Selecting previously unselected package python-opengl.\n",
            "(Reading database ... 155047 files and directories currently installed.)\n",
            "Preparing to unpack .../python-opengl_3.1.0+dfsg-1_all.deb ...\n",
            "Unpacking python-opengl (3.1.0+dfsg-1) ...\n",
            "Setting up python-opengl (3.1.0+dfsg-1) ...\n",
            "Reading package lists... Done\n",
            "Building dependency tree       \n",
            "Reading state information... Done\n",
            "ffmpeg is already the newest version (7:3.4.8-0ubuntu0.2).\n",
            "0 upgraded, 0 newly installed, 0 to remove and 37 not upgraded.\n",
            "Reading package lists... Done\n",
            "Building dependency tree       \n",
            "Reading state information... Done\n",
            "The following NEW packages will be installed:\n",
            "  xvfb\n",
            "0 upgraded, 1 newly installed, 0 to remove and 37 not upgraded.\n",
            "Need to get 784 kB of archives.\n",
            "After this operation, 2,270 kB of additional disk space will be used.\n",
            "Get:1 http://archive.ubuntu.com/ubuntu bionic-updates/universe amd64 xvfb amd64 2:1.19.6-1ubuntu4.9 [784 kB]\n",
            "Fetched 784 kB in 1s (720 kB/s)\n",
            "Selecting previously unselected package xvfb.\n",
            "(Reading database ... 157402 files and directories currently installed.)\n",
            "Preparing to unpack .../xvfb_2%3a1.19.6-1ubuntu4.9_amd64.deb ...\n",
            "Unpacking xvfb (2:1.19.6-1ubuntu4.9) ...\n",
            "Setting up xvfb (2:1.19.6-1ubuntu4.9) ...\n",
            "Processing triggers for man-db (2.8.3-2ubuntu0.1) ...\n",
            "Collecting pyvirtualdisplay\n",
            "  Downloading PyVirtualDisplay-2.2-py3-none-any.whl (15 kB)\n",
            "Collecting EasyProcess\n",
            "  Downloading EasyProcess-0.3-py2.py3-none-any.whl (7.9 kB)\n",
            "Installing collected packages: EasyProcess, pyvirtualdisplay\n",
            "Successfully installed EasyProcess-0.3 pyvirtualdisplay-2.2\n",
            "Requirement already satisfied: gym in /usr/local/lib/python3.7/dist-packages (0.17.3)\n",
            "Requirement already satisfied: scipy in /usr/local/lib/python3.7/dist-packages (from gym) (1.4.1)\n",
            "Requirement already satisfied: pyglet<=1.5.0,>=1.4.0 in /usr/local/lib/python3.7/dist-packages (from gym) (1.5.0)\n",
            "Requirement already satisfied: cloudpickle<1.7.0,>=1.2.0 in /usr/local/lib/python3.7/dist-packages (from gym) (1.3.0)\n",
            "Requirement already satisfied: numpy>=1.10.4 in /usr/local/lib/python3.7/dist-packages (from gym) (1.19.5)\n",
            "Requirement already satisfied: future in /usr/local/lib/python3.7/dist-packages (from pyglet<=1.5.0,>=1.4.0->gym) (0.16.0)\n"
          ]
        }
      ]
    },
    {
      "cell_type": "markdown",
      "metadata": {
        "id": "ijqkEGzGYjDT"
      },
      "source": [
        "# 01. DQN\n",
        "\n",
        "[V. Mnih et al., \"Human-level control through deep reinforcement learning.\" Nature, 518\n",
        "(7540):529–533, 2015.](https://storage.googleapis.com/deepmind-media/dqn/DQNNaturePaper.pdf)\n",
        "\n",
        "Reinforcement learning is known to be unstable or even to diverge when a nonlinear function approximator such as a neural network is used to represent the action-value (also known as $Q$) function. This instability has several causes: the correlations present in the sequence of observations, the fact that small updates to $Q$ may significantly change the policy and therefore change the data distribution, and the correlations between the action-values ($Q$) and the target values $r + \\gamma \\max_{a'} Q(s', a')$.\n",
        "\n",
        "The authors suggest two key ideas to address these instabilities with a novel variant of Q-learning: Replay buffer and Fixed Q-target.\n",
        "\n",
        "#### Uniformly random sampling from Experience Replay Memory\n",
        "\n",
        "Reinforcement learning agent stores the experiences consecutively in the buffer, so adjacent ($s, a, r, s'$) transitions stored are highly likely to have correlation. To remove this, the agent samples experiences uniformly at random from the pool of stored samples $\\big( (s, a, r, s') \\sim U(D) \\big)$. See sample_batch method of ReplayBuffer class for more details.\n",
        "\n",
        "#### Fixed Q-target\n",
        "\n",
        "DQN uses an iterative update that adjusts the action-values ($Q$) towards target values that are only periodically updated, thereby reducing correlations with the target; if not, it is easily divergy because the target continuously moves. The Q-learning update at iteration $i$ uses the following loss function:\n",
        "\n",
        "$$\n",
        "L_i(\\theta_i) = \\mathbb{E}_{(s,a,r,s') \\sim U(D)} \\big[ \\big( r + \\gamma \\max_{a'} Q(s',a';\\theta_i^-) - Q(s, a; \\theta_i) \\big)^2 \\big]\n",
        "$$\n",
        "\n",
        "in which $\\gamma$ is the discount factor determining the agent’s horizon, $\\theta_i$ are the parameters of the Q-network at iteration $i$ and $\\theta_i^-$ are the network parameters used to compute the target at iteration $i$. The target network parameters $\\theta_i^-$ are only updated with the Q-network parameters ($\\theta_i$) every C steps and are held fixed between individual updates. ($C = 200$ in CartPole-v0)\n",
        "\n",
        "#### For more stability: Gradient clipping\n",
        "\n",
        "The authors also found it helpful to clip the error term from the update $r + \\gamma \\max_{a'} Q(s', a'; \\theta_i^-) - Q(s,a,;\\theta_i)$ to be between -1 and 1. Because the absolute value loss function $|x|$ has a derivative of -1 for all negative values of x and a derivative of 1 for all positive values of x, clipping the squared error to be between -1 and 1 corresponds to using an absolute value loss function for errors outside of the (-1,1) interval. This form of error clipping further improved the stability of the algorithm."
      ]
    },
    {
      "cell_type": "code",
      "metadata": {
        "id": "IvxTgFnwYjDV"
      },
      "source": [
        "import os\n",
        "from typing import Dict, List, Tuple\n",
        "\n",
        "import gym\n",
        "import matplotlib.pyplot as plt\n",
        "import numpy as np\n",
        "import torch\n",
        "import torch.nn as nn\n",
        "import torch.nn.functional as F\n",
        "import torch.optim as optim\n",
        "from IPython.display import clear_output"
      ],
      "execution_count": 2,
      "outputs": []
    },
    {
      "cell_type": "markdown",
      "metadata": {
        "id": "tPUuP_DQYjDa"
      },
      "source": [
        "## Replay buffer\n",
        "\n",
        "Typically, people implement replay buffers with one of the following three data structures:\n",
        "\n",
        "  - collections.deque\n",
        "  - list\n",
        "  - numpy.ndarray\n",
        "  \n",
        "**deque** is very easy to handle once you initialize its maximum length (e.g. deque(maxlen=buffer_size)). However, the indexing operation of deque gets terribly slow as it grows up because it is [internally doubly linked list](https://wiki.python.org/moin/TimeComplexity#collections.deque). On the other hands, **list** is an array, so it is relatively faster than deque when you sample batches at every step. Its amortized cost of  *Get item* is [O(1)](https://wiki.python.org/moin/TimeComplexity#list).\n",
        "\n",
        "Last but not least, let's see **numpy.ndarray**. numpy.ndarray is even faster than list due to the fact that it is [a homogeneous array of fixed-size items](https://docs.scipy.org/doc/numpy/reference/generated/numpy.ndarray.html#numpy.ndarray), so you can get the benefits of [locality of reference](https://en.wikipedia.org/wiki/Locality_of_reference). Whereas list is an array of pointers to objects, even when all of them are of the same type.\n",
        "\n",
        "Here, we are going to implement a replay buffer using numpy.ndarray.\n",
        "\n",
        "\n",
        "Reference: [OpenAI spinning-up](https://github.com/openai/spinningup/blob/master/spinup/algos/sac/sac.py#L10)"
      ]
    },
    {
      "cell_type": "code",
      "metadata": {
        "id": "jT8P7VhSYjDc"
      },
      "source": [
        "class ReplayBuffer:\n",
        "    \"\"\"A simple numpy replay buffer.\"\"\"\n",
        "\n",
        "    def __init__(self, obs_dim: int, size: int, batch_size: int = 32):\n",
        "        self.obs_buf = np.zeros([size, obs_dim], dtype=np.float32)\n",
        "        self.next_obs_buf = np.zeros([size, obs_dim], dtype=np.float32)\n",
        "        self.acts_buf = np.zeros([size], dtype=np.float32)\n",
        "        self.rews_buf = np.zeros([size], dtype=np.float32)\n",
        "        self.done_buf = np.zeros(size, dtype=np.float32)\n",
        "        self.max_size, self.batch_size = size, batch_size\n",
        "        self.ptr, self.size, = 0, 0\n",
        "\n",
        "    def store(\n",
        "        self,\n",
        "        obs: np.ndarray,\n",
        "        act: np.ndarray, \n",
        "        rew: float, \n",
        "        next_obs: np.ndarray, \n",
        "        done: bool,\n",
        "    ):\n",
        "        self.obs_buf[self.ptr] = obs\n",
        "        self.next_obs_buf[self.ptr] = next_obs\n",
        "        self.acts_buf[self.ptr] = act\n",
        "        self.rews_buf[self.ptr] = rew\n",
        "        self.done_buf[self.ptr] = done\n",
        "        self.ptr = (self.ptr + 1) % self.max_size\n",
        "        self.size = min(self.size + 1, self.max_size)\n",
        "\n",
        "    def sample_batch(self) -> Dict[str, np.ndarray]:\n",
        "        idxs = np.random.choice(self.size, size=self.batch_size, replace=False)\n",
        "        return dict(obs=self.obs_buf[idxs],\n",
        "                    next_obs=self.next_obs_buf[idxs],\n",
        "                    acts=self.acts_buf[idxs],\n",
        "                    rews=self.rews_buf[idxs],\n",
        "                    done=self.done_buf[idxs])\n",
        "\n",
        "    def __len__(self) -> int:\n",
        "        return self.size"
      ],
      "execution_count": 3,
      "outputs": []
    },
    {
      "cell_type": "markdown",
      "metadata": {
        "id": "M6Ql6aVbYjDd"
      },
      "source": [
        "## Network\n",
        "\n",
        "We are going to use a simple network architecture with three fully connected layers and two non-linearity functions (ReLU)."
      ]
    },
    {
      "cell_type": "code",
      "metadata": {
        "id": "ixAtKFg2YjDe"
      },
      "source": [
        "class Network(nn.Module):\n",
        "    def __init__(self, in_dim: int, out_dim: int):\n",
        "        \"\"\"Initialization.\"\"\"\n",
        "        super(Network, self).__init__()\n",
        "\n",
        "        self.layers = nn.Sequential(\n",
        "            nn.Linear(in_dim, 128), \n",
        "            nn.ReLU(),\n",
        "            nn.Linear(128, 128), \n",
        "            nn.ReLU(), \n",
        "            nn.Linear(128, out_dim)\n",
        "        )\n",
        "\n",
        "    def forward(self, x: torch.Tensor) -> torch.Tensor:\n",
        "        \"\"\"Forward method implementation.\"\"\"\n",
        "        return self.layers(x)"
      ],
      "execution_count": 4,
      "outputs": []
    },
    {
      "cell_type": "markdown",
      "metadata": {
        "id": "IuUaUvvXYjDf"
      },
      "source": [
        "## DQN Agent\n",
        "\n",
        "Here is a summary of DQNAgent class.\n",
        "\n",
        "| Method           | Note                                                 |\n",
        "| ---              | ---                                                  |\n",
        "|select_action     | select an action from the input state.               |\n",
        "|step              | take an action and return the response of the env.   |\n",
        "|compute_dqn_loss  | return dqn loss.                                     |\n",
        "|update_model      | update the model by gradient descent.                |\n",
        "|target_hard_update| hard update from the local model to the target model.|\n",
        "|train             | train the agent during num_frames.                   |\n",
        "|test              | test the agent (1 episode).                          |\n",
        "|plot              | plot the training progresses.                        |\n"
      ]
    },
    {
      "cell_type": "code",
      "metadata": {
        "id": "XMlen20gYjDg"
      },
      "source": [
        "class DQNAgent:\n",
        "    \"\"\"DQN Agent interacting with environment.\n",
        "    \n",
        "    Attribute:\n",
        "        env (gym.Env): openAI Gym environment\n",
        "        memory (ReplayBuffer): replay memory to store transitions\n",
        "        batch_size (int): batch size for sampling\n",
        "        epsilon (float): parameter for epsilon greedy policy\n",
        "        epsilon_decay (float): step size to decrease epsilon\n",
        "        max_epsilon (float): max value of epsilon\n",
        "        min_epsilon (float): min value of epsilon\n",
        "        target_update (int): period for target model's hard update\n",
        "        gamma (float): discount factor\n",
        "        dqn (Network): model to train and select actions\n",
        "        dqn_target (Network): target model to update\n",
        "        optimizer (torch.optim): optimizer for training dqn\n",
        "        transition (list): transition information including \n",
        "                           state, action, reward, next_state, done\n",
        "    \"\"\"\n",
        "\n",
        "    def __init__(\n",
        "        self, \n",
        "        env: gym.Env,\n",
        "        memory_size: int,\n",
        "        batch_size: int,\n",
        "        target_update: int,\n",
        "        epsilon_decay: float,\n",
        "        max_epsilon: float = 1.0,\n",
        "        min_epsilon: float = 0.1,\n",
        "        gamma: float = 0.99,\n",
        "    ):\n",
        "        \"\"\"Initialization.\n",
        "        \n",
        "        Args:\n",
        "            env (gym.Env): openAI Gym environment\n",
        "            memory_size (int): length of memory\n",
        "            batch_size (int): batch size for sampling\n",
        "            target_update (int): period for target model's hard update\n",
        "            epsilon_decay (float): step size to decrease epsilon\n",
        "            lr (float): learning rate\n",
        "            max_epsilon (float): max value of epsilon\n",
        "            min_epsilon (float): min value of epsilon\n",
        "            gamma (float): discount factor\n",
        "        \"\"\"\n",
        "        obs_dim = env.observation_space.shape[0]\n",
        "        action_dim = env.action_space.n\n",
        "        \n",
        "        self.env = env\n",
        "        self.memory = ReplayBuffer(obs_dim, memory_size, batch_size)\n",
        "        self.batch_size = batch_size\n",
        "        self.epsilon = max_epsilon\n",
        "        self.epsilon_decay = epsilon_decay\n",
        "        self.max_epsilon = max_epsilon\n",
        "        self.min_epsilon = min_epsilon\n",
        "        self.target_update = target_update\n",
        "        self.gamma = gamma\n",
        "        \n",
        "        # device: cpu / gpu\n",
        "        self.device = torch.device(\n",
        "            \"cuda\" if torch.cuda.is_available() else \"cpu\"\n",
        "        )\n",
        "        print(self.device)\n",
        "\n",
        "        # networks: dqn, dqn_target\n",
        "        self.dqn = Network(obs_dim, action_dim).to(self.device)\n",
        "        self.dqn_target = Network(obs_dim, action_dim).to(self.device)\n",
        "        self.dqn_target.load_state_dict(self.dqn.state_dict())\n",
        "        self.dqn_target.eval()\n",
        "        \n",
        "        # optimizer\n",
        "        self.optimizer = optim.Adam(self.dqn.parameters())\n",
        "\n",
        "        # transition to store in memory\n",
        "        self.transition = list()\n",
        "        \n",
        "        # mode: train / test\n",
        "        self.is_test = False\n",
        "\n",
        "    def select_action(self, state: np.ndarray) -> np.ndarray:\n",
        "        \"\"\"Select an action from the input state.\"\"\"\n",
        "        # epsilon greedy policy\n",
        "        if self.epsilon > np.random.random():\n",
        "            selected_action = self.env.action_space.sample()\n",
        "        else:\n",
        "            selected_action = self.dqn(\n",
        "                torch.FloatTensor(state).to(self.device)\n",
        "            ).argmax()\n",
        "            selected_action = selected_action.detach().cpu().numpy()\n",
        "        \n",
        "        if not self.is_test:\n",
        "            self.transition = [state, selected_action]\n",
        "        \n",
        "        return selected_action\n",
        "\n",
        "    def step(self, action: np.ndarray) -> Tuple[np.ndarray, np.float64, bool]:\n",
        "        \"\"\"Take an action and return the response of the env.\"\"\"\n",
        "        next_state, reward, done, _ = self.env.step(action)\n",
        "\n",
        "        if not self.is_test:\n",
        "            self.transition += [reward, next_state, done]\n",
        "            self.memory.store(*self.transition)\n",
        "    \n",
        "        return next_state, reward, done\n",
        "\n",
        "    def update_model(self) -> torch.Tensor:\n",
        "        \"\"\"Update the model by gradient descent.\"\"\"\n",
        "        samples = self.memory.sample_batch()\n",
        "\n",
        "        loss = self._compute_dqn_loss(samples)\n",
        "\n",
        "        self.optimizer.zero_grad()\n",
        "        loss.backward()\n",
        "        self.optimizer.step()\n",
        "\n",
        "        return loss.item()\n",
        "        \n",
        "    def train(self, num_frames: int, plotting_interval: int = 200):\n",
        "        \"\"\"Train the agent.\"\"\"\n",
        "        self.is_test = False\n",
        "        \n",
        "        state = self.env.reset()\n",
        "        update_cnt = 0\n",
        "        epsilons = []\n",
        "        losses = []\n",
        "        scores = []\n",
        "        score = 0\n",
        "\n",
        "        for frame_idx in range(1, num_frames + 1):\n",
        "            action = self.select_action(state)\n",
        "            next_state, reward, done = self.step(action)\n",
        "\n",
        "            state = next_state\n",
        "            score += reward\n",
        "\n",
        "            # if episode ends\n",
        "            if done:\n",
        "                state = self.env.reset()\n",
        "                scores.append(score)\n",
        "                score = 0\n",
        "\n",
        "            # if training is ready\n",
        "            if len(self.memory) >= self.batch_size:\n",
        "                loss = self.update_model()\n",
        "                losses.append(loss)\n",
        "                update_cnt += 1\n",
        "                \n",
        "                # linearly decrease epsilon\n",
        "                self.epsilon = max(\n",
        "                    self.min_epsilon, self.epsilon - (\n",
        "                        self.max_epsilon - self.min_epsilon\n",
        "                    ) * self.epsilon_decay\n",
        "                )\n",
        "                epsilons.append(self.epsilon)\n",
        "                \n",
        "                # if hard update is needed\n",
        "                if update_cnt % self.target_update == 0:\n",
        "                    self._target_hard_update()\n",
        "\n",
        "            # plotting\n",
        "            if frame_idx % plotting_interval == 0:\n",
        "                self._plot(frame_idx, scores, losses, epsilons)\n",
        "                \n",
        "        self.env.close()\n",
        "                \n",
        "    def test(self) -> List[np.ndarray]:\n",
        "        \"\"\"Test the agent.\"\"\"\n",
        "        self.is_test = True\n",
        "        \n",
        "        state = self.env.reset()\n",
        "        done = False\n",
        "        score = 0\n",
        "        \n",
        "        frames = []\n",
        "        while not done:\n",
        "            frames.append(self.env.render(mode=\"rgb_array\"))\n",
        "            action = self.select_action(state)\n",
        "            next_state, reward, done = self.step(action)\n",
        "\n",
        "            state = next_state\n",
        "            score += reward\n",
        "        \n",
        "        print(\"score: \", score)\n",
        "        self.env.close()\n",
        "        \n",
        "        return frames\n",
        "\n",
        "    def _compute_dqn_loss(self, samples: Dict[str, np.ndarray]) -> torch.Tensor:\n",
        "        \"\"\"Return dqn loss.\"\"\"\n",
        "        device = self.device  # for shortening the following lines\n",
        "        state = torch.FloatTensor(samples[\"obs\"]).to(device)\n",
        "        next_state = torch.FloatTensor(samples[\"next_obs\"]).to(device)\n",
        "        action = torch.LongTensor(samples[\"acts\"].reshape(-1, 1)).to(device)\n",
        "        reward = torch.FloatTensor(samples[\"rews\"].reshape(-1, 1)).to(device)\n",
        "        done = torch.FloatTensor(samples[\"done\"].reshape(-1, 1)).to(device)\n",
        "\n",
        "        # G_t   = r + gamma * v(s_{t+1})  if state != Terminal\n",
        "        #       = r                       otherwise\n",
        "        curr_q_value = self.dqn(state).gather(1, action)\n",
        "        next_q_value = self.dqn_target(\n",
        "            next_state\n",
        "        ).max(dim=1, keepdim=True)[0].detach()\n",
        "        mask = 1 - done\n",
        "        target = (reward + self.gamma * next_q_value * mask).to(self.device)\n",
        "\n",
        "        # calculate dqn loss\n",
        "        loss = F.smooth_l1_loss(curr_q_value, target)\n",
        "\n",
        "        return loss\n",
        "\n",
        "    def _target_hard_update(self):\n",
        "        \"\"\"Hard update: target <- local.\"\"\"\n",
        "        self.dqn_target.load_state_dict(self.dqn.state_dict())\n",
        "                \n",
        "    def _plot(\n",
        "        self, \n",
        "        frame_idx: int, \n",
        "        scores: List[float], \n",
        "        losses: List[float], \n",
        "        epsilons: List[float],\n",
        "    ):\n",
        "        \"\"\"Plot the training progresses.\"\"\"\n",
        "        clear_output(True)\n",
        "        plt.figure(figsize=(20, 5))\n",
        "        plt.subplot(131)\n",
        "        plt.title('frame %s. score: %s' % (frame_idx, np.mean(scores[-10:])))\n",
        "        plt.plot(scores)\n",
        "        plt.subplot(132)\n",
        "        plt.title('loss')\n",
        "        plt.plot(losses)\n",
        "        plt.subplot(133)\n",
        "        plt.title('epsilons')\n",
        "        plt.plot(epsilons)\n",
        "        plt.show()"
      ],
      "execution_count": 5,
      "outputs": []
    },
    {
      "cell_type": "markdown",
      "metadata": {
        "id": "sfk9wwhcYjDk"
      },
      "source": [
        "## Environment\n",
        "\n",
        "You can see the [code](https://github.com/openai/gym/blob/master/gym/envs/classic_control/cartpole.py) and [configurations](https://github.com/openai/gym/blob/master/gym/envs/__init__.py#L53) of CartPole-v0 from OpenAI's repository."
      ]
    },
    {
      "cell_type": "code",
      "metadata": {
        "id": "6T4wBPFYYjDr"
      },
      "source": [
        "# environment\n",
        "env_id = \"CartPole-v0\"\n",
        "env = gym.make(env_id)\n",
        "if IN_COLAB:\n",
        "    env = gym.wrappers.Monitor(env, \"videos\", force=True)"
      ],
      "execution_count": 6,
      "outputs": []
    },
    {
      "cell_type": "markdown",
      "metadata": {
        "id": "VWcfZI8iYjDr"
      },
      "source": [
        "## Set random seed"
      ]
    },
    {
      "cell_type": "code",
      "metadata": {
        "id": "pIKFeiMCYjDs",
        "colab": {
          "base_uri": "https://localhost:8080/"
        },
        "outputId": "5e75050d-f6ca-4442-fb28-2850010eabd1"
      },
      "source": [
        "seed = 777\n",
        "\n",
        "def seed_torch(seed):\n",
        "    torch.manual_seed(seed)\n",
        "    if torch.backends.cudnn.enabled:\n",
        "        torch.backends.cudnn.benchmark = False\n",
        "        torch.backends.cudnn.deterministic = True\n",
        "\n",
        "np.random.seed(seed)\n",
        "seed_torch(seed)\n",
        "env.seed(seed)"
      ],
      "execution_count": 7,
      "outputs": [
        {
          "output_type": "execute_result",
          "data": {
            "text/plain": [
              "[777]"
            ]
          },
          "metadata": {},
          "execution_count": 7
        }
      ]
    },
    {
      "cell_type": "markdown",
      "metadata": {
        "id": "YDwqqEx-YjDu"
      },
      "source": [
        "## Initialize"
      ]
    },
    {
      "cell_type": "code",
      "metadata": {
        "id": "0XFeFWW9YjDv",
        "colab": {
          "base_uri": "https://localhost:8080/"
        },
        "outputId": "4a2c8725-9f36-4d0e-85ec-d984231018c5"
      },
      "source": [
        "# parameters\n",
        "num_frames = 20000\n",
        "memory_size = 1000\n",
        "batch_size = 32\n",
        "target_update = 100\n",
        "epsilon_decay = 1 / 2000\n",
        "\n",
        "agent = DQNAgent(env, memory_size, batch_size, target_update, epsilon_decay)"
      ],
      "execution_count": 8,
      "outputs": [
        {
          "output_type": "stream",
          "name": "stdout",
          "text": [
            "cpu\n"
          ]
        }
      ]
    },
    {
      "cell_type": "markdown",
      "metadata": {
        "id": "q9Qxq0UlYjDv"
      },
      "source": [
        "## Train"
      ]
    },
    {
      "cell_type": "code",
      "metadata": {
        "id": "89JLAZECYjDv",
        "colab": {
          "base_uri": "https://localhost:8080/",
          "height": 248
        },
        "outputId": "e5595f89-d655-4896-c5c0-2c3b1e791e93"
      },
      "source": [
        "agent.train(num_frames)"
      ],
      "execution_count": 9,
      "outputs": [
        {
          "output_type": "display_data",
          "data": {
            "image/png": "[encoded data removed]",
            "text/plain": [
              "<Figure size 1440x360 with 3 Axes>"
            ]
          },
          "metadata": {
            "needs_background": "light"
          }
        }
      ]
    },
    {
      "cell_type": "markdown",
      "metadata": {
        "id": "nqWSJ9fiYjDw"
      },
      "source": [
        "## Test\n",
        "\n",
        "Run the trained agent (1 episode)."
      ]
    },
    {
      "cell_type": "code",
      "metadata": {
        "id": "X8iRmfcXYjDx",
        "colab": {
          "base_uri": "https://localhost:8080/"
        },
        "outputId": "949e0fa2-e6b1-45f3-f6cb-b100091a9b81"
      },
      "source": [
        "frames = agent.test()"
      ],
      "execution_count": 10,
      "outputs": [
        {
          "output_type": "stream",
          "name": "stdout",
          "text": [
            "score:  200.0\n"
          ]
        }
      ]
    },
    {
      "cell_type": "markdown",
      "metadata": {
        "id": "yvz2oKnjYjDx"
      },
      "source": [
        "## Render"
      ]
    },
    {
      "cell_type": "code",
      "metadata": {
        "id": "iuvtZb_MYjDy",
        "colab": {
          "base_uri": "https://localhost:8080/",
          "height": 438
        },
        "outputId": "0054086e-3c74-42ad-aad8-f513fd710d3b"
      },
      "source": [
        "if IN_COLAB:  # for colab\n",
        "    import base64\n",
        "    import glob\n",
        "    import io\n",
        "    import os\n",
        "\n",
        "    from IPython.display import HTML, display\n",
        "\n",
        "\n",
        "    def ipython_show_video(path: str) -> None:\n",
        "        \"\"\"Show a video at `path` within IPython Notebook.\"\"\"\n",
        "        if not os.path.isfile(path):\n",
        "            raise NameError(\"Cannot access: {}\".format(path))\n",
        "\n",
        "        video = io.open(path, \"r+b\").read()\n",
        "        encoded = base64.b64encode(video)\n",
        "\n",
        "        display(HTML(\n",
        "            data=\"\"\"\n",
        "            <video alt=\"test\" controls>\n",
        "            <source src=\"data:video/mp4;base64,{0}\" type=\"video/mp4\"/>\n",
        "            </video>\n",
        "            \"\"\".format(encoded.decode(\"ascii\"))\n",
        "        ))\n",
        "\n",
        "    list_of_files = glob.glob(\"videos/*.mp4\")\n",
        "    latest_file = max(list_of_files, key=os.path.getctime)\n",
        "    print(latest_file)\n",
        "    ipython_show_video(latest_file)\n",
        "    \n",
        "else:  # for jupyter\n",
        "    from matplotlib import animation\n",
        "    from JSAnimation.IPython_display import display_animation\n",
        "    from IPython.display import display\n",
        "\n",
        "\n",
        "    def display_frames_as_gif(frames: List[np.ndarray]) -> None:\n",
        "        \"\"\"Displays a list of frames as a gif, with controls.\"\"\"\n",
        "        patch = plt.imshow(frames[0])\n",
        "        plt.axis('off')\n",
        "\n",
        "        def animate(i):\n",
        "            patch.set_data(frames[i])\n",
        "\n",
        "        anim = animation.FuncAnimation(\n",
        "            plt.gcf(), animate, frames = len(frames), interval=50\n",
        "        )\n",
        "        display(display_animation(anim, default_mode='loop'))\n",
        "\n",
        "\n",
        "    # display \n",
        "    display_frames_as_gif(frames)"
      ],
      "execution_count": 11,
      "outputs": [
        {
          "output_type": "stream",
          "name": "stdout",
          "text": [
            "videos/openaigym.video.0.68.video000125.mp4\n"
          ]
        },
        {
          "output_type": "display_data",
          "data": {
            "text/html": [
              "\n",
              "            <video alt=\"test\" controls>\n",
              "            <source src=\"data:video/mp4;base64,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\" type=\"video/mp4\"/>\n",
              "            </video>\n",
              "            "
            ],
            "text/plain": [
              "<IPython.core.display.HTML object>"
            ]
          },
          "metadata": {}
        }
      ]
    }
  ]
}