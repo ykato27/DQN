{
  "nbformat": 4,
  "nbformat_minor": 0,
  "metadata": {
    "colab": {
      "name": "1_getting_started.ipynb",
      "provenance": [],
      "collapsed_sections": [],
      "include_colab_link": true
    },
    "kernelspec": {
      "name": "python3",
      "display_name": "Python 3"
    },
    "accelerator": "GPU"
  },
  "cells": [
    {
      "cell_type": "markdown",
      "metadata": {
        "id": "view-in-github",
        "colab_type": "text"
      },
      "source": [
        "<a href=\"https://colab.research.google.com/github/ykato27/Reinforcement-Learning/blob/main/1_getting_started.ipynb\" target=\"_parent\"><img src=\"https://colab.research.google.com/assets/colab-badge.svg\" alt=\"Open In Colab\"/></a>"
      ]
    },
    {
      "cell_type": "markdown",
      "metadata": {
        "id": "hyyN-2qyK_T2"
      },
      "source": [
        "# Stable Baselines3 Tutorial - Getting Started\n",
        "\n",
        "Github repo: https://github.com/araffin/rl-tutorial-jnrr19/tree/sb3/\n",
        "\n",
        "Stable-Baselines3: https://github.com/DLR-RM/stable-baselines3\n",
        "\n",
        "Documentation: https://stable-baselines3.readthedocs.io/en/master/\n",
        "\n",
        "RL Baselines3 zoo: https://github.com/DLR-RM/rl-baselines3-zoo\n",
        "\n",
        "[RL Baselines3 Zoo](https://github.com/DLR-RM/rl-baselines3-zoo) is a collection of pre-trained Reinforcement Learning agents using Stable-Baselines3.\n",
        "\n",
        "It also provides basic scripts for training, evaluating agents, tuning hyperparameters and recording videos.\n",
        "\n",
        "\n",
        "## Introduction\n",
        "\n",
        "In this notebook, you will learn the basics for using stable baselines library: how to create a RL model, train it and evaluate it. Because all algorithms share the same interface, we will see how simple it is to switch from one algorithm to another.\n",
        "\n",
        "\n",
        "## Install Dependencies and Stable Baselines3 Using Pip\n",
        "\n",
        "List of full dependencies can be found in the [README](https://github.com/DLR-RM/stable-baselines3).\n",
        "\n",
        "\n",
        "```\n",
        "pip install stable-baselines3[extra]\n",
        "```"
      ]
    },
    {
      "cell_type": "code",
      "metadata": {
        "id": "gWskDE2c9WoN",
        "colab": {
          "base_uri": "https://localhost:8080/"
        },
        "outputId": "88f228f1-c436-4b41-9c90-4f2d61ac059d"
      },
      "source": [
        "!apt-get install ffmpeg freeglut3-dev xvfb  # For visualization\n",
        "!pip install stable-baselines3[extra]"
      ],
      "execution_count": 1,
      "outputs": [
        {
          "output_type": "stream",
          "name": "stdout",
          "text": [
            "Reading package lists... Done\n",
            "Building dependency tree       \n",
            "Reading state information... Done\n",
            "freeglut3-dev is already the newest version (2.8.1-3).\n",
            "freeglut3-dev set to manually installed.\n",
            "ffmpeg is already the newest version (7:3.4.8-0ubuntu0.2).\n",
            "The following NEW packages will be installed:\n",
            "  xvfb\n",
            "0 upgraded, 1 newly installed, 0 to remove and 37 not upgraded.\n",
            "Need to get 784 kB of archives.\n",
            "After this operation, 2,270 kB of additional disk space will be used.\n",
            "Get:1 http://archive.ubuntu.com/ubuntu bionic-updates/universe amd64 xvfb amd64 2:1.19.6-1ubuntu4.9 [784 kB]\n",
            "Fetched 784 kB in 1s (1,287 kB/s)\n",
            "Selecting previously unselected package xvfb.\n",
            "(Reading database ... 155222 files and directories currently installed.)\n",
            "Preparing to unpack .../xvfb_2%3a1.19.6-1ubuntu4.9_amd64.deb ...\n",
            "Unpacking xvfb (2:1.19.6-1ubuntu4.9) ...\n",
            "Setting up xvfb (2:1.19.6-1ubuntu4.9) ...\n",
            "Processing triggers for man-db (2.8.3-2ubuntu0.1) ...\n",
            "Collecting stable-baselines3[extra]\n",
            "  Downloading stable_baselines3-1.3.0-py3-none-any.whl (174 kB)\n",
            "\u001b[K     |████████████████████████████████| 174 kB 25.9 MB/s \n",
            "\u001b[?25hRequirement already satisfied: gym<0.20,>=0.17 in /usr/local/lib/python3.7/dist-packages (from stable-baselines3[extra]) (0.17.3)\n",
            "Requirement already satisfied: pandas in /usr/local/lib/python3.7/dist-packages (from stable-baselines3[extra]) (1.1.5)\n",
            "Requirement already satisfied: torch>=1.8.1 in /usr/local/lib/python3.7/dist-packages (from stable-baselines3[extra]) (1.10.0+cu111)\n",
            "Requirement already satisfied: numpy in /usr/local/lib/python3.7/dist-packages (from stable-baselines3[extra]) (1.19.5)\n",
            "Requirement already satisfied: cloudpickle in /usr/local/lib/python3.7/dist-packages (from stable-baselines3[extra]) (1.3.0)\n",
            "Requirement already satisfied: matplotlib in /usr/local/lib/python3.7/dist-packages (from stable-baselines3[extra]) (3.2.2)\n",
            "Requirement already satisfied: opencv-python in /usr/local/lib/python3.7/dist-packages (from stable-baselines3[extra]) (4.1.2.30)\n",
            "Requirement already satisfied: psutil in /usr/local/lib/python3.7/dist-packages (from stable-baselines3[extra]) (5.4.8)\n",
            "Requirement already satisfied: atari-py~=0.2.0 in /usr/local/lib/python3.7/dist-packages (from stable-baselines3[extra]) (0.2.9)\n",
            "Requirement already satisfied: pillow in /usr/local/lib/python3.7/dist-packages (from stable-baselines3[extra]) (7.1.2)\n",
            "Requirement already satisfied: tensorboard>=2.2.0 in /usr/local/lib/python3.7/dist-packages (from stable-baselines3[extra]) (2.7.0)\n",
            "Requirement already satisfied: six in /usr/local/lib/python3.7/dist-packages (from atari-py~=0.2.0->stable-baselines3[extra]) (1.15.0)\n",
            "Requirement already satisfied: pyglet<=1.5.0,>=1.4.0 in /usr/local/lib/python3.7/dist-packages (from gym<0.20,>=0.17->stable-baselines3[extra]) (1.5.0)\n",
            "Requirement already satisfied: scipy in /usr/local/lib/python3.7/dist-packages (from gym<0.20,>=0.17->stable-baselines3[extra]) (1.4.1)\n",
            "Requirement already satisfied: future in /usr/local/lib/python3.7/dist-packages (from pyglet<=1.5.0,>=1.4.0->gym<0.20,>=0.17->stable-baselines3[extra]) (0.16.0)\n",
            "Requirement already satisfied: protobuf>=3.6.0 in /usr/local/lib/python3.7/dist-packages (from tensorboard>=2.2.0->stable-baselines3[extra]) (3.17.3)\n",
            "Requirement already satisfied: markdown>=2.6.8 in /usr/local/lib/python3.7/dist-packages (from tensorboard>=2.2.0->stable-baselines3[extra]) (3.3.6)\n",
            "Requirement already satisfied: google-auth-oauthlib<0.5,>=0.4.1 in /usr/local/lib/python3.7/dist-packages (from tensorboard>=2.2.0->stable-baselines3[extra]) (0.4.6)\n",
            "Requirement already satisfied: requests<3,>=2.21.0 in /usr/local/lib/python3.7/dist-packages (from tensorboard>=2.2.0->stable-baselines3[extra]) (2.23.0)\n",
            "Requirement already satisfied: tensorboard-plugin-wit>=1.6.0 in /usr/local/lib/python3.7/dist-packages (from tensorboard>=2.2.0->stable-baselines3[extra]) (1.8.0)\n",
            "Requirement already satisfied: absl-py>=0.4 in /usr/local/lib/python3.7/dist-packages (from tensorboard>=2.2.0->stable-baselines3[extra]) (0.12.0)\n",
            "Requirement already satisfied: google-auth<3,>=1.6.3 in /usr/local/lib/python3.7/dist-packages (from tensorboard>=2.2.0->stable-baselines3[extra]) (1.35.0)\n",
            "Requirement already satisfied: grpcio>=1.24.3 in /usr/local/lib/python3.7/dist-packages (from tensorboard>=2.2.0->stable-baselines3[extra]) (1.42.0)\n",
            "Requirement already satisfied: setuptools>=41.0.0 in /usr/local/lib/python3.7/dist-packages (from tensorboard>=2.2.0->stable-baselines3[extra]) (57.4.0)\n",
            "Requirement already satisfied: tensorboard-data-server<0.7.0,>=0.6.0 in /usr/local/lib/python3.7/dist-packages (from tensorboard>=2.2.0->stable-baselines3[extra]) (0.6.1)\n",
            "Requirement already satisfied: wheel>=0.26 in /usr/local/lib/python3.7/dist-packages (from tensorboard>=2.2.0->stable-baselines3[extra]) (0.37.0)\n",
            "Requirement already satisfied: werkzeug>=0.11.15 in /usr/local/lib/python3.7/dist-packages (from tensorboard>=2.2.0->stable-baselines3[extra]) (1.0.1)\n",
            "Requirement already satisfied: rsa<5,>=3.1.4 in /usr/local/lib/python3.7/dist-packages (from google-auth<3,>=1.6.3->tensorboard>=2.2.0->stable-baselines3[extra]) (4.8)\n",
            "Requirement already satisfied: cachetools<5.0,>=2.0.0 in /usr/local/lib/python3.7/dist-packages (from google-auth<3,>=1.6.3->tensorboard>=2.2.0->stable-baselines3[extra]) (4.2.4)\n",
            "Requirement already satisfied: pyasn1-modules>=0.2.1 in /usr/local/lib/python3.7/dist-packages (from google-auth<3,>=1.6.3->tensorboard>=2.2.0->stable-baselines3[extra]) (0.2.8)\n",
            "Requirement already satisfied: requests-oauthlib>=0.7.0 in /usr/local/lib/python3.7/dist-packages (from google-auth-oauthlib<0.5,>=0.4.1->tensorboard>=2.2.0->stable-baselines3[extra]) (1.3.0)\n",
            "Requirement already satisfied: importlib-metadata>=4.4 in /usr/local/lib/python3.7/dist-packages (from markdown>=2.6.8->tensorboard>=2.2.0->stable-baselines3[extra]) (4.8.2)\n",
            "Requirement already satisfied: zipp>=0.5 in /usr/local/lib/python3.7/dist-packages (from importlib-metadata>=4.4->markdown>=2.6.8->tensorboard>=2.2.0->stable-baselines3[extra]) (3.6.0)\n",
            "Requirement already satisfied: typing-extensions>=3.6.4 in /usr/local/lib/python3.7/dist-packages (from importlib-metadata>=4.4->markdown>=2.6.8->tensorboard>=2.2.0->stable-baselines3[extra]) (3.10.0.2)\n",
            "Requirement already satisfied: pyasn1<0.5.0,>=0.4.6 in /usr/local/lib/python3.7/dist-packages (from pyasn1-modules>=0.2.1->google-auth<3,>=1.6.3->tensorboard>=2.2.0->stable-baselines3[extra]) (0.4.8)\n",
            "Requirement already satisfied: urllib3!=1.25.0,!=1.25.1,<1.26,>=1.21.1 in /usr/local/lib/python3.7/dist-packages (from requests<3,>=2.21.0->tensorboard>=2.2.0->stable-baselines3[extra]) (1.24.3)\n",
            "Requirement already satisfied: chardet<4,>=3.0.2 in /usr/local/lib/python3.7/dist-packages (from requests<3,>=2.21.0->tensorboard>=2.2.0->stable-baselines3[extra]) (3.0.4)\n",
            "Requirement already satisfied: certifi>=2017.4.17 in /usr/local/lib/python3.7/dist-packages (from requests<3,>=2.21.0->tensorboard>=2.2.0->stable-baselines3[extra]) (2021.10.8)\n",
            "Requirement already satisfied: idna<3,>=2.5 in /usr/local/lib/python3.7/dist-packages (from requests<3,>=2.21.0->tensorboard>=2.2.0->stable-baselines3[extra]) (2.10)\n",
            "Requirement already satisfied: oauthlib>=3.0.0 in /usr/local/lib/python3.7/dist-packages (from requests-oauthlib>=0.7.0->google-auth-oauthlib<0.5,>=0.4.1->tensorboard>=2.2.0->stable-baselines3[extra]) (3.1.1)\n",
            "Requirement already satisfied: pyparsing!=2.0.4,!=2.1.2,!=2.1.6,>=2.0.1 in /usr/local/lib/python3.7/dist-packages (from matplotlib->stable-baselines3[extra]) (3.0.6)\n",
            "Requirement already satisfied: cycler>=0.10 in /usr/local/lib/python3.7/dist-packages (from matplotlib->stable-baselines3[extra]) (0.11.0)\n",
            "Requirement already satisfied: kiwisolver>=1.0.1 in /usr/local/lib/python3.7/dist-packages (from matplotlib->stable-baselines3[extra]) (1.3.2)\n",
            "Requirement already satisfied: python-dateutil>=2.1 in /usr/local/lib/python3.7/dist-packages (from matplotlib->stable-baselines3[extra]) (2.8.2)\n",
            "Requirement already satisfied: pytz>=2017.2 in /usr/local/lib/python3.7/dist-packages (from pandas->stable-baselines3[extra]) (2018.9)\n",
            "Installing collected packages: stable-baselines3\n",
            "Successfully installed stable-baselines3-1.3.0\n"
          ]
        }
      ]
    },
    {
      "cell_type": "markdown",
      "metadata": {
        "id": "FtY8FhliLsGm"
      },
      "source": [
        "## Imports"
      ]
    },
    {
      "cell_type": "markdown",
      "metadata": {
        "id": "gcX8hEcaUpR0"
      },
      "source": [
        "Stable-Baselines3 works on environments that follow the [gym interface](https://stable-baselines3.readthedocs.io/en/master/guide/custom_env.html).\n",
        "You can find a list of available environment [here](https://gym.openai.com/envs/#classic_control).\n",
        "\n",
        "It is also recommended to check the [source code](https://github.com/openai/gym) to learn more about the observation and action space of each env, as gym does not have a proper documentation.\n",
        "Not all algorithms can work with all action spaces, you can find more in this [recap table](https://stable-baselines3.readthedocs.io/en/master/guide/algos.html)"
      ]
    },
    {
      "cell_type": "code",
      "metadata": {
        "id": "BIedd7Pz9sOs"
      },
      "source": [
        "import gym\n",
        "import numpy as np"
      ],
      "execution_count": 2,
      "outputs": []
    },
    {
      "cell_type": "markdown",
      "metadata": {
        "id": "Ae32CtgzTG3R"
      },
      "source": [
        "The first thing you need to import is the RL model, check the documentation to know what you can use on which problem"
      ]
    },
    {
      "cell_type": "code",
      "metadata": {
        "id": "R7tKaBFrTR0a"
      },
      "source": [
        "from stable_baselines3 import PPO"
      ],
      "execution_count": 3,
      "outputs": []
    },
    {
      "cell_type": "markdown",
      "metadata": {
        "id": "-0_8OQbOTTNT"
      },
      "source": [
        "The next thing you need to import is the policy class that will be used to create the networks (for the policy/value functions).\n",
        "This step is optional as you can directly use strings in the constructor: \n",
        "\n",
        "```PPO('MlpPolicy', env)``` instead of ```PPO(MlpPolicy, env)```\n",
        "\n",
        "Note that some algorithms like `SAC` have their own `MlpPolicy`, that's why using string for the policy is the recommened option."
      ]
    },
    {
      "cell_type": "code",
      "metadata": {
        "id": "ROUJr675TT01"
      },
      "source": [
        "from stable_baselines3.ppo.policies import MlpPolicy"
      ],
      "execution_count": 4,
      "outputs": []
    },
    {
      "cell_type": "markdown",
      "metadata": {
        "id": "RapkYvTXL7Cd"
      },
      "source": [
        "## Create the Gym env and instantiate the agent\n",
        "\n",
        "For this example, we will use CartPole environment, a classic control problem.\n",
        "\n",
        "\"A pole is attached by an un-actuated joint to a cart, which moves along a frictionless track. The system is controlled by applying a force of +1 or -1 to the cart. The pendulum starts upright, and the goal is to prevent it from falling over. A reward of +1 is provided for every timestep that the pole remains upright. \"\n",
        "\n",
        "Cartpole environment: [https://gym.openai.com/envs/CartPole-v1/](https://gym.openai.com/envs/CartPole-v1/)\n",
        "\n",
        "![Cartpole](https://cdn-images-1.medium.com/max/1143/1*h4WTQNVIsvMXJTCpXm_TAw.gif)\n",
        "\n",
        "\n",
        "We chose the MlpPolicy because the observation of the CartPole task is a feature vector, not images.\n",
        "\n",
        "The type of action to use (discrete/continuous) will be automatically deduced from the environment action space\n",
        "\n",
        "Here we are using the [Proximal Policy Optimization](https://stable-baselines3.readthedocs.io/en/master/modules/ppo2.html) algorithm, which is an Actor-Critic method: it uses a value function to improve the policy gradient descent (by reducing the variance).\n",
        "\n",
        "It combines ideas from [A2C](https://stable-baselines3.readthedocs.io/en/master/modules/a2c.html) (having multiple workers and using an entropy bonus for exploration) and [TRPO](https://stable-baselines.readthedocs.io/en/master/modules/trpo.html) (it uses a trust region to improve stability and avoid catastrophic drops in performance).\n",
        "\n",
        "PPO is an on-policy algorithm, which means that the trajectories used to update the networks must be collected using the latest policy.\n",
        "It is usually less sample efficient than off-policy alorithms like [DQN](https://stable-baselines.readthedocs.io/en/master/modules/dqn.html), [SAC](https://stable-baselines3.readthedocs.io/en/master/modules/sac.html) or [TD3](https://stable-baselines3.readthedocs.io/en/master/modules/td3.html), but is much faster regarding wall-clock time.\n"
      ]
    },
    {
      "cell_type": "code",
      "metadata": {
        "id": "pUWGZp3i9wyf"
      },
      "source": [
        "env = gym.make('CartPole-v1')\n",
        "\n",
        "model = PPO(MlpPolicy, env, verbose=0)"
      ],
      "execution_count": 5,
      "outputs": []
    },
    {
      "cell_type": "markdown",
      "metadata": {
        "id": "4efFdrQ7MBvl"
      },
      "source": [
        "We create a helper function to evaluate the agent:"
      ]
    },
    {
      "cell_type": "code",
      "metadata": {
        "id": "63M8mSKR-6Zt"
      },
      "source": [
        "def evaluate(model, num_episodes=100):\n",
        "    \"\"\"\n",
        "    Evaluate a RL agent\n",
        "    :param model: (BaseRLModel object) the RL Agent\n",
        "    :param num_episodes: (int) number of episodes to evaluate it\n",
        "    :return: (float) Mean reward for the last num_episodes\n",
        "    \"\"\"\n",
        "    # This function will only work for a single Environment\n",
        "    env = model.get_env()\n",
        "    all_episode_rewards = []\n",
        "    for i in range(num_episodes):\n",
        "        episode_rewards = []\n",
        "        done = False\n",
        "        obs = env.reset()\n",
        "        while not done:\n",
        "            # _states are only useful when using LSTM policies\n",
        "            action, _states = model.predict(obs)\n",
        "            # here, action, rewards and dones are arrays\n",
        "            # because we are using vectorized env\n",
        "            obs, reward, done, info = env.step(action)\n",
        "            episode_rewards.append(reward)\n",
        "\n",
        "        all_episode_rewards.append(sum(episode_rewards))\n",
        "\n",
        "    mean_episode_reward = np.mean(all_episode_rewards)\n",
        "    print(\"Mean reward:\", mean_episode_reward, \"Num episodes:\", num_episodes)\n",
        "\n",
        "    return mean_episode_reward"
      ],
      "execution_count": 6,
      "outputs": []
    },
    {
      "cell_type": "markdown",
      "metadata": {
        "id": "zjEVOIY8NVeK"
      },
      "source": [
        "Let's evaluate the un-trained agent, this should be a random agent."
      ]
    },
    {
      "cell_type": "code",
      "metadata": {
        "id": "xDHLMA6NFk95",
        "outputId": "b0e021ab-1977-42b0-f928-e2a4476fba16",
        "colab": {
          "base_uri": "https://localhost:8080/"
        }
      },
      "source": [
        "# Random Agent, before training\n",
        "mean_reward_before_train = evaluate(model, num_episodes=100)"
      ],
      "execution_count": 7,
      "outputs": [
        {
          "output_type": "stream",
          "name": "stdout",
          "text": [
            "Mean reward: 21.28 Num episodes: 100\n"
          ]
        }
      ]
    },
    {
      "cell_type": "markdown",
      "metadata": {
        "id": "QjjPxrwkYJ2i"
      },
      "source": [
        "Stable-Baselines already provides you with that helper:"
      ]
    },
    {
      "cell_type": "code",
      "metadata": {
        "id": "8z6K9YImYJEx"
      },
      "source": [
        "from stable_baselines3.common.evaluation import evaluate_policy"
      ],
      "execution_count": 8,
      "outputs": []
    },
    {
      "cell_type": "code",
      "metadata": {
        "id": "4oPTHjxyZSOL",
        "colab": {
          "base_uri": "https://localhost:8080/"
        },
        "outputId": "1f187ebc-fa46-40f9-d7bd-bdfd2826107e"
      },
      "source": [
        "mean_reward, std_reward = evaluate_policy(model, env, n_eval_episodes=100)\n",
        "\n",
        "print(f\"mean_reward:{mean_reward:.2f} +/- {std_reward:.2f}\")"
      ],
      "execution_count": 9,
      "outputs": [
        {
          "output_type": "stream",
          "name": "stderr",
          "text": [
            "/usr/local/lib/python3.7/dist-packages/stable_baselines3/common/evaluation.py:69: UserWarning: Evaluation environment is not wrapped with a ``Monitor`` wrapper. This may result in reporting modified episode lengths and rewards, if other wrappers happen to modify these. Consider wrapping environment first with ``Monitor`` wrapper.\n",
            "  UserWarning,\n"
          ]
        },
        {
          "output_type": "stream",
          "name": "stdout",
          "text": [
            "mean_reward:8.88 +/- 0.62\n"
          ]
        }
      ]
    },
    {
      "cell_type": "markdown",
      "metadata": {
        "id": "r5UoXTZPNdFE"
      },
      "source": [
        "## Train the agent and evaluate it"
      ]
    },
    {
      "cell_type": "code",
      "metadata": {
        "id": "e4cfSXIB-pTF",
        "colab": {
          "base_uri": "https://localhost:8080/"
        },
        "outputId": "6a075f3a-74b4-4d23-dc74-08ed0ba435c3"
      },
      "source": [
        "# Train the agent for 10000 steps\n",
        "model.learn(total_timesteps=10000)"
      ],
      "execution_count": 10,
      "outputs": [
        {
          "output_type": "execute_result",
          "data": {
            "text/plain": [
              "<stable_baselines3.ppo.ppo.PPO at 0x7f4b423cb210>"
            ]
          },
          "metadata": {},
          "execution_count": 10
        }
      ]
    },
    {
      "cell_type": "code",
      "metadata": {
        "id": "ygl_gVmV_QP7",
        "colab": {
          "base_uri": "https://localhost:8080/"
        },
        "outputId": "a7a70283-7100-4734-be4c-21c0b411dcd6"
      },
      "source": [
        "# Evaluate the trained agent\n",
        "mean_reward, std_reward = evaluate_policy(model, env, n_eval_episodes=100)\n",
        "\n",
        "print(f\"mean_reward:{mean_reward:.2f} +/- {std_reward:.2f}\")"
      ],
      "execution_count": 11,
      "outputs": [
        {
          "output_type": "stream",
          "name": "stderr",
          "text": [
            "/usr/local/lib/python3.7/dist-packages/stable_baselines3/common/evaluation.py:69: UserWarning: Evaluation environment is not wrapped with a ``Monitor`` wrapper. This may result in reporting modified episode lengths and rewards, if other wrappers happen to modify these. Consider wrapping environment first with ``Monitor`` wrapper.\n",
            "  UserWarning,\n"
          ]
        },
        {
          "output_type": "stream",
          "name": "stdout",
          "text": [
            "mean_reward:413.82 +/- 105.63\n"
          ]
        }
      ]
    },
    {
      "cell_type": "markdown",
      "metadata": {
        "id": "A00W6yY3NkHG"
      },
      "source": [
        "Apparently the training went well, the mean reward increased a lot ! "
      ]
    },
    {
      "cell_type": "markdown",
      "metadata": {
        "id": "xVm9QPNVwKXN"
      },
      "source": [
        "### Prepare video recording"
      ]
    },
    {
      "cell_type": "code",
      "metadata": {
        "id": "MPyfQxD5z26J"
      },
      "source": [
        "# Set up fake display; otherwise rendering will fail\n",
        "import os\n",
        "os.system(\"Xvfb :1 -screen 0 1024x768x24 &\")\n",
        "os.environ['DISPLAY'] = ':1'"
      ],
      "execution_count": 12,
      "outputs": []
    },
    {
      "cell_type": "code",
      "metadata": {
        "id": "SLzXxO8VMD6N"
      },
      "source": [
        "import base64\n",
        "from pathlib import Path\n",
        "\n",
        "from IPython import display as ipythondisplay\n",
        "\n",
        "def show_videos(video_path='', prefix=''):\n",
        "  \"\"\"\n",
        "  Taken from https://github.com/eleurent/highway-env\n",
        "\n",
        "  :param video_path: (str) Path to the folder containing videos\n",
        "  :param prefix: (str) Filter the video, showing only the only starting with this prefix\n",
        "  \"\"\"\n",
        "  html = []\n",
        "  for mp4 in Path(video_path).glob(\"{}*.mp4\".format(prefix)):\n",
        "      video_b64 = base64.b64encode(mp4.read_bytes())\n",
        "      html.append('''<video alt=\"{}\" autoplay \n",
        "                    loop controls style=\"height: 400px;\">\n",
        "                    <source src=\"data:video/mp4;base64,{}\" type=\"video/mp4\" />\n",
        "                </video>'''.format(mp4, video_b64.decode('ascii')))\n",
        "  ipythondisplay.display(ipythondisplay.HTML(data=\"<br>\".join(html)))"
      ],
      "execution_count": 13,
      "outputs": []
    },
    {
      "cell_type": "markdown",
      "metadata": {
        "id": "LTRNUfulOGaF"
      },
      "source": [
        "We will record a video using the [VecVideoRecorder](https://stable-baselines3.readthedocs.io/en/master/guide/vec_envs.html#vecvideorecorder) wrapper, you will learn about those wrapper in the next notebook."
      ]
    },
    {
      "cell_type": "code",
      "metadata": {
        "id": "Trag9dQpOIhx"
      },
      "source": [
        "from stable_baselines3.common.vec_env import VecVideoRecorder, DummyVecEnv\n",
        "\n",
        "def record_video(env_id, model, video_length=500, prefix='', video_folder='videos/'):\n",
        "  \"\"\"\n",
        "  :param env_id: (str)\n",
        "  :param model: (RL model)\n",
        "  :param video_length: (int)\n",
        "  :param prefix: (str)\n",
        "  :param video_folder: (str)\n",
        "  \"\"\"\n",
        "  eval_env = DummyVecEnv([lambda: gym.make(env_id)])\n",
        "  # Start the video at step=0 and record 500 steps\n",
        "  eval_env = VecVideoRecorder(eval_env, video_folder=video_folder,\n",
        "                              record_video_trigger=lambda step: step == 0, video_length=video_length,\n",
        "                              name_prefix=prefix)\n",
        "\n",
        "  obs = eval_env.reset()\n",
        "  for _ in range(video_length):\n",
        "    action, _ = model.predict(obs)\n",
        "    obs, _, _, _ = eval_env.step(action)\n",
        "\n",
        "  # Close the video recorder\n",
        "  eval_env.close()"
      ],
      "execution_count": 14,
      "outputs": []
    },
    {
      "cell_type": "markdown",
      "metadata": {
        "id": "KOObbeu5MMlR"
      },
      "source": [
        "### Visualize trained agent\n",
        "\n"
      ]
    },
    {
      "cell_type": "code",
      "metadata": {
        "id": "iATu7AiyMQW2",
        "outputId": "acc86e3a-bef1-4655-c41a-a9456fb06af0",
        "colab": {
          "base_uri": "https://localhost:8080/"
        }
      },
      "source": [
        "record_video('CartPole-v1', model, video_length=500, prefix='ppo2-cartpole')"
      ],
      "execution_count": 15,
      "outputs": [
        {
          "output_type": "stream",
          "name": "stdout",
          "text": [
            "Saving video to /content/videos/ppo2-cartpole-step-0-to-step-500.mp4\n"
          ]
        }
      ]
    },
    {
      "cell_type": "code",
      "metadata": {
        "id": "-n4i-fW3NojZ",
        "colab": {
          "base_uri": "https://localhost:8080/",
          "height": 421
        },
        "outputId": "4ce144c6-07ba-40cc-db65-7d8ca197d453"
      },
      "source": [
        "show_videos('videos', prefix='ppo2')"
      ],
      "execution_count": 16,
      "outputs": [
        {
          "output_type": "display_data",
          "data": {
            "text/html": [
              "<video alt=\"videos/ppo2-cartpole-step-0-to-step-500.mp4\" autoplay \n",
              "                    loop controls style=\"height: 400px;\">\n",
              "                    <source src=\"data:video/mp4;base64,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\" type=\"video/mp4\" />\n",
              "                </video>"
            ],
            "text/plain": [
              "<IPython.core.display.HTML object>"
            ]
          },
          "metadata": {}
        }
      ]
    },
    {
      "cell_type": "markdown",
      "metadata": {
        "id": "9Y8zg4V566qD"
      },
      "source": [
        "## Bonus: Train a RL Model in One Line\n",
        "\n",
        "The policy class to use will be inferred and the environment will be automatically created. This works because both are [registered](https://stable-baselines3.readthedocs.io/en/master/guide/quickstart.html)."
      ]
    },
    {
      "cell_type": "code",
      "metadata": {
        "id": "iaOPfOrwWEP4",
        "colab": {
          "base_uri": "https://localhost:8080/"
        },
        "outputId": "85e4cb3a-0c0c-4538-abbf-771e5e44bf92"
      },
      "source": [
        "model = PPO('MlpPolicy', \"CartPole-v1\", verbose=1).learn(1000)"
      ],
      "execution_count": 17,
      "outputs": [
        {
          "output_type": "stream",
          "name": "stdout",
          "text": [
            "Using cpu device\n",
            "Creating environment from the given name 'CartPole-v1'\n",
            "Wrapping the env with a `Monitor` wrapper\n",
            "Wrapping the env in a DummyVecEnv.\n",
            "---------------------------------\n",
            "| rollout/           |          |\n",
            "|    ep_len_mean     | 22.7     |\n",
            "|    ep_rew_mean     | 22.7     |\n",
            "| time/              |          |\n",
            "|    fps             | 1629     |\n",
            "|    iterations      | 1        |\n",
            "|    time_elapsed    | 1        |\n",
            "|    total_timesteps | 2048     |\n",
            "---------------------------------\n"
          ]
        }
      ]
    },
    {
      "cell_type": "markdown",
      "metadata": {
        "id": "FrI6f5fWnzp-"
      },
      "source": [
        "## Conclusion\n",
        "\n",
        "In this notebook we have seen:\n",
        "- how to define and train a RL model using stable baselines3, it takes only one line of code ;)"
      ]
    },
    {
      "cell_type": "code",
      "metadata": {
        "id": "73ji3gbNDkf7"
      },
      "source": [
        ""
      ],
      "execution_count": 17,
      "outputs": []
    }
  ]
}